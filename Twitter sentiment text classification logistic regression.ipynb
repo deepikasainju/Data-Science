{
 "cells": [
  {
   "cell_type": "code",
   "execution_count": 1,
   "id": "b4bd0ad6",
   "metadata": {
    "colab": {
     "base_uri": "https://localhost:8080/"
    },
    "id": "qvuFMfBs53kk",
    "outputId": "97a9fe65-dd82-42b9-a5bc-f5db84a9343a"
   },
   "outputs": [
    {
     "name": "stderr",
     "output_type": "stream",
     "text": [
      "[nltk_data] Downloading package stopwords to C:\\Users\\Deepika\n",
      "[nltk_data]     Sainju\\AppData\\Roaming\\nltk_data...\n",
      "[nltk_data]   Package stopwords is already up-to-date!\n",
      "UsageError: unrecognized arguments: # for designs\n"
     ]
    }
   ],
   "source": [
    "import numpy as np\n",
    "import pandas as pd\n",
    "import re,string    # re=regular expression, special character haru hatauna kaam lagxa\n",
    "import matplotlib.pyplot as plt\n",
    "from nltk.corpus import stopwords  # sentence ma navaye pani meaning dine\n",
    "from nltk.stem import PorterStemmer  # porterstremmer= root word find garxa, example: root word of dancing is dance\n",
    "from sklearn.feature_extraction.text import TfidfVectorizer   \n",
    "# vayeko sabai word lai number ma convert garera vector ma convert garna use hunxa\n",
    "# each and every word lai token(number) ma convert garxa\n",
    "\n",
    "from sklearn.pipeline import Pipeline  # algorithm apply kun kun process bata pass huna parxa\n",
    "from sklearn.metrics import classification_report, confusion_matrix \n",
    "# confusion-matrix= model ley kati ko correctly classify gareko xa vanne thapauna help garxa\n",
    "\n",
    "from sklearn.model_selection import train_test_split\n",
    "from sklearn.feature_selection import SelectKBest, chi2  \n",
    "# selectKbest= k words line or select garera algorithm lagaune\n",
    "# chi2= chi square test to check accuracy\n",
    "\n",
    "import pickle\n",
    "import nltk\n",
    "nltk.download('stopwords')\n",
    "%matplotlib inline  # for designs"
   ]
  },
  {
   "cell_type": "markdown",
   "id": "c7131b7f",
   "metadata": {},
   "source": [
    "# preprocessing= unnecessary data haru hataune"
   ]
  },
  {
   "cell_type": "code",
   "execution_count": null,
   "id": "d7db01cc",
   "metadata": {
    "id": "wtSwmdAr8AwJ"
   },
   "outputs": [],
   "source": []
  },
  {
   "cell_type": "markdown",
   "id": "31bb763a",
   "metadata": {
    "id": "WSmqpMT3onW3"
   },
   "source": []
  },
  {
   "cell_type": "code",
   "execution_count": 4,
   "id": "20591c01",
   "metadata": {
    "colab": {
     "base_uri": "https://localhost:8080/",
     "height": 423
    },
    "id": "BAtLnUFL6emp",
    "outputId": "fc0818e5-2f7a-4aad-bcb1-8e49268b3d43"
   },
   "outputs": [
    {
     "data": {
      "text/html": [
       "<div>\n",
       "<style scoped>\n",
       "    .dataframe tbody tr th:only-of-type {\n",
       "        vertical-align: middle;\n",
       "    }\n",
       "\n",
       "    .dataframe tbody tr th {\n",
       "        vertical-align: top;\n",
       "    }\n",
       "\n",
       "    .dataframe thead th {\n",
       "        text-align: right;\n",
       "    }\n",
       "</style>\n",
       "<table border=\"1\" class=\"dataframe\">\n",
       "  <thead>\n",
       "    <tr style=\"text-align: right;\">\n",
       "      <th></th>\n",
       "      <th>clean_text</th>\n",
       "      <th>category</th>\n",
       "    </tr>\n",
       "  </thead>\n",
       "  <tbody>\n",
       "    <tr>\n",
       "      <th>37590</th>\n",
       "      <td>income tax dept raises 5484 crore from sale ni...</td>\n",
       "      <td>0.0</td>\n",
       "    </tr>\n",
       "    <tr>\n",
       "      <th>98930</th>\n",
       "      <td>nirav modi case hearing london court today ind...</td>\n",
       "      <td>0.0</td>\n",
       "    </tr>\n",
       "    <tr>\n",
       "      <th>43942</th>\n",
       "      <td>for some reason narendra modi has decided blow...</td>\n",
       "      <td>0.0</td>\n",
       "    </tr>\n",
       "    <tr>\n",
       "      <th>129992</th>\n",
       "      <td>congress leader chacko says prime minister nar...</td>\n",
       "      <td>-1.0</td>\n",
       "    </tr>\n",
       "    <tr>\n",
       "      <th>11384</th>\n",
       "      <td>modi government already giving much more than ...</td>\n",
       "      <td>1.0</td>\n",
       "    </tr>\n",
       "    <tr>\n",
       "      <th>...</th>\n",
       "      <td>...</td>\n",
       "      <td>...</td>\n",
       "    </tr>\n",
       "    <tr>\n",
       "      <th>50365</th>\n",
       "      <td>modi govt good govt always want this govt</td>\n",
       "      <td>1.0</td>\n",
       "    </tr>\n",
       "    <tr>\n",
       "      <th>7849</th>\n",
       "      <td>boss they want fake they can anyway per guys w...</td>\n",
       "      <td>-1.0</td>\n",
       "    </tr>\n",
       "    <tr>\n",
       "      <th>102096</th>\n",
       "      <td>modi why not talking black money did get when ...</td>\n",
       "      <td>1.0</td>\n",
       "    </tr>\n",
       "    <tr>\n",
       "      <th>20380</th>\n",
       "      <td>there was certainly better time announcement s...</td>\n",
       "      <td>1.0</td>\n",
       "    </tr>\n",
       "    <tr>\n",
       "      <th>33765</th>\n",
       "      <td>you dont vote for modi you are against india y...</td>\n",
       "      <td>0.0</td>\n",
       "    </tr>\n",
       "  </tbody>\n",
       "</table>\n",
       "<p>162980 rows × 2 columns</p>\n",
       "</div>"
      ],
      "text/plain": [
       "                                               clean_text  category\n",
       "37590   income tax dept raises 5484 crore from sale ni...       0.0\n",
       "98930   nirav modi case hearing london court today ind...       0.0\n",
       "43942   for some reason narendra modi has decided blow...       0.0\n",
       "129992  congress leader chacko says prime minister nar...      -1.0\n",
       "11384   modi government already giving much more than ...       1.0\n",
       "...                                                   ...       ...\n",
       "50365           modi govt good govt always want this govt       1.0\n",
       "7849    boss they want fake they can anyway per guys w...      -1.0\n",
       "102096  modi why not talking black money did get when ...       1.0\n",
       "20380   there was certainly better time announcement s...       1.0\n",
       "33765   you dont vote for modi you are against india y...       0.0\n",
       "\n",
       "[162980 rows x 2 columns]"
      ]
     },
     "execution_count": 4,
     "metadata": {},
     "output_type": "execute_result"
    }
   ],
   "source": [
    "df = pd.read_csv('Twitter_Data.csv', encoding = 'latin1')\n",
    "df = df.sample(frac = 1)\n",
    "df"
   ]
  },
  {
   "cell_type": "code",
   "execution_count": 5,
   "id": "46b1c738",
   "metadata": {},
   "outputs": [
    {
     "data": {
      "text/plain": [
       "11"
      ]
     },
     "execution_count": 5,
     "metadata": {},
     "output_type": "execute_result"
    }
   ],
   "source": [
    "df.isnull().sum().values.sum()"
   ]
  },
  {
   "cell_type": "code",
   "execution_count": 6,
   "id": "5adea709",
   "metadata": {},
   "outputs": [],
   "source": [
    "df=df.dropna()"
   ]
  },
  {
   "cell_type": "code",
   "execution_count": 7,
   "id": "b089d4b0",
   "metadata": {},
   "outputs": [
    {
     "data": {
      "text/plain": [
       "0"
      ]
     },
     "execution_count": 7,
     "metadata": {},
     "output_type": "execute_result"
    }
   ],
   "source": [
    "df.isnull().sum().values.sum()"
   ]
  },
  {
   "cell_type": "code",
   "execution_count": 20,
   "id": "dc01fd0c",
   "metadata": {},
   "outputs": [
    {
     "name": "stdout",
     "output_type": "stream",
     "text": [
      "<class 'pandas.core.frame.DataFrame'>\n",
      "Int64Index: 162969 entries, 37590 to 33765\n",
      "Data columns (total 2 columns):\n",
      " #   Column      Non-Null Count   Dtype  \n",
      "---  ------      --------------   -----  \n",
      " 0   clean_text  162969 non-null  object \n",
      " 1   category    162969 non-null  float64\n",
      "dtypes: float64(1), object(1)\n",
      "memory usage: 3.7+ MB\n"
     ]
    }
   ],
   "source": [
    "df.info()"
   ]
  },
  {
   "cell_type": "code",
   "execution_count": 9,
   "id": "a6743648",
   "metadata": {
    "colab": {
     "base_uri": "https://localhost:8080/"
    },
    "id": "833043k1zE5O",
    "outputId": "2143e1bf-76b8-4637-c98e-f506c1a3ea91"
   },
   "outputs": [
    {
     "data": {
      "text/plain": [
       "category\n",
       "-1.0    35509\n",
       " 0.0    55211\n",
       " 1.0    72249\n",
       "Name: category, dtype: int64"
      ]
     },
     "execution_count": 9,
     "metadata": {},
     "output_type": "execute_result"
    }
   ],
   "source": [
    "df.groupby('category').category.count()\n",
    "# category ko adhar ma grouping garera count gareko"
   ]
  },
  {
   "cell_type": "code",
   "execution_count": 10,
   "id": "f021b18b",
   "metadata": {
    "colab": {
     "base_uri": "https://localhost:8080/",
     "height": 535
    },
    "id": "PadVAxI17lgb",
    "outputId": "b49afcb3-91be-498f-ad35-a6cb55babd5b"
   },
   "outputs": [
    {
     "data": {
      "image/png": "[encoded data removed]",
      "text/plain": [
       "<Figure size 640x480 with 1 Axes>"
      ]
     },
     "metadata": {},
     "output_type": "display_data"
    }
   ],
   "source": [
    "#Analyzing data\n",
    "df.groupby('category').category.count().plot.bar()\n",
    "plt.show()"
   ]
  },
  {
   "cell_type": "markdown",
   "id": "997f9179",
   "metadata": {},
   "source": [
    "# data preprocessing\n",
    "takes lot of time"
   ]
  },
  {
   "cell_type": "code",
   "execution_count": null,
   "id": "8e4cc895",
   "metadata": {
    "id": "ugCn7fzTh-pY"
   },
   "outputs": [],
   "source": [
    "# df['text'] = [re.sub(\"[^a-zA-Z]\", \" \", i).lower() for i in df['text']]"
   ]
  },
  {
   "cell_type": "code",
   "execution_count": 11,
   "id": "6d966c8c",
   "metadata": {
    "colab": {
     "base_uri": "https://localhost:8080/"
    },
    "id": "7RDOg2Vcz0w_",
    "outputId": "f13a21b2-c5c0-44fd-99df-fcb6e8567f32"
   },
   "outputs": [
    {
     "name": "stdout",
     "output_type": "stream",
     "text": [
      "['i', 'me', 'my', 'myself', 'we', 'our', 'ours', 'ourselves', 'you', \"you're\", \"you've\", \"you'll\", \"you'd\", 'your', 'yours', 'yourself', 'yourselves', 'he', 'him', 'his', 'himself', 'she', \"she's\", 'her', 'hers', 'herself', 'it', \"it's\", 'its', 'itself', 'they', 'them', 'their', 'theirs', 'themselves', 'what', 'which', 'who', 'whom', 'this', 'that', \"that'll\", 'these', 'those', 'am', 'is', 'are', 'was', 'were', 'be', 'been', 'being', 'have', 'has', 'had', 'having', 'do', 'does', 'did', 'doing', 'a', 'an', 'the', 'and', 'but', 'if', 'or', 'because', 'as', 'until', 'while', 'of', 'at', 'by', 'for', 'with', 'about', 'against', 'between', 'into', 'through', 'during', 'before', 'after', 'above', 'below', 'to', 'from', 'up', 'down', 'in', 'out', 'on', 'off', 'over', 'under', 'again', 'further', 'then', 'once', 'here', 'there', 'when', 'where', 'why', 'how', 'all', 'any', 'both', 'each', 'few', 'more', 'most', 'other', 'some', 'such', 'no', 'nor', 'not', 'only', 'own', 'same', 'so', 'than', 'too', 'very', 's', 't', 'can', 'will', 'just', 'don', \"don't\", 'should', \"should've\", 'now', 'd', 'll', 'm', 'o', 're', 've', 'y', 'ain', 'aren', \"aren't\", 'couldn', \"couldn't\", 'didn', \"didn't\", 'doesn', \"doesn't\", 'hadn', \"hadn't\", 'hasn', \"hasn't\", 'haven', \"haven't\", 'isn', \"isn't\", 'ma', 'mightn', \"mightn't\", 'mustn', \"mustn't\", 'needn', \"needn't\", 'shan', \"shan't\", 'shouldn', \"shouldn't\", 'wasn', \"wasn't\", 'weren', \"weren't\", 'won', \"won't\", 'wouldn', \"wouldn't\"]\n"
     ]
    },
    {
     "name": "stderr",
     "output_type": "stream",
     "text": [
      "[nltk_data] Downloading package stopwords to C:\\Users\\Deepika\n",
      "[nltk_data]     Sainju\\AppData\\Roaming\\nltk_data...\n",
      "[nltk_data]   Package stopwords is already up-to-date!\n"
     ]
    }
   ],
   "source": [
    "#stop words\n",
    "nltk.download('stopwords')\n",
    "words = stopwords.words(\"english\")\n",
    "print(words)"
   ]
  },
  {
   "cell_type": "code",
   "execution_count": 12,
   "id": "457f8c68",
   "metadata": {
    "colab": {
     "base_uri": "https://localhost:8080/",
     "height": 36
    },
    "id": "bQU9V9SN1yUy",
    "outputId": "f8049d53-677d-4fb0-fd8d-aad7d313c640"
   },
   "outputs": [
    {
     "name": "stdout",
     "output_type": "stream",
     "text": [
      "['i', 'am', 'love', 'comput']\n"
     ]
    },
    {
     "data": {
      "text/plain": [
       "'i am love comput'"
      ]
     },
     "execution_count": 12,
     "metadata": {},
     "output_type": "execute_result"
    }
   ],
   "source": [
    "# Data Cleaning using stemmer\n",
    "\n",
    "stemmer = PorterStemmer()\n",
    "data = \"I am loving computing\".split()\n",
    "print([stemmer.stem(i) for i in data])\n",
    "\" \".join([stemmer.stem(i) for i in data])"
   ]
  },
  {
   "cell_type": "code",
   "execution_count": 13,
   "id": "d48589f2",
   "metadata": {
    "colab": {
     "base_uri": "https://localhost:8080/",
     "height": 36
    },
    "id": "wO_YX5I8Y4Ji",
    "outputId": "46d9bde0-728a-4269-ea4d-1b968f173957"
   },
   "outputs": [
    {
     "data": {
      "text/plain": [
       "'i am love comput'"
      ]
     },
     "execution_count": 13,
     "metadata": {},
     "output_type": "execute_result"
    }
   ],
   "source": [
    "data = \"I am loving computing\".split()\n",
    "\" \".join([stemmer.stem(i) for i in data])\n",
    "# stemmer.stem(\"I am loving computing\")\n"
   ]
  },
  {
   "cell_type": "code",
   "execution_count": null,
   "id": "9a6089c5",
   "metadata": {
    "id": "mZPU9uU5fr2I"
   },
   "outputs": [],
   "source": [
    "# Data Cleaning removing stopwords"
   ]
  },
  {
   "cell_type": "code",
   "execution_count": 14,
   "id": "117fdd97",
   "metadata": {
    "colab": {
     "base_uri": "https://localhost:8080/",
     "height": 36
    },
    "id": "nsXVZKSiakhv",
    "outputId": "74d7faf9-2af6-42a8-9200-da908f93d39d"
   },
   "outputs": [
    {
     "data": {
      "text/plain": [
       "' loving computing'"
      ]
     },
     "execution_count": 14,
     "metadata": {},
     "output_type": "execute_result"
    }
   ],
   "source": [
    "news = ''\n",
    "data = \"i am loving computing\".split()\n",
    "for i in data:\n",
    "  if i not in words:  # i stopwords haina vane news ma save hunxa\n",
    "    news = news + \" \" +i\n",
    "news"
   ]
  },
  {
   "cell_type": "code",
   "execution_count": 15,
   "id": "1fe4907f",
   "metadata": {
    "colab": {
     "base_uri": "https://localhost:8080/",
     "height": 423
    },
    "id": "8iBXfOfoFvaF",
    "outputId": "e2257621-774a-4515-d43d-e83cb715519b"
   },
   "outputs": [
    {
     "name": "stderr",
     "output_type": "stream",
     "text": [
      "C:\\Users\\Deepika Sainju\\AppData\\Local\\Temp\\ipykernel_7236\\2510326521.py:2: SettingWithCopyWarning: \n",
      "A value is trying to be set on a copy of a slice from a DataFrame.\n",
      "Try using .loc[row_indexer,col_indexer] = value instead\n",
      "\n",
      "See the caveats in the documentation: https://pandas.pydata.org/pandas-docs/stable/user_guide/indexing.html#returning-a-view-versus-a-copy\n",
      "  df['clean_text'] = [re.sub(\"[^a-zA-Z]\", \" \", i).lower() for i in df['clean_text']] #a-z ra A-Z bahek sabalai hatako\n",
      "C:\\Users\\Deepika Sainju\\AppData\\Local\\Temp\\ipykernel_7236\\2510326521.py:3: SettingWithCopyWarning: \n",
      "A value is trying to be set on a copy of a slice from a DataFrame.\n",
      "Try using .loc[row_indexer,col_indexer] = value instead\n",
      "\n",
      "See the caveats in the documentation: https://pandas.pydata.org/pandas-docs/stable/user_guide/indexing.html#returning-a-view-versus-a-copy\n",
      "  df['clean_text'] = list(map(lambda x: \" \".join([i for i in x.lower().split() if i not in words]), df['clean_text']))\n"
     ]
    },
    {
     "data": {
      "text/html": [
       "<div>\n",
       "<style scoped>\n",
       "    .dataframe tbody tr th:only-of-type {\n",
       "        vertical-align: middle;\n",
       "    }\n",
       "\n",
       "    .dataframe tbody tr th {\n",
       "        vertical-align: top;\n",
       "    }\n",
       "\n",
       "    .dataframe thead th {\n",
       "        text-align: right;\n",
       "    }\n",
       "</style>\n",
       "<table border=\"1\" class=\"dataframe\">\n",
       "  <thead>\n",
       "    <tr style=\"text-align: right;\">\n",
       "      <th></th>\n",
       "      <th>clean_text</th>\n",
       "      <th>category</th>\n",
       "    </tr>\n",
       "  </thead>\n",
       "  <tbody>\n",
       "    <tr>\n",
       "      <th>37590</th>\n",
       "      <td>income tax dept raises crore sale nirav modis ...</td>\n",
       "      <td>0.0</td>\n",
       "    </tr>\n",
       "    <tr>\n",
       "      <th>98930</th>\n",
       "      <td>nirav modi case hearing london court today ind...</td>\n",
       "      <td>0.0</td>\n",
       "    </tr>\n",
       "    <tr>\n",
       "      <th>43942</th>\n",
       "      <td>reason narendra modi decided blow satellite sk...</td>\n",
       "      <td>0.0</td>\n",
       "    </tr>\n",
       "    <tr>\n",
       "      <th>129992</th>\n",
       "      <td>congress leader chacko says prime minister nar...</td>\n",
       "      <td>-1.0</td>\n",
       "    </tr>\n",
       "    <tr>\n",
       "      <th>11384</th>\n",
       "      <td>modi government already giving much promising</td>\n",
       "      <td>1.0</td>\n",
       "    </tr>\n",
       "    <tr>\n",
       "      <th>...</th>\n",
       "      <td>...</td>\n",
       "      <td>...</td>\n",
       "    </tr>\n",
       "    <tr>\n",
       "      <th>50365</th>\n",
       "      <td>modi govt good govt always want govt</td>\n",
       "      <td>1.0</td>\n",
       "    </tr>\n",
       "    <tr>\n",
       "      <th>7849</th>\n",
       "      <td>boss want fake anyway per guys anti modi good ...</td>\n",
       "      <td>-1.0</td>\n",
       "    </tr>\n",
       "    <tr>\n",
       "      <th>102096</th>\n",
       "      <td>modi talking black money get done promises tel...</td>\n",
       "      <td>1.0</td>\n",
       "    </tr>\n",
       "    <tr>\n",
       "      <th>20380</th>\n",
       "      <td>certainly better time announcement shouldve co...</td>\n",
       "      <td>1.0</td>\n",
       "    </tr>\n",
       "    <tr>\n",
       "      <th>33765</th>\n",
       "      <td>dont vote modi india dont vote vataal paksha k...</td>\n",
       "      <td>0.0</td>\n",
       "    </tr>\n",
       "  </tbody>\n",
       "</table>\n",
       "<p>162969 rows × 2 columns</p>\n",
       "</div>"
      ],
      "text/plain": [
       "                                               clean_text  category\n",
       "37590   income tax dept raises crore sale nirav modis ...       0.0\n",
       "98930   nirav modi case hearing london court today ind...       0.0\n",
       "43942   reason narendra modi decided blow satellite sk...       0.0\n",
       "129992  congress leader chacko says prime minister nar...      -1.0\n",
       "11384       modi government already giving much promising       1.0\n",
       "...                                                   ...       ...\n",
       "50365                modi govt good govt always want govt       1.0\n",
       "7849    boss want fake anyway per guys anti modi good ...      -1.0\n",
       "102096  modi talking black money get done promises tel...       1.0\n",
       "20380   certainly better time announcement shouldve co...       1.0\n",
       "33765   dont vote modi india dont vote vataal paksha k...       0.0\n",
       "\n",
       "[162969 rows x 2 columns]"
      ]
     },
     "execution_count": 15,
     "metadata": {},
     "output_type": "execute_result"
    }
   ],
   "source": [
    "# Doing all cleaning process using regex, stemmer, stopwords for all data\n",
    "df['clean_text'] = [re.sub(\"[^a-zA-Z]\", \" \", i).lower() for i in df['clean_text']] #a-z ra A-Z bahek sabalai hatako\n",
    "df['clean_text'] = list(map(lambda x: \" \".join([i for i in x.lower().split() if i not in words]), df['clean_text']))\n",
    "df"
   ]
  },
  {
   "cell_type": "code",
   "execution_count": 16,
   "id": "6d0a13b8",
   "metadata": {
    "id": "8fzgwwiH0nGA"
   },
   "outputs": [],
   "source": [
    "df.to_csv('cleaned_twitter_data.csv')"
   ]
  },
  {
   "cell_type": "code",
   "execution_count": null,
   "id": "fdbd6cab",
   "metadata": {
    "id": "Fy6sMijW1bZa"
   },
   "outputs": [],
   "source": [
    "pwd"
   ]
  },
  {
   "cell_type": "code",
   "execution_count": null,
   "id": "556fce10",
   "metadata": {
    "id": "76wP0Gl7s-Eb"
   },
   "outputs": [],
   "source": [
    "# df['cleaned'] = df['text'].apply(lambda x: \" \".join([stemmer.stem(i) for i in re.sub(\"[^a-zA-Z]\", \" \", x).split() ]).lower())\n",
    "# df"
   ]
  },
  {
   "cell_type": "code",
   "execution_count": null,
   "id": "125166a5",
   "metadata": {
    "id": "rpyZb6DBr0yS"
   },
   "outputs": [],
   "source": [
    "# print(words)"
   ]
  },
  {
   "cell_type": "code",
   "execution_count": null,
   "id": "ef4b22c3",
   "metadata": {
    "id": "9QpxBwUMvFrW"
   },
   "outputs": [],
   "source": [
    "# words = stopwords.words(\"nepali\")\n",
    "# words"
   ]
  },
  {
   "cell_type": "code",
   "execution_count": null,
   "id": "246d7942",
   "metadata": {
    "id": "e7YQAi-Asdy2"
   },
   "outputs": [],
   "source": [
    "# df['cleaned'] = df['text'].apply(lambda x: \" \".join([stemmer.stem(i) for i in re.sub(\"[^a-zA-Z]\", \" \", x).split() if i not in words]).lower())\n",
    "# df"
   ]
  },
  {
   "cell_type": "code",
   "execution_count": 17,
   "id": "bc24b7ac",
   "metadata": {
    "id": "qunZeGdV_GLj"
   },
   "outputs": [],
   "source": [
    "# Training model\n",
    "from sklearn.linear_model import LogisticRegression\n",
    "log_regression = LogisticRegression()\n",
    "\n",
    "vectorizer = TfidfVectorizer() \n",
    "\n",
    "X = df['clean_text'] #indepedent \n",
    "Y = df['category'] #dependent\n",
    "\n",
    "X_train, X_test, y_train, y_test = train_test_split(X, Y, test_size=0.15) #Splitting dataset\n",
    "\n",
    "# #Creating Pipeline\n",
    "pipeline = Pipeline([('vect', vectorizer), #vectorizer = TfidfVectorizer()\n",
    "                     ('chi',  SelectKBest(chi2, k=2000)), #each news bata 2000 words choose gara vaneko\n",
    "                     ('clf', LogisticRegression(random_state=1,max_iter=1000))]) #logistic regression classifier use gara vaneko\n",
    "\n",
    "\n",
    "\n",
    "# #Training model\n",
    "model = pipeline.fit(X_train, y_train)\n",
    "\n",
    "# #Creating pickle file\n",
    "# with open('LogisticRegression.pickle', 'wb') as f:\n",
    "#     pickle.dump(model, f)"
   ]
  },
  {
   "cell_type": "code",
   "execution_count": 18,
   "id": "937048a0",
   "metadata": {
    "colab": {
     "base_uri": "https://localhost:8080/"
    },
    "id": "gSyRFPq-duso",
    "outputId": "d6b9c4de-68fb-4a41-ff43-76f9f64fb9f0"
   },
   "outputs": [
    {
     "data": {
      "text/plain": [
       "113248    modi last years diplomacy brought brave heart ...\n",
       "101265                                     achievement modi\n",
       "46273     current announcement modi hence place vote bjp...\n",
       "113232    thought raulvinci alone special abilities woma...\n",
       "5687         owaisi brothers target modi chowkidar campaign\n",
       "                                ...                        \n",
       "117723    malik take modi statement well market showchannel\n",
       "60732     dubbing bjp ysrcp husband wife andhra pradesh ...\n",
       "139873              hello ravinar jiwill guj give modi year\n",
       "10978     modis become rahul alrightdont know swamy alre...\n",
       "41542                      victory modi sold entire country\n",
       "Name: clean_text, Length: 24446, dtype: object"
      ]
     },
     "execution_count": 18,
     "metadata": {},
     "output_type": "execute_result"
    }
   ],
   "source": [
    "X_test"
   ]
  },
  {
   "cell_type": "code",
   "execution_count": 19,
   "id": "faf5a760",
   "metadata": {
    "colab": {
     "base_uri": "https://localhost:8080/"
    },
    "id": "aAZIfQmWIlP1",
    "outputId": "611c21d0-5948-482a-b557-6901d49b7b70"
   },
   "outputs": [
    {
     "name": "stdout",
     "output_type": "stream",
     "text": [
      "0.8965474924322998\n"
     ]
    }
   ],
   "source": [
    "#Accuracy\n",
    "from sklearn.metrics import accuracy_score\n",
    "predict_news_cat = model.predict(X_test) #x_test ma vayeko news ko category predict gareko\n",
    "print(accuracy_score(y_test,predict_news_cat))\n",
    "# print('\\n')\n",
    "# print(predict_news_cat)"
   ]
  },
  {
   "cell_type": "code",
   "execution_count": 22,
   "id": "3bc7da11",
   "metadata": {
    "colab": {
     "base_uri": "https://localhost:8080/"
    },
    "id": "5S-Fnbr-DT65",
    "outputId": "c658f92d-05be-41af-90c5-95c8d3cdc42f"
   },
   "outputs": [
    {
     "name": "stdout",
     "output_type": "stream",
     "text": [
      "Enter news = i like the movie\n",
      "Predicted news category =  0.0\n"
     ]
    }
   ],
   "source": [
    "# file = open('news.txt','r')\n",
    "# news = file.read()\n",
    "# file.close()\n",
    "\n",
    "news = input(\"Enter news = \")\n",
    "news_data = {'predict_news':[news]} # input news lai dictionary ma change gareko\n",
    "news_data_df = pd.DataFrame(news_data) # dataframe ma change gareko\n",
    "# news_data_df\n",
    "predict_news_cat = model.predict(news_data_df['predict_news'])\n",
    "print(\"Predicted news category = \",predict_news_cat[0])"
   ]
  },
  {
   "cell_type": "code",
   "execution_count": 23,
   "id": "29121aca",
   "metadata": {
    "colab": {
     "base_uri": "https://localhost:8080/"
    },
    "id": "y24Ctjrm_rpj",
    "outputId": "8949d2d5-4315-4c84-926d-bf1b74fd8178"
   },
   "outputs": [
    {
     "name": "stdout",
     "output_type": "stream",
     "text": [
      "              precision    recall  f1-score   support\n",
      "\n",
      "        -1.0       0.89      0.77      0.83      5398\n",
      "         0.0       0.86      0.98      0.92      8217\n",
      "         1.0       0.93      0.90      0.91     10831\n",
      "\n",
      "    accuracy                           0.90     24446\n",
      "   macro avg       0.89      0.88      0.89     24446\n",
      "weighted avg       0.90      0.90      0.90     24446\n",
      "\n",
      "[[4175   79  426]\n",
      " [ 588 8012  675]\n",
      " [ 635  126 9730]]\n"
     ]
    }
   ],
   "source": [
    "from sklearn.metrics import classification_report, confusion_matrix \n",
    "ytest = np.array(y_test)\n",
    "print(classification_report(ytest,model.predict(X_test))) #predefined function\n",
    "print(confusion_matrix(model.predict(X_test),ytest))"
   ]
  },
  {
   "cell_type": "code",
   "execution_count": 27,
   "id": "9dced01b",
   "metadata": {
    "colab": {
     "base_uri": "https://localhost:8080/",
     "height": 666
    },
    "id": "0CoGLcdeMxjw",
    "outputId": "adbb115a-c97f-4712-ed4c-f727c1efc455"
   },
   "outputs": [
    {
     "data": {
      "image/png": "[encoded data removed]",
      "text/plain": [
       "<Figure size 800x800 with 2 Axes>"
      ]
     },
     "metadata": {},
     "output_type": "display_data"
    }
   ],
   "source": [
    "import matplotlib.pyplot as plt\n",
    "from sklearn.metrics import ConfusionMatrixDisplay\n",
    "cm = confusion_matrix(model.predict(X_test),ytest)\n",
    "# Change figure size and increase dpi for better resolution\n",
    "# and get reference to axes object\n",
    "fig, ax = plt.subplots(figsize=(8,8), dpi=100)\n",
    "class_names = ['-1.0','0.0','1.0']\n",
    "# initialize using the raw 2D confusion matrix\n",
    "# and output labels (in our case, it's 0 and 1)\n",
    "display = ConfusionMatrixDisplay(cm, display_labels=class_names)\n",
    "\n",
    "# set the plot title using the axes object\n",
    "ax.set(title='Confusion Matrix for the Twitter Text Classification Model')\n",
    "\n",
    "# show the plot.\n",
    "# Pass the parameter ax to show customizations (ex. title)\n",
    "display.plot(ax=ax);"
   ]
  },
  {
   "cell_type": "code",
   "execution_count": null,
   "id": "5d810faa",
   "metadata": {},
   "outputs": [],
   "source": []
  }
 ],
 "metadata": {
  "kernelspec": {
   "display_name": "Python 3 (ipykernel)",
   "language": "python",
   "name": "python3"
  },
  "language_info": {
   "codemirror_mode": {
    "name": "ipython",
    "version": 3
   },
   "file_extension": ".py",
   "mimetype": "text/x-python",
   "name": "python",
   "nbconvert_exporter": "python",
   "pygments_lexer": "ipython3",
   "version": "3.11.4"
  }
 },
 "nbformat": 4,
 "nbformat_minor": 5
}
