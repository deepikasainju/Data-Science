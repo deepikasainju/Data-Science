{
 "cells": [
  {
   "cell_type": "code",
   "execution_count": 1,
   "metadata": {
    "colab": {
     "base_uri": "https://localhost:8080/"
    },
    "id": "qvuFMfBs53kk",
    "outputId": "97a9fe65-dd82-42b9-a5bc-f5db84a9343a"
   },
   "outputs": [
    {
     "name": "stderr",
     "output_type": "stream",
     "text": [
      "[nltk_data] Downloading package stopwords to C:\\Users\\Deepika\n",
      "[nltk_data]     Sainju\\AppData\\Roaming\\nltk_data...\n",
      "[nltk_data]   Package stopwords is already up-to-date!\n",
      "UsageError: unrecognized arguments: # for designs\n"
     ]
    }
   ],
   "source": [
    "import numpy as np\n",
    "import pandas as pd\n",
    "import re,string    # re=regular expression, special character haru hatauna kaam lagxa\n",
    "import matplotlib.pyplot as plt\n",
    "from nltk.corpus import stopwords  # sentence ma navaye pani meaning dine\n",
    "from nltk.stem import PorterStemmer  # porterstremmer= root word find garxa, example: root word of dancing is dance\n",
    "from sklearn.feature_extraction.text import TfidfVectorizer   \n",
    "# vayeko sabai word lai number ma convert garera vector ma convert garna use hunxa\n",
    "# each and every word lai token(number) ma convert garxa\n",
    "\n",
    "from sklearn.pipeline import Pipeline  # algorithm apply kun kun process bata pass huna parxa\n",
    "from sklearn.metrics import classification_report, confusion_matrix \n",
    "# confusion-matrix= model ley kati ko correctly classify gareko xa vanne thapauna help garxa\n",
    "\n",
    "from sklearn.model_selection import train_test_split\n",
    "from sklearn.feature_selection import SelectKBest, chi2  \n",
    "# selectKbest= k words line or select garera algorithm lagaune\n",
    "# chi2= chi square test to check accuracy\n",
    "\n",
    "import pickle\n",
    "import nltk\n",
    "nltk.download('stopwords')\n",
    "%matplotlib inline  # for designs"
   ]
  },
  {
   "cell_type": "markdown",
   "metadata": {},
   "source": [
    "# preprocessing= unnecessary data haru hataune"
   ]
  },
  {
   "cell_type": "code",
   "execution_count": null,
   "metadata": {
    "id": "wtSwmdAr8AwJ"
   },
   "outputs": [],
   "source": []
  },
  {
   "cell_type": "markdown",
   "metadata": {
    "id": "WSmqpMT3onW3"
   },
   "source": []
  },
  {
   "cell_type": "code",
   "execution_count": 3,
   "metadata": {
    "colab": {
     "base_uri": "https://localhost:8080/",
     "height": 423
    },
    "id": "BAtLnUFL6emp",
    "outputId": "fc0818e5-2f7a-4aad-bcb1-8e49268b3d43"
   },
   "outputs": [
    {
     "data": {
      "text/html": [
       "<div>\n",
       "<style scoped>\n",
       "    .dataframe tbody tr th:only-of-type {\n",
       "        vertical-align: middle;\n",
       "    }\n",
       "\n",
       "    .dataframe tbody tr th {\n",
       "        vertical-align: top;\n",
       "    }\n",
       "\n",
       "    .dataframe thead th {\n",
       "        text-align: right;\n",
       "    }\n",
       "</style>\n",
       "<table border=\"1\" class=\"dataframe\">\n",
       "  <thead>\n",
       "    <tr style=\"text-align: right;\">\n",
       "      <th></th>\n",
       "      <th>category</th>\n",
       "      <th>text</th>\n",
       "    </tr>\n",
       "  </thead>\n",
       "  <tbody>\n",
       "    <tr>\n",
       "      <th>1248</th>\n",
       "      <td>sport</td>\n",
       "      <td>o sullivan quick to hail italians ireland coac...</td>\n",
       "    </tr>\n",
       "    <tr>\n",
       "      <th>2020</th>\n",
       "      <td>business</td>\n",
       "      <td>ad sales boost time warner profit quarterly pr...</td>\n",
       "    </tr>\n",
       "    <tr>\n",
       "      <th>865</th>\n",
       "      <td>entertainment</td>\n",
       "      <td>brits debate over  urban  music joss stone  a ...</td>\n",
       "    </tr>\n",
       "    <tr>\n",
       "      <th>238</th>\n",
       "      <td>business</td>\n",
       "      <td>s&amp;n extends indian beer venture the uk s bigge...</td>\n",
       "    </tr>\n",
       "    <tr>\n",
       "      <th>587</th>\n",
       "      <td>sport</td>\n",
       "      <td>kluft impressed by sotherton form olympic hept...</td>\n",
       "    </tr>\n",
       "    <tr>\n",
       "      <th>...</th>\n",
       "      <td>...</td>\n",
       "      <td>...</td>\n",
       "    </tr>\n",
       "    <tr>\n",
       "      <th>2117</th>\n",
       "      <td>sport</td>\n",
       "      <td>wales stars need a rest - ruddock wales coach ...</td>\n",
       "    </tr>\n",
       "    <tr>\n",
       "      <th>610</th>\n",
       "      <td>tech</td>\n",
       "      <td>broadband fuels online expression fast web acc...</td>\n",
       "    </tr>\n",
       "    <tr>\n",
       "      <th>2047</th>\n",
       "      <td>business</td>\n",
       "      <td>bombardier chief to leave company shares in tr...</td>\n",
       "    </tr>\n",
       "    <tr>\n",
       "      <th>1317</th>\n",
       "      <td>politics</td>\n",
       "      <td>labour s four little words labour has unveiled...</td>\n",
       "    </tr>\n",
       "    <tr>\n",
       "      <th>1372</th>\n",
       "      <td>sport</td>\n",
       "      <td>costin aims for comeback in 2006 jamie costin ...</td>\n",
       "    </tr>\n",
       "  </tbody>\n",
       "</table>\n",
       "<p>2225 rows × 2 columns</p>\n",
       "</div>"
      ],
      "text/plain": [
       "           category                                               text\n",
       "1248          sport  o sullivan quick to hail italians ireland coac...\n",
       "2020       business  ad sales boost time warner profit quarterly pr...\n",
       "865   entertainment  brits debate over  urban  music joss stone  a ...\n",
       "238        business  s&n extends indian beer venture the uk s bigge...\n",
       "587           sport  kluft impressed by sotherton form olympic hept...\n",
       "...             ...                                                ...\n",
       "2117          sport  wales stars need a rest - ruddock wales coach ...\n",
       "610            tech  broadband fuels online expression fast web acc...\n",
       "2047       business  bombardier chief to leave company shares in tr...\n",
       "1317       politics  labour s four little words labour has unveiled...\n",
       "1372          sport  costin aims for comeback in 2006 jamie costin ...\n",
       "\n",
       "[2225 rows x 2 columns]"
      ]
     },
     "execution_count": 3,
     "metadata": {},
     "output_type": "execute_result"
    }
   ],
   "source": [
    "df = pd.read_csv('bbc-text.csv', encoding = 'latin1')\n",
    "# jasto pani data read garna encoding='latini' garne\n",
    "df = df.sample(frac = 1)\n",
    "# frac=1 for shuffle\n",
    "df"
   ]
  },
  {
   "cell_type": "code",
   "execution_count": 4,
   "metadata": {
    "colab": {
     "base_uri": "https://localhost:8080/"
    },
    "id": "G7c8rULu8LQZ",
    "outputId": "0ee39809-1810-4319-c256-acf1c75a5b92"
   },
   "outputs": [
    {
     "name": "stdout",
     "output_type": "stream",
     "text": [
      "{'business', 'politics', 'entertainment', 'tech', 'sport'}\n"
     ]
    },
    {
     "data": {
      "text/plain": [
       "5"
      ]
     },
     "execution_count": 4,
     "metadata": {},
     "output_type": "execute_result"
    }
   ],
   "source": [
    "#No of a categories\n",
    "print(set(df['category']))\n",
    "len(set(df['category']))\n",
    "\n",
    "# set ley unique data matra linxa"
   ]
  },
  {
   "cell_type": "code",
   "execution_count": 5,
   "metadata": {
    "colab": {
     "base_uri": "https://localhost:8080/"
    },
    "id": "833043k1zE5O",
    "outputId": "2143e1bf-76b8-4637-c98e-f506c1a3ea91"
   },
   "outputs": [
    {
     "data": {
      "text/plain": [
       "category\n",
       "business         510\n",
       "entertainment    386\n",
       "politics         417\n",
       "sport            511\n",
       "tech             401\n",
       "Name: category, dtype: int64"
      ]
     },
     "execution_count": 5,
     "metadata": {},
     "output_type": "execute_result"
    }
   ],
   "source": [
    "df.groupby('category').category.count()\n",
    "# category ko adhar ma grouping garera count gareko"
   ]
  },
  {
   "cell_type": "code",
   "execution_count": 6,
   "metadata": {
    "colab": {
     "base_uri": "https://localhost:8080/",
     "height": 535
    },
    "id": "PadVAxI17lgb",
    "outputId": "b49afcb3-91be-498f-ad35-a6cb55babd5b"
   },
   "outputs": [
    {
     "data": {
      "image/png": "[encoded data removed]",
      "text/plain": [
       "<Figure size 640x480 with 1 Axes>"
      ]
     },
     "metadata": {},
     "output_type": "display_data"
    }
   ],
   "source": [
    "#Analyzing data\n",
    "df.groupby('category').category.count().plot.bar()\n",
    "plt.show()"
   ]
  },
  {
   "cell_type": "markdown",
   "metadata": {},
   "source": [
    "# data preprocessing\n",
    "takes lot of time"
   ]
  },
  {
   "cell_type": "code",
   "execution_count": null,
   "metadata": {
    "id": "ugCn7fzTh-pY"
   },
   "outputs": [],
   "source": [
    "# df['text'] = [re.sub(\"[^a-zA-Z]\", \" \", i).lower() for i in df['text']]"
   ]
  },
  {
   "cell_type": "code",
   "execution_count": 7,
   "metadata": {
    "colab": {
     "base_uri": "https://localhost:8080/"
    },
    "id": "7RDOg2Vcz0w_",
    "outputId": "f13a21b2-c5c0-44fd-99df-fcb6e8567f32"
   },
   "outputs": [
    {
     "name": "stdout",
     "output_type": "stream",
     "text": [
      "['i', 'me', 'my', 'myself', 'we', 'our', 'ours', 'ourselves', 'you', \"you're\", \"you've\", \"you'll\", \"you'd\", 'your', 'yours', 'yourself', 'yourselves', 'he', 'him', 'his', 'himself', 'she', \"she's\", 'her', 'hers', 'herself', 'it', \"it's\", 'its', 'itself', 'they', 'them', 'their', 'theirs', 'themselves', 'what', 'which', 'who', 'whom', 'this', 'that', \"that'll\", 'these', 'those', 'am', 'is', 'are', 'was', 'were', 'be', 'been', 'being', 'have', 'has', 'had', 'having', 'do', 'does', 'did', 'doing', 'a', 'an', 'the', 'and', 'but', 'if', 'or', 'because', 'as', 'until', 'while', 'of', 'at', 'by', 'for', 'with', 'about', 'against', 'between', 'into', 'through', 'during', 'before', 'after', 'above', 'below', 'to', 'from', 'up', 'down', 'in', 'out', 'on', 'off', 'over', 'under', 'again', 'further', 'then', 'once', 'here', 'there', 'when', 'where', 'why', 'how', 'all', 'any', 'both', 'each', 'few', 'more', 'most', 'other', 'some', 'such', 'no', 'nor', 'not', 'only', 'own', 'same', 'so', 'than', 'too', 'very', 's', 't', 'can', 'will', 'just', 'don', \"don't\", 'should', \"should've\", 'now', 'd', 'll', 'm', 'o', 're', 've', 'y', 'ain', 'aren', \"aren't\", 'couldn', \"couldn't\", 'didn', \"didn't\", 'doesn', \"doesn't\", 'hadn', \"hadn't\", 'hasn', \"hasn't\", 'haven', \"haven't\", 'isn', \"isn't\", 'ma', 'mightn', \"mightn't\", 'mustn', \"mustn't\", 'needn', \"needn't\", 'shan', \"shan't\", 'shouldn', \"shouldn't\", 'wasn', \"wasn't\", 'weren', \"weren't\", 'won', \"won't\", 'wouldn', \"wouldn't\"]\n"
     ]
    },
    {
     "name": "stderr",
     "output_type": "stream",
     "text": [
      "[nltk_data] Downloading package stopwords to C:\\Users\\Deepika\n",
      "[nltk_data]     Sainju\\AppData\\Roaming\\nltk_data...\n",
      "[nltk_data]   Package stopwords is already up-to-date!\n"
     ]
    }
   ],
   "source": [
    "#stop words\n",
    "nltk.download('stopwords')\n",
    "words = stopwords.words(\"english\")\n",
    "print(words)"
   ]
  },
  {
   "cell_type": "code",
   "execution_count": 13,
   "metadata": {
    "colab": {
     "base_uri": "https://localhost:8080/",
     "height": 36
    },
    "id": "bQU9V9SN1yUy",
    "outputId": "f8049d53-677d-4fb0-fd8d-aad7d313c640"
   },
   "outputs": [
    {
     "name": "stdout",
     "output_type": "stream",
     "text": [
      "['i', 'am', 'love', 'comput']\n"
     ]
    },
    {
     "data": {
      "text/plain": [
       "'i am love comput'"
      ]
     },
     "execution_count": 13,
     "metadata": {},
     "output_type": "execute_result"
    }
   ],
   "source": [
    "# Data Cleaning using stemmer\n",
    "\n",
    "stemmer = PorterStemmer()\n",
    "data = \"I am loving computing\".split()\n",
    "print([stemmer.stem(i) for i in data])\n",
    "\" \".join([stemmer.stem(i) for i in data])\n",
    "# stemmer.stem(\"\")\n",
    "# root word patta lagako\n",
    "# root word patta lagayo vane tyei root vayeko words lai same manxa"
   ]
  },
  {
   "cell_type": "code",
   "execution_count": 10,
   "metadata": {
    "colab": {
     "base_uri": "https://localhost:8080/",
     "height": 36
    },
    "id": "wO_YX5I8Y4Ji",
    "outputId": "46d9bde0-728a-4269-ea4d-1b968f173957"
   },
   "outputs": [
    {
     "data": {
      "text/plain": [
       "'i am love comput'"
      ]
     },
     "execution_count": 10,
     "metadata": {},
     "output_type": "execute_result"
    }
   ],
   "source": [
    "data = \"I am loving computing\".split()\n",
    "\" \".join([stemmer.stem(i) for i in data])\n",
    "# stemmer.stem(\"I am loving computing\")\n"
   ]
  },
  {
   "cell_type": "code",
   "execution_count": null,
   "metadata": {
    "id": "mZPU9uU5fr2I"
   },
   "outputs": [],
   "source": [
    "# Data Cleaning removing stopwords"
   ]
  },
  {
   "cell_type": "code",
   "execution_count": 15,
   "metadata": {
    "colab": {
     "base_uri": "https://localhost:8080/",
     "height": 36
    },
    "id": "nsXVZKSiakhv",
    "outputId": "74d7faf9-2af6-42a8-9200-da908f93d39d"
   },
   "outputs": [
    {
     "data": {
      "text/plain": [
       "' loving computing'"
      ]
     },
     "execution_count": 15,
     "metadata": {},
     "output_type": "execute_result"
    }
   ],
   "source": [
    "news = ''\n",
    "data = \"i am loving computing\".split()\n",
    "for i in data:\n",
    "  if i not in words:  # i stopwords haina vane news ma save hunxa\n",
    "    news = news + \" \" +i\n",
    "news"
   ]
  },
  {
   "cell_type": "code",
   "execution_count": 16,
   "metadata": {
    "colab": {
     "base_uri": "https://localhost:8080/",
     "height": 423
    },
    "id": "8iBXfOfoFvaF",
    "outputId": "e2257621-774a-4515-d43d-e83cb715519b"
   },
   "outputs": [
    {
     "data": {
      "text/html": [
       "<div>\n",
       "<style scoped>\n",
       "    .dataframe tbody tr th:only-of-type {\n",
       "        vertical-align: middle;\n",
       "    }\n",
       "\n",
       "    .dataframe tbody tr th {\n",
       "        vertical-align: top;\n",
       "    }\n",
       "\n",
       "    .dataframe thead th {\n",
       "        text-align: right;\n",
       "    }\n",
       "</style>\n",
       "<table border=\"1\" class=\"dataframe\">\n",
       "  <thead>\n",
       "    <tr style=\"text-align: right;\">\n",
       "      <th></th>\n",
       "      <th>category</th>\n",
       "      <th>text</th>\n",
       "    </tr>\n",
       "  </thead>\n",
       "  <tbody>\n",
       "    <tr>\n",
       "      <th>1248</th>\n",
       "      <td>sport</td>\n",
       "      <td>sullivan quick hail italians ireland coach edd...</td>\n",
       "    </tr>\n",
       "    <tr>\n",
       "      <th>2020</th>\n",
       "      <td>business</td>\n",
       "      <td>ad sales boost time warner profit quarterly pr...</td>\n",
       "    </tr>\n",
       "    <tr>\n",
       "      <th>865</th>\n",
       "      <td>entertainment</td>\n",
       "      <td>brits debate urban music joss stone year old s...</td>\n",
       "    </tr>\n",
       "    <tr>\n",
       "      <th>238</th>\n",
       "      <td>business</td>\n",
       "      <td>n extends indian beer venture uk biggest brewe...</td>\n",
       "    </tr>\n",
       "    <tr>\n",
       "      <th>587</th>\n",
       "      <td>sport</td>\n",
       "      <td>kluft impressed sotherton form olympic heptath...</td>\n",
       "    </tr>\n",
       "    <tr>\n",
       "      <th>...</th>\n",
       "      <td>...</td>\n",
       "      <td>...</td>\n",
       "    </tr>\n",
       "    <tr>\n",
       "      <th>2117</th>\n",
       "      <td>sport</td>\n",
       "      <td>wales stars need rest ruddock wales coach mike...</td>\n",
       "    </tr>\n",
       "    <tr>\n",
       "      <th>610</th>\n",
       "      <td>tech</td>\n",
       "      <td>broadband fuels online expression fast web acc...</td>\n",
       "    </tr>\n",
       "    <tr>\n",
       "      <th>2047</th>\n",
       "      <td>business</td>\n",
       "      <td>bombardier chief leave company shares train pl...</td>\n",
       "    </tr>\n",
       "    <tr>\n",
       "      <th>1317</th>\n",
       "      <td>politics</td>\n",
       "      <td>labour four little words labour unveiled four ...</td>\n",
       "    </tr>\n",
       "    <tr>\n",
       "      <th>1372</th>\n",
       "      <td>sport</td>\n",
       "      <td>costin aims comeback jamie costin paralysed sa...</td>\n",
       "    </tr>\n",
       "  </tbody>\n",
       "</table>\n",
       "<p>2225 rows × 2 columns</p>\n",
       "</div>"
      ],
      "text/plain": [
       "           category                                               text\n",
       "1248          sport  sullivan quick hail italians ireland coach edd...\n",
       "2020       business  ad sales boost time warner profit quarterly pr...\n",
       "865   entertainment  brits debate urban music joss stone year old s...\n",
       "238        business  n extends indian beer venture uk biggest brewe...\n",
       "587           sport  kluft impressed sotherton form olympic heptath...\n",
       "...             ...                                                ...\n",
       "2117          sport  wales stars need rest ruddock wales coach mike...\n",
       "610            tech  broadband fuels online expression fast web acc...\n",
       "2047       business  bombardier chief leave company shares train pl...\n",
       "1317       politics  labour four little words labour unveiled four ...\n",
       "1372          sport  costin aims comeback jamie costin paralysed sa...\n",
       "\n",
       "[2225 rows x 2 columns]"
      ]
     },
     "execution_count": 16,
     "metadata": {},
     "output_type": "execute_result"
    }
   ],
   "source": [
    "# Doing all cleaning process using regex, stemmer, stopwords for all data\n",
    "df['text'] = [re.sub(\"[^a-zA-Z]\", \" \", i).lower() for i in df['text']] #a-z ra A-Z bahek sabalai hatako\n",
    "# .sub()=substitute\n",
    "\n",
    "df['text'] = list(map(lambda x: \" \".join([i for i in x.lower().split() if i not in words]), df['text']))\n",
    "# this is removing stopwords\n",
    "# df['text'] = [\" \".join(word.split() for word in df['text'] if word.lower() not in stopwords.words('english'))]\n",
    "df"
   ]
  },
  {
   "cell_type": "code",
   "execution_count": 17,
   "metadata": {
    "id": "8fzgwwiH0nGA"
   },
   "outputs": [],
   "source": [
    "df.to_csv('cleaned_bbc_data.csv')"
   ]
  },
  {
   "cell_type": "code",
   "execution_count": null,
   "metadata": {
    "id": "Fy6sMijW1bZa"
   },
   "outputs": [],
   "source": [
    "pwd"
   ]
  },
  {
   "cell_type": "code",
   "execution_count": null,
   "metadata": {
    "id": "76wP0Gl7s-Eb"
   },
   "outputs": [],
   "source": [
    "# df['cleaned'] = df['text'].apply(lambda x: \" \".join([stemmer.stem(i) for i in re.sub(\"[^a-zA-Z]\", \" \", x).split() ]).lower())\n",
    "# df"
   ]
  },
  {
   "cell_type": "code",
   "execution_count": null,
   "metadata": {
    "id": "rpyZb6DBr0yS"
   },
   "outputs": [],
   "source": [
    "# print(words)"
   ]
  },
  {
   "cell_type": "code",
   "execution_count": null,
   "metadata": {
    "id": "9QpxBwUMvFrW"
   },
   "outputs": [],
   "source": [
    "# words = stopwords.words(\"nepali\")\n",
    "# words"
   ]
  },
  {
   "cell_type": "code",
   "execution_count": null,
   "metadata": {
    "id": "e7YQAi-Asdy2"
   },
   "outputs": [],
   "source": [
    "# df['cleaned'] = df['text'].apply(lambda x: \" \".join([stemmer.stem(i) for i in re.sub(\"[^a-zA-Z]\", \" \", x).split() if i not in words]).lower())\n",
    "# df"
   ]
  },
  {
   "cell_type": "code",
   "execution_count": 18,
   "metadata": {
    "id": "qunZeGdV_GLj"
   },
   "outputs": [],
   "source": [
    "# Training model\n",
    "from sklearn.linear_model import LogisticRegression\n",
    "log_regression = LogisticRegression()\n",
    "\n",
    "vectorizer = TfidfVectorizer() #categorical data lai numerical data ma change gareko jastai nai ho\n",
    "# string lai xutauxa tespaxi each word lai index(token) dinxa ani token ko adhar ma normalize garera vectorize garxa\n",
    "\n",
    "X = df['text'] #indepedent \n",
    "Y = df['category'] #dependent\n",
    "\n",
    "X_train, X_test, y_train, y_test = train_test_split(X, Y, test_size=0.15) #Splitting dataset\n",
    "\n",
    "# #Creating Pipeline\n",
    "pipeline = Pipeline([('vect', vectorizer), #vectorizer = TfidfVectorizer()\n",
    "                     ('chi',  SelectKBest(chi2, k=2000)), #each news bata 2000 words choose gara vaneko\n",
    "                     ('clf', LogisticRegression(random_state=1))]) #logistic regression classifier use gara vaneko\n",
    "# fit garna agadi kun kun steps garne pipeline ley define garxa\n",
    "\n",
    "\n",
    "\n",
    "# #Training model\n",
    "model = pipeline.fit(X_train, y_train)\n",
    "\n",
    "# #Creating pickle file\n",
    "# with open('LogisticRegression.pickle', 'wb') as f:\n",
    "#     pickle.dump(model, f)"
   ]
  },
  {
   "cell_type": "code",
   "execution_count": 19,
   "metadata": {
    "colab": {
     "base_uri": "https://localhost:8080/"
    },
    "id": "gSyRFPq-duso",
    "outputId": "d6b9c4de-68fb-4a41-ff43-76f9f64fb9f0"
   },
   "outputs": [
    {
     "data": {
      "text/plain": [
       "354     neeson bid revive theatre hollywood film star ...\n",
       "164     ukip candidate suspended eurosceptic party uki...\n",
       "1488    low budget film wins cesar film follows group ...\n",
       "460     monsanto fined bribery us agrochemical giant m...\n",
       "210     lost doors frontman movie found historians flo...\n",
       "                              ...                        \n",
       "100     housewives lift channel ratings debut us telev...\n",
       "163     musical treatment capra film classic film wond...\n",
       "1101    talks aim avert pension strike talks aimed ave...\n",
       "696     yahoo moves desktop search internet giant yaho...\n",
       "1269    hingis hints playing comeback martina hingis a...\n",
       "Name: text, Length: 334, dtype: object"
      ]
     },
     "execution_count": 19,
     "metadata": {},
     "output_type": "execute_result"
    }
   ],
   "source": [
    "X_test"
   ]
  },
  {
   "cell_type": "code",
   "execution_count": 20,
   "metadata": {
    "colab": {
     "base_uri": "https://localhost:8080/"
    },
    "id": "aAZIfQmWIlP1",
    "outputId": "611c21d0-5948-482a-b557-6901d49b7b70"
   },
   "outputs": [
    {
     "name": "stdout",
     "output_type": "stream",
     "text": [
      "0.9880239520958084\n"
     ]
    }
   ],
   "source": [
    "#Accuracy\n",
    "from sklearn.metrics import accuracy_score\n",
    "predict_news_cat = model.predict(X_test) #x_test ma vayeko news ko category predict gareko\n",
    "print(accuracy_score(y_test,predict_news_cat))\n",
    "# print('\\n')\n",
    "# print(predict_news_cat)"
   ]
  },
  {
   "cell_type": "code",
   "execution_count": 22,
   "metadata": {
    "colab": {
     "base_uri": "https://localhost:8080/"
    },
    "id": "5S-Fnbr-DT65",
    "outputId": "c658f92d-05be-41af-90c5-95c8d3cdc42f"
   },
   "outputs": [
    {
     "name": "stdout",
     "output_type": "stream",
     "text": [
      "Enter news = In How to Interpret the Constitution (2023), Harvard law professor Cass Sunstein argues that any theory of constitutional interpretation used by Supreme Court justices must be defensible in terms of beneficial outcomes, to make democracy “better.” Better is subjective, though. Considering the current Supreme Court, “better” begs the obvious question, “Better for whom?”\n",
      "Predicted news category =  sport\n"
     ]
    }
   ],
   "source": [
    "# file = open('news.txt','r')\n",
    "# news = file.read()\n",
    "# file.close()\n",
    "\n",
    "news = input(\"Enter news = \")\n",
    "news_data = {'predict_news':[news]} # input news lai dictionary ma change gareko\n",
    "news_data_df = pd.DataFrame(news_data) # dataframe ma change gareko\n",
    "# news_data_df\n",
    "predict_news_cat = model.predict(news_data_df['predict_news'])\n",
    "print(\"Predicted news category = \",predict_news_cat[0])"
   ]
  },
  {
   "cell_type": "code",
   "execution_count": 25,
   "metadata": {
    "colab": {
     "base_uri": "https://localhost:8080/"
    },
    "id": "y24Ctjrm_rpj",
    "outputId": "8949d2d5-4315-4c84-926d-bf1b74fd8178"
   },
   "outputs": [
    {
     "name": "stdout",
     "output_type": "stream",
     "text": [
      "               precision    recall  f1-score   support\n",
      "\n",
      "     business       0.99      0.96      0.97        81\n",
      "entertainment       0.98      1.00      0.99        52\n",
      "     politics       1.00      0.98      0.99        61\n",
      "        sport       0.99      1.00      0.99        81\n",
      "         tech       0.98      1.00      0.99        59\n",
      "\n",
      "     accuracy                           0.99       334\n",
      "    macro avg       0.99      0.99      0.99       334\n",
      " weighted avg       0.99      0.99      0.99       334\n",
      "\n",
      "[[78  0  1  0  0]\n",
      " [ 1 52  0  0  0]\n",
      " [ 0  0 60  0  0]\n",
      " [ 1  0  0 81  0]\n",
      " [ 1  0  0  0 59]]\n"
     ]
    }
   ],
   "source": [
    "# confusion matrix and classification report(precision, recall, F1-score)\n",
    "# model kati ko ramro check garna confusion matrix ra classification report use garne\n",
    "from sklearn.metrics import classification_report, confusion_matrix \n",
    "ytest = np.array(y_test)\n",
    "print(classification_report(ytest,model.predict(X_test))) #predefined function\n",
    "print(confusion_matrix(model.predict(X_test),ytest))\n",
    "\n",
    "# business ko support =79 ie total business category 79 wota xa\n",
    "# confusion matrix ma 78 = ie 1 wota prediction milena (1 misclassify vayo)"
   ]
  },
  {
   "cell_type": "code",
   "execution_count": 24,
   "metadata": {
    "colab": {
     "base_uri": "https://localhost:8080/",
     "height": 666
    },
    "id": "0CoGLcdeMxjw",
    "outputId": "adbb115a-c97f-4712-ed4c-f727c1efc455"
   },
   "outputs": [
    {
     "data": {
      "image/png": "[encoded data removed]",
      "text/plain": [
       "<Figure size 800x800 with 2 Axes>"
      ]
     },
     "metadata": {},
     "output_type": "display_data"
    }
   ],
   "source": [
    "import matplotlib.pyplot as plt\n",
    "from sklearn.metrics import ConfusionMatrixDisplay\n",
    "cm = confusion_matrix(model.predict(X_test),ytest)\n",
    "# Change figure size and increase dpi for better resolution\n",
    "# and get reference to axes object\n",
    "fig, ax = plt.subplots(figsize=(8,8), dpi=100)\n",
    "class_names = ['business','entertainment','politics','sport','tech']\n",
    "# initialize using the raw 2D confusion matrix\n",
    "# and output labels (in our case, it's 0 and 1)\n",
    "display = ConfusionMatrixDisplay(cm, display_labels=class_names)\n",
    "\n",
    "# set the plot title using the axes object\n",
    "ax.set(title='Confusion Matrix for the  Text Classification Model')\n",
    "\n",
    "# show the plot.\n",
    "# Pass the parameter ax to show customizations (ex. title)\n",
    "display.plot(ax=ax);"
   ]
  },
  {
   "cell_type": "markdown",
   "metadata": {
    "id": "m6smCrY1Nb5O"
   },
   "source": [
    "# huna parne tech thyo 1 wota business predict garyo\n",
    "# huna parne sport thyo 1 business predict vayo\n",
    "# huna parne entertainment thyo 1 business predict vayo\n",
    "# huna parne business thyo 1 politics predict vayo"
   ]
  }
 ],
 "metadata": {
  "colab": {
   "provenance": []
  },
  "kernelspec": {
   "display_name": "Python 3 (ipykernel)",
   "language": "python",
   "name": "python3"
  },
  "language_info": {
   "codemirror_mode": {
    "name": "ipython",
    "version": 3
   },
   "file_extension": ".py",
   "mimetype": "text/x-python",
   "name": "python",
   "nbconvert_exporter": "python",
   "pygments_lexer": "ipython3",
   "version": "3.11.4"
  }
 },
 "nbformat": 4,
 "nbformat_minor": 1
}
