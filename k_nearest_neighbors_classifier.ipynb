{
 "cells": [
  {
   "cell_type": "code",
   "execution_count": 1,
   "metadata": {
    "_cell_guid": "491074e7-9126-64c5-8730-b7d1255c3b70",
    "_execution_state": "idle",
    "_uuid": "e063484ae2fd4dabc551f8704d174c7b01f94534",
    "execution": {
     "iopub.execute_input": "2022-11-25T07:48:58.563411Z",
     "iopub.status.busy": "2022-11-25T07:48:58.562542Z",
     "iopub.status.idle": "2022-11-25T07:49:00.182494Z",
     "shell.execute_reply": "2022-11-25T07:49:00.181350Z",
     "shell.execute_reply.started": "2022-11-25T07:48:58.563265Z"
    },
    "id": "1RxULXcw6fcF"
   },
   "outputs": [],
   "source": [
    "# import some libraries.  I don't think we'll need all these, but it doesn't hurt to have them ready.\n",
    "%matplotlib inline\n",
    "# import h5py\n",
    "import matplotlib.pyplot as plt\n",
    "import numpy as np\n",
    "import pandas as pd\n",
    "import os\n",
    "from IPython.display import Image\n",
    "import sys\n",
    "from sklearn import datasets\n",
    "from sklearn.model_selection import train_test_split\n",
    "from sklearn.neighbors import KNeighborsClassifier"
   ]
  },
  {
   "cell_type": "markdown",
   "metadata": {},
   "source": [
    "# mnist dataset = in built datasets\n",
    "# image= numpy array ma values vayeko"
   ]
  },
  {
   "cell_type": "code",
   "execution_count": 2,
   "metadata": {
    "_cell_guid": "d5e17b6f-d24c-acf1-5e70-83582b31445d",
    "_execution_state": "idle",
    "_uuid": "39c8331f6e7ddfbc8e0de669cb0627b27958df97",
    "colab": {
     "base_uri": "https://localhost:8080/"
    },
    "execution": {
     "iopub.execute_input": "2022-11-25T07:49:00.184562Z",
     "iopub.status.busy": "2022-11-25T07:49:00.184250Z",
     "iopub.status.idle": "2022-11-25T07:49:00.290522Z",
     "shell.execute_reply": "2022-11-25T07:49:00.289362Z",
     "shell.execute_reply.started": "2022-11-25T07:49:00.184534Z"
    },
    "id": "gWGEz8pH6fcG",
    "outputId": "706a11fe-5198-43a4-eb17-f7159faf9199"
   },
   "outputs": [
    {
     "data": {
      "text/plain": [
       "{'data': array([[ 0.,  0.,  5., ...,  0.,  0.,  0.],\n",
       "        [ 0.,  0.,  0., ..., 10.,  0.,  0.],\n",
       "        [ 0.,  0.,  0., ..., 16.,  9.,  0.],\n",
       "        ...,\n",
       "        [ 0.,  0.,  1., ...,  6.,  0.,  0.],\n",
       "        [ 0.,  0.,  2., ..., 12.,  0.,  0.],\n",
       "        [ 0.,  0., 10., ..., 12.,  1.,  0.]]),\n",
       " 'target': array([0, 1, 2, ..., 8, 9, 8]),\n",
       " 'frame': None,\n",
       " 'feature_names': ['pixel_0_0',\n",
       "  'pixel_0_1',\n",
       "  'pixel_0_2',\n",
       "  'pixel_0_3',\n",
       "  'pixel_0_4',\n",
       "  'pixel_0_5',\n",
       "  'pixel_0_6',\n",
       "  'pixel_0_7',\n",
       "  'pixel_1_0',\n",
       "  'pixel_1_1',\n",
       "  'pixel_1_2',\n",
       "  'pixel_1_3',\n",
       "  'pixel_1_4',\n",
       "  'pixel_1_5',\n",
       "  'pixel_1_6',\n",
       "  'pixel_1_7',\n",
       "  'pixel_2_0',\n",
       "  'pixel_2_1',\n",
       "  'pixel_2_2',\n",
       "  'pixel_2_3',\n",
       "  'pixel_2_4',\n",
       "  'pixel_2_5',\n",
       "  'pixel_2_6',\n",
       "  'pixel_2_7',\n",
       "  'pixel_3_0',\n",
       "  'pixel_3_1',\n",
       "  'pixel_3_2',\n",
       "  'pixel_3_3',\n",
       "  'pixel_3_4',\n",
       "  'pixel_3_5',\n",
       "  'pixel_3_6',\n",
       "  'pixel_3_7',\n",
       "  'pixel_4_0',\n",
       "  'pixel_4_1',\n",
       "  'pixel_4_2',\n",
       "  'pixel_4_3',\n",
       "  'pixel_4_4',\n",
       "  'pixel_4_5',\n",
       "  'pixel_4_6',\n",
       "  'pixel_4_7',\n",
       "  'pixel_5_0',\n",
       "  'pixel_5_1',\n",
       "  'pixel_5_2',\n",
       "  'pixel_5_3',\n",
       "  'pixel_5_4',\n",
       "  'pixel_5_5',\n",
       "  'pixel_5_6',\n",
       "  'pixel_5_7',\n",
       "  'pixel_6_0',\n",
       "  'pixel_6_1',\n",
       "  'pixel_6_2',\n",
       "  'pixel_6_3',\n",
       "  'pixel_6_4',\n",
       "  'pixel_6_5',\n",
       "  'pixel_6_6',\n",
       "  'pixel_6_7',\n",
       "  'pixel_7_0',\n",
       "  'pixel_7_1',\n",
       "  'pixel_7_2',\n",
       "  'pixel_7_3',\n",
       "  'pixel_7_4',\n",
       "  'pixel_7_5',\n",
       "  'pixel_7_6',\n",
       "  'pixel_7_7'],\n",
       " 'target_names': array([0, 1, 2, 3, 4, 5, 6, 7, 8, 9]),\n",
       " 'images': array([[[ 0.,  0.,  5., ...,  1.,  0.,  0.],\n",
       "         [ 0.,  0., 13., ..., 15.,  5.,  0.],\n",
       "         [ 0.,  3., 15., ..., 11.,  8.,  0.],\n",
       "         ...,\n",
       "         [ 0.,  4., 11., ..., 12.,  7.,  0.],\n",
       "         [ 0.,  2., 14., ..., 12.,  0.,  0.],\n",
       "         [ 0.,  0.,  6., ...,  0.,  0.,  0.]],\n",
       " \n",
       "        [[ 0.,  0.,  0., ...,  5.,  0.,  0.],\n",
       "         [ 0.,  0.,  0., ...,  9.,  0.,  0.],\n",
       "         [ 0.,  0.,  3., ...,  6.,  0.,  0.],\n",
       "         ...,\n",
       "         [ 0.,  0.,  1., ...,  6.,  0.,  0.],\n",
       "         [ 0.,  0.,  1., ...,  6.,  0.,  0.],\n",
       "         [ 0.,  0.,  0., ..., 10.,  0.,  0.]],\n",
       " \n",
       "        [[ 0.,  0.,  0., ..., 12.,  0.,  0.],\n",
       "         [ 0.,  0.,  3., ..., 14.,  0.,  0.],\n",
       "         [ 0.,  0.,  8., ..., 16.,  0.,  0.],\n",
       "         ...,\n",
       "         [ 0.,  9., 16., ...,  0.,  0.,  0.],\n",
       "         [ 0.,  3., 13., ..., 11.,  5.,  0.],\n",
       "         [ 0.,  0.,  0., ..., 16.,  9.,  0.]],\n",
       " \n",
       "        ...,\n",
       " \n",
       "        [[ 0.,  0.,  1., ...,  1.,  0.,  0.],\n",
       "         [ 0.,  0., 13., ...,  2.,  1.,  0.],\n",
       "         [ 0.,  0., 16., ..., 16.,  5.,  0.],\n",
       "         ...,\n",
       "         [ 0.,  0., 16., ..., 15.,  0.,  0.],\n",
       "         [ 0.,  0., 15., ..., 16.,  0.,  0.],\n",
       "         [ 0.,  0.,  2., ...,  6.,  0.,  0.]],\n",
       " \n",
       "        [[ 0.,  0.,  2., ...,  0.,  0.,  0.],\n",
       "         [ 0.,  0., 14., ..., 15.,  1.,  0.],\n",
       "         [ 0.,  4., 16., ..., 16.,  7.,  0.],\n",
       "         ...,\n",
       "         [ 0.,  0.,  0., ..., 16.,  2.,  0.],\n",
       "         [ 0.,  0.,  4., ..., 16.,  2.,  0.],\n",
       "         [ 0.,  0.,  5., ..., 12.,  0.,  0.]],\n",
       " \n",
       "        [[ 0.,  0., 10., ...,  1.,  0.,  0.],\n",
       "         [ 0.,  2., 16., ...,  1.,  0.,  0.],\n",
       "         [ 0.,  0., 15., ..., 15.,  0.,  0.],\n",
       "         ...,\n",
       "         [ 0.,  4., 16., ..., 16.,  6.,  0.],\n",
       "         [ 0.,  8., 16., ..., 16.,  8.,  0.],\n",
       "         [ 0.,  1.,  8., ..., 12.,  1.,  0.]]]),\n",
       " 'DESCR': \".. _digits_dataset:\\n\\nOptical recognition of handwritten digits dataset\\n--------------------------------------------------\\n\\n**Data Set Characteristics:**\\n\\n    :Number of Instances: 1797\\n    :Number of Attributes: 64\\n    :Attribute Information: 8x8 image of integer pixels in the range 0..16.\\n    :Missing Attribute Values: None\\n    :Creator: E. Alpaydin (alpaydin '@' boun.edu.tr)\\n    :Date: July; 1998\\n\\nThis is a copy of the test set of the UCI ML hand-written digits datasets\\nhttps://archive.ics.uci.edu/ml/datasets/Optical+Recognition+of+Handwritten+Digits\\n\\nThe data set contains images of hand-written digits: 10 classes where\\neach class refers to a digit.\\n\\nPreprocessing programs made available by NIST were used to extract\\nnormalized bitmaps of handwritten digits from a preprinted form. From a\\ntotal of 43 people, 30 contributed to the training set and different 13\\nto the test set. 32x32 bitmaps are divided into nonoverlapping blocks of\\n4x4 and the number of on pixels are counted in each block. This generates\\nan input matrix of 8x8 where each element is an integer in the range\\n0..16. This reduces dimensionality and gives invariance to small\\ndistortions.\\n\\nFor info on NIST preprocessing routines, see M. D. Garris, J. L. Blue, G.\\nT. Candela, D. L. Dimmick, J. Geist, P. J. Grother, S. A. Janet, and C.\\nL. Wilson, NIST Form-Based Handprint Recognition System, NISTIR 5469,\\n1994.\\n\\n|details-start|\\n**References**\\n|details-split|\\n\\n- C. Kaynak (1995) Methods of Combining Multiple Classifiers and Their\\n  Applications to Handwritten Digit Recognition, MSc Thesis, Institute of\\n  Graduate Studies in Science and Engineering, Bogazici University.\\n- E. Alpaydin, C. Kaynak (1998) Cascading Classifiers, Kybernetika.\\n- Ken Tang and Ponnuthurai N. Suganthan and Xi Yao and A. Kai Qin.\\n  Linear dimensionalityreduction using relevance weighted LDA. School of\\n  Electrical and Electronic Engineering Nanyang Technological University.\\n  2005.\\n- Claudio Gentile. A New Approximate Maximal Margin Classification\\n  Algorithm. NIPS. 2000.\\n\\n|details-end|\"}"
      ]
     },
     "execution_count": 2,
     "metadata": {},
     "output_type": "execute_result"
    }
   ],
   "source": [
    "# load the data\n",
    "# mnist dataset = consist of dictionary data, already pre processed (cleaned) hunxa\n",
    "digits = datasets.load_digits()\n",
    "digits\n",
    "\n",
    "# array= image pre process garepaxi ko array = model lai train garne data\n",
    "# image= image before preprocessing (ie size one dimensional navayeko)"
   ]
  },
  {
   "cell_type": "code",
   "execution_count": 4,
   "metadata": {
    "colab": {
     "base_uri": "https://localhost:8080/"
    },
    "id": "ZqOBTYp6griX",
    "outputId": "bbf05875-ff8f-45f4-ca8f-0274c3b2caa2"
   },
   "outputs": [
    {
     "name": "stdout",
     "output_type": "stream",
     "text": [
      "data\n",
      "target\n",
      "frame\n",
      "feature_names\n",
      "target_names\n",
      "images\n",
      "DESCR\n"
     ]
    }
   ],
   "source": [
    "# keys \n",
    "for i in digits:\n",
    "  print(i)"
   ]
  },
  {
   "cell_type": "code",
   "execution_count": 5,
   "metadata": {
    "_cell_guid": "387930e2-3f90-a8cf-fb91-87ffed66a26d",
    "_execution_state": "idle",
    "_uuid": "72eb9697b96e6466b153d874a17c4a7573981c17",
    "colab": {
     "base_uri": "https://localhost:8080/"
    },
    "execution": {
     "iopub.execute_input": "2022-11-25T07:49:00.292424Z",
     "iopub.status.busy": "2022-11-25T07:49:00.291908Z",
     "iopub.status.idle": "2022-11-25T07:49:00.301833Z",
     "shell.execute_reply": "2022-11-25T07:49:00.300353Z",
     "shell.execute_reply.started": "2022-11-25T07:49:00.292379Z"
    },
    "id": "NL3bZgws6fcH",
    "outputId": "acb44e9f-925e-46f9-906d-d964d8e88a37"
   },
   "outputs": [
    {
     "name": "stdout",
     "output_type": "stream",
     "text": [
      "dict_values([array([[ 0.,  0.,  5., ...,  0.,  0.,  0.],\n",
      "       [ 0.,  0.,  0., ..., 10.,  0.,  0.],\n",
      "       [ 0.,  0.,  0., ..., 16.,  9.,  0.],\n",
      "       ...,\n",
      "       [ 0.,  0.,  1., ...,  6.,  0.,  0.],\n",
      "       [ 0.,  0.,  2., ..., 12.,  0.,  0.],\n",
      "       [ 0.,  0., 10., ..., 12.,  1.,  0.]]), array([0, 1, 2, ..., 8, 9, 8]), None, ['pixel_0_0', 'pixel_0_1', 'pixel_0_2', 'pixel_0_3', 'pixel_0_4', 'pixel_0_5', 'pixel_0_6', 'pixel_0_7', 'pixel_1_0', 'pixel_1_1', 'pixel_1_2', 'pixel_1_3', 'pixel_1_4', 'pixel_1_5', 'pixel_1_6', 'pixel_1_7', 'pixel_2_0', 'pixel_2_1', 'pixel_2_2', 'pixel_2_3', 'pixel_2_4', 'pixel_2_5', 'pixel_2_6', 'pixel_2_7', 'pixel_3_0', 'pixel_3_1', 'pixel_3_2', 'pixel_3_3', 'pixel_3_4', 'pixel_3_5', 'pixel_3_6', 'pixel_3_7', 'pixel_4_0', 'pixel_4_1', 'pixel_4_2', 'pixel_4_3', 'pixel_4_4', 'pixel_4_5', 'pixel_4_6', 'pixel_4_7', 'pixel_5_0', 'pixel_5_1', 'pixel_5_2', 'pixel_5_3', 'pixel_5_4', 'pixel_5_5', 'pixel_5_6', 'pixel_5_7', 'pixel_6_0', 'pixel_6_1', 'pixel_6_2', 'pixel_6_3', 'pixel_6_4', 'pixel_6_5', 'pixel_6_6', 'pixel_6_7', 'pixel_7_0', 'pixel_7_1', 'pixel_7_2', 'pixel_7_3', 'pixel_7_4', 'pixel_7_5', 'pixel_7_6', 'pixel_7_7'], array([0, 1, 2, 3, 4, 5, 6, 7, 8, 9]), array([[[ 0.,  0.,  5., ...,  1.,  0.,  0.],\n",
      "        [ 0.,  0., 13., ..., 15.,  5.,  0.],\n",
      "        [ 0.,  3., 15., ..., 11.,  8.,  0.],\n",
      "        ...,\n",
      "        [ 0.,  4., 11., ..., 12.,  7.,  0.],\n",
      "        [ 0.,  2., 14., ..., 12.,  0.,  0.],\n",
      "        [ 0.,  0.,  6., ...,  0.,  0.,  0.]],\n",
      "\n",
      "       [[ 0.,  0.,  0., ...,  5.,  0.,  0.],\n",
      "        [ 0.,  0.,  0., ...,  9.,  0.,  0.],\n",
      "        [ 0.,  0.,  3., ...,  6.,  0.,  0.],\n",
      "        ...,\n",
      "        [ 0.,  0.,  1., ...,  6.,  0.,  0.],\n",
      "        [ 0.,  0.,  1., ...,  6.,  0.,  0.],\n",
      "        [ 0.,  0.,  0., ..., 10.,  0.,  0.]],\n",
      "\n",
      "       [[ 0.,  0.,  0., ..., 12.,  0.,  0.],\n",
      "        [ 0.,  0.,  3., ..., 14.,  0.,  0.],\n",
      "        [ 0.,  0.,  8., ..., 16.,  0.,  0.],\n",
      "        ...,\n",
      "        [ 0.,  9., 16., ...,  0.,  0.,  0.],\n",
      "        [ 0.,  3., 13., ..., 11.,  5.,  0.],\n",
      "        [ 0.,  0.,  0., ..., 16.,  9.,  0.]],\n",
      "\n",
      "       ...,\n",
      "\n",
      "       [[ 0.,  0.,  1., ...,  1.,  0.,  0.],\n",
      "        [ 0.,  0., 13., ...,  2.,  1.,  0.],\n",
      "        [ 0.,  0., 16., ..., 16.,  5.,  0.],\n",
      "        ...,\n",
      "        [ 0.,  0., 16., ..., 15.,  0.,  0.],\n",
      "        [ 0.,  0., 15., ..., 16.,  0.,  0.],\n",
      "        [ 0.,  0.,  2., ...,  6.,  0.,  0.]],\n",
      "\n",
      "       [[ 0.,  0.,  2., ...,  0.,  0.,  0.],\n",
      "        [ 0.,  0., 14., ..., 15.,  1.,  0.],\n",
      "        [ 0.,  4., 16., ..., 16.,  7.,  0.],\n",
      "        ...,\n",
      "        [ 0.,  0.,  0., ..., 16.,  2.,  0.],\n",
      "        [ 0.,  0.,  4., ..., 16.,  2.,  0.],\n",
      "        [ 0.,  0.,  5., ..., 12.,  0.,  0.]],\n",
      "\n",
      "       [[ 0.,  0., 10., ...,  1.,  0.,  0.],\n",
      "        [ 0.,  2., 16., ...,  1.,  0.,  0.],\n",
      "        [ 0.,  0., 15., ..., 15.,  0.,  0.],\n",
      "        ...,\n",
      "        [ 0.,  4., 16., ..., 16.,  6.,  0.],\n",
      "        [ 0.,  8., 16., ..., 16.,  8.,  0.],\n",
      "        [ 0.,  1.,  8., ..., 12.,  1.,  0.]]]), \".. _digits_dataset:\\n\\nOptical recognition of handwritten digits dataset\\n--------------------------------------------------\\n\\n**Data Set Characteristics:**\\n\\n    :Number of Instances: 1797\\n    :Number of Attributes: 64\\n    :Attribute Information: 8x8 image of integer pixels in the range 0..16.\\n    :Missing Attribute Values: None\\n    :Creator: E. Alpaydin (alpaydin '@' boun.edu.tr)\\n    :Date: July; 1998\\n\\nThis is a copy of the test set of the UCI ML hand-written digits datasets\\nhttps://archive.ics.uci.edu/ml/datasets/Optical+Recognition+of+Handwritten+Digits\\n\\nThe data set contains images of hand-written digits: 10 classes where\\neach class refers to a digit.\\n\\nPreprocessing programs made available by NIST were used to extract\\nnormalized bitmaps of handwritten digits from a preprinted form. From a\\ntotal of 43 people, 30 contributed to the training set and different 13\\nto the test set. 32x32 bitmaps are divided into nonoverlapping blocks of\\n4x4 and the number of on pixels are counted in each block. This generates\\nan input matrix of 8x8 where each element is an integer in the range\\n0..16. This reduces dimensionality and gives invariance to small\\ndistortions.\\n\\nFor info on NIST preprocessing routines, see M. D. Garris, J. L. Blue, G.\\nT. Candela, D. L. Dimmick, J. Geist, P. J. Grother, S. A. Janet, and C.\\nL. Wilson, NIST Form-Based Handprint Recognition System, NISTIR 5469,\\n1994.\\n\\n|details-start|\\n**References**\\n|details-split|\\n\\n- C. Kaynak (1995) Methods of Combining Multiple Classifiers and Their\\n  Applications to Handwritten Digit Recognition, MSc Thesis, Institute of\\n  Graduate Studies in Science and Engineering, Bogazici University.\\n- E. Alpaydin, C. Kaynak (1998) Cascading Classifiers, Kybernetika.\\n- Ken Tang and Ponnuthurai N. Suganthan and Xi Yao and A. Kai Qin.\\n  Linear dimensionalityreduction using relevance weighted LDA. School of\\n  Electrical and Electronic Engineering Nanyang Technological University.\\n  2005.\\n- Claudio Gentile. A New Approximate Maximal Margin Classification\\n  Algorithm. NIPS. 2000.\\n\\n|details-end|\"])\n"
     ]
    }
   ],
   "source": [
    "# look at the keys\n",
    "print(digits.values())\n",
    "# print(digits.DESCR)"
   ]
  },
  {
   "cell_type": "code",
   "execution_count": 6,
   "metadata": {
    "_cell_guid": "d7246d45-4727-3a71-c1c6-0f31be0c1fd6",
    "_execution_state": "idle",
    "_uuid": "cf2cb86bc572a4e6b8e5885fb93e21820577d787",
    "colab": {
     "base_uri": "https://localhost:8080/"
    },
    "execution": {
     "iopub.execute_input": "2022-11-25T07:49:00.304158Z",
     "iopub.status.busy": "2022-11-25T07:49:00.303682Z",
     "iopub.status.idle": "2022-11-25T07:49:00.313348Z",
     "shell.execute_reply": "2022-11-25T07:49:00.312200Z",
     "shell.execute_reply.started": "2022-11-25T07:49:00.304110Z"
    },
    "id": "oVz4U4Uv6fcI",
    "outputId": "9dd9e612-fa30-4847-91c4-225ccf71ec5f"
   },
   "outputs": [
    {
     "name": "stdout",
     "output_type": "stream",
     "text": [
      "(1797, 8, 8)\n",
      "(1797, 64)\n",
      "(1797,)\n"
     ]
    }
   ],
   "source": [
    "# Print the shape of the images and data keys\n",
    "print(digits.images.shape) # 1797 wota xa 8 by 8 ko image\n",
    "print(digits.data.shape)\n",
    "print(digits.target.shape) # classes 1797 wota xan\n"
   ]
  },
  {
   "cell_type": "code",
   "execution_count": null,
   "metadata": {
    "id": "dKKrm3ILlQhT"
   },
   "outputs": [],
   "source": [
    "# import pandas as pd\n",
    "# df = pd.DataFrame({\"target\":digits.target})\n",
    "# df"
   ]
  },
  {
   "cell_type": "code",
   "execution_count": 7,
   "metadata": {
    "colab": {
     "base_uri": "https://localhost:8080/"
    },
    "id": "Y6o4XcbH6fcI",
    "outputId": "b384cb7a-00ee-4586-c9e3-69430d7ff101"
   },
   "outputs": [
    {
     "data": {
      "text/plain": [
       "array([[ 0.,  0.,  5., 13.,  9.,  1.,  0.,  0.],\n",
       "       [ 0.,  0., 13., 15., 10., 15.,  5.,  0.],\n",
       "       [ 0.,  3., 15.,  2.,  0., 11.,  8.,  0.],\n",
       "       [ 0.,  4., 12.,  0.,  0.,  8.,  8.,  0.],\n",
       "       [ 0.,  5.,  8.,  0.,  0.,  9.,  8.,  0.],\n",
       "       [ 0.,  4., 11.,  0.,  1., 12.,  7.,  0.],\n",
       "       [ 0.,  2., 14.,  5., 10., 12.,  0.,  0.],\n",
       "       [ 0.,  0.,  6., 13., 10.,  0.,  0.,  0.]])"
      ]
     },
     "execution_count": 7,
     "metadata": {},
     "output_type": "execute_result"
    }
   ],
   "source": [
    "# 0 -> black color\n",
    "# 255 -> white color\n",
    "digits.images[0]\n",
    "\n",
    "# each value ley pixel value define garxa"
   ]
  },
  {
   "cell_type": "code",
   "execution_count": 8,
   "metadata": {
    "_cell_guid": "02e3fd57-7447-12f2-1a5f-0fa2124a49dd",
    "_execution_state": "idle",
    "_uuid": "e233c62608f1a0c33bf29a9b00a550d83aea582d",
    "colab": {
     "base_uri": "https://localhost:8080/",
     "height": 447
    },
    "execution": {
     "iopub.execute_input": "2022-11-25T07:49:00.317599Z",
     "iopub.status.busy": "2022-11-25T07:49:00.316915Z",
     "iopub.status.idle": "2022-11-25T07:49:00.581826Z",
     "shell.execute_reply": "2022-11-25T07:49:00.580650Z",
     "shell.execute_reply.started": "2022-11-25T07:49:00.317551Z"
    },
    "id": "gg2s2qZh6fcI",
    "outputId": "400c5c0d-3764-40b7-d7da-7cb607645aef"
   },
   "outputs": [
    {
     "data": {
      "text/plain": [
       "<matplotlib.image.AxesImage at 0x1a58f5e3790>"
      ]
     },
     "execution_count": 8,
     "metadata": {},
     "output_type": "execute_result"
    },
    {
     "data": {
      "image/png": "[encoded data removed]",
      "text/plain": [
       "<Figure size 640x480 with 1 Axes>"
      ]
     },
     "metadata": {},
     "output_type": "display_data"
    }
   ],
   "source": [
    "# Display digit 1010\n",
    "plt.imshow(digits.images[0], cmap=\"gray\")\n",
    "\n",
    "# cmap=\"gray\"  image black ad white ma dekhauxa "
   ]
  },
  {
   "cell_type": "code",
   "execution_count": 9,
   "metadata": {
    "colab": {
     "base_uri": "https://localhost:8080/",
     "height": 447
    },
    "id": "oYMgPGb4I_sh",
    "outputId": "dd6dd6b4-7d03-4e32-f2af-791d9b4be577"
   },
   "outputs": [
    {
     "data": {
      "text/plain": [
       "<matplotlib.image.AxesImage at 0x1a58f64f210>"
      ]
     },
     "execution_count": 9,
     "metadata": {},
     "output_type": "execute_result"
    },
    {
     "data": {
      "image/png": "[encoded data removed]",
      "text/plain": [
       "<Figure size 640x480 with 1 Axes>"
      ]
     },
     "metadata": {},
     "output_type": "display_data"
    }
   ],
   "source": [
    "# Display digit 1010\n",
    "plt.imshow(digits.images[0])\n",
    "\n",
    "# cmap narakheko ley colored image print vayeko"
   ]
  },
  {
   "cell_type": "code",
   "execution_count": 10,
   "metadata": {
    "colab": {
     "base_uri": "https://localhost:8080/",
     "height": 447
    },
    "id": "g3bdVhL3oIet",
    "outputId": "f51052eb-ca5b-45e7-ab18-8c7091f514a6"
   },
   "outputs": [
    {
     "data": {
      "text/plain": [
       "<matplotlib.image.AxesImage at 0x1a58f71a490>"
      ]
     },
     "execution_count": 10,
     "metadata": {},
     "output_type": "execute_result"
    },
    {
     "data": {
      "image/png": "[encoded data removed]",
      "text/plain": [
       "<Figure size 640x480 with 1 Axes>"
      ]
     },
     "metadata": {},
     "output_type": "display_data"
    }
   ],
   "source": [
    "# Display digit 1010\n",
    "plt.imshow(digits.images[3], cmap='gray')\n"
   ]
  },
  {
   "cell_type": "code",
   "execution_count": 11,
   "metadata": {
    "_cell_guid": "eaecf729-152d-a543-50bf-0b4e9925b118",
    "_execution_state": "idle",
    "_uuid": "151681ff28ff945641c6fd7995e1547609e4b6cc",
    "colab": {
     "base_uri": "https://localhost:8080/"
    },
    "execution": {
     "iopub.execute_input": "2022-11-25T07:49:00.583945Z",
     "iopub.status.busy": "2022-11-25T07:49:00.583538Z",
     "iopub.status.idle": "2022-11-25T07:49:00.593252Z",
     "shell.execute_reply": "2022-11-25T07:49:00.587885Z",
     "shell.execute_reply.started": "2022-11-25T07:49:00.583909Z"
    },
    "id": "AGfeiy-66fcJ",
    "outputId": "a0bb5f10-2da8-4dbc-d659-5c1eba33535d"
   },
   "outputs": [
    {
     "name": "stdout",
     "output_type": "stream",
     "text": [
      "[[ 0.  0.  5. ...  0.  0.  0.]\n",
      " [ 0.  0.  0. ... 10.  0.  0.]\n",
      " [ 0.  0.  0. ... 16.  9.  0.]\n",
      " ...\n",
      " [ 0.  0.  1. ...  6.  0.  0.]\n",
      " [ 0.  0.  2. ... 12.  0.  0.]\n",
      " [ 0.  0. 10. ... 12.  1.  0.]]\n",
      "[0 1 2 ... 8 9 8]\n"
     ]
    }
   ],
   "source": [
    "# Create feature and target arrays\n",
    "X = digits.data # pre processed 1D image\n",
    "y = digits.target # 0-8 ko values\n",
    "print(X)\n",
    "print(y)"
   ]
  },
  {
   "cell_type": "markdown",
   "metadata": {
    "_cell_guid": "de019cbf-25da-7eb4-0857-9279bf0766d6",
    "_uuid": "0386e01e294a852c9f648ff167ee2995aa9df2c2",
    "id": "wJ4pdtCu6fcJ"
   },
   "source": [
    "Let's split the data into testing and training sets.  Kaggle already does the splitting for us, but it is good to know how to do this on our own in the real world.  "
   ]
  },
  {
   "cell_type": "code",
   "execution_count": 12,
   "metadata": {
    "_cell_guid": "6f786508-c6c6-13bc-fbe7-e7935df81688",
    "_execution_state": "idle",
    "_uuid": "c7e27366366485e20e8928215d4cfcb56953ca70",
    "execution": {
     "iopub.execute_input": "2022-11-25T07:49:00.595706Z",
     "iopub.status.busy": "2022-11-25T07:49:00.595156Z",
     "iopub.status.idle": "2022-11-25T07:49:00.606578Z",
     "shell.execute_reply": "2022-11-25T07:49:00.605337Z",
     "shell.execute_reply.started": "2022-11-25T07:49:00.595662Z"
    },
    "id": "rrD8YMdl6fcJ"
   },
   "outputs": [],
   "source": [
    "# Split into training and test set\n",
    "X_train, X_test, y_train, y_test = train_test_split(X, y, test_size = 0.2)\n"
   ]
  },
  {
   "cell_type": "markdown",
   "metadata": {
    "_cell_guid": "be7bace8-79db-1349-62f2-8fb933b7a274",
    "_uuid": "6e1968dad2e054f3bb9c1d1ca1044caf3a3966a4",
    "id": "LWeOoMxT6fcJ"
   },
   "source": [
    "Fit the Knn classifier with 7 neighbors.  You can chose another number here.  \n",
    "\n",
    "We'll go through some steps below to determine which number might work best for this data.  For now we will use 7 to see what happens.  "
   ]
  },
  {
   "cell_type": "code",
   "execution_count": 13,
   "metadata": {
    "_cell_guid": "1b2660ec-f7d7-4009-a6f2-c90273d7f8e8",
    "_execution_state": "idle",
    "_uuid": "7d5a2294cb51f834050a1be9179c26a66066f61e",
    "execution": {
     "iopub.execute_input": "2022-11-25T07:49:00.609464Z",
     "iopub.status.busy": "2022-11-25T07:49:00.608646Z",
     "iopub.status.idle": "2022-11-25T07:49:00.615347Z",
     "shell.execute_reply": "2022-11-25T07:49:00.614419Z",
     "shell.execute_reply.started": "2022-11-25T07:49:00.609420Z"
    },
    "id": "qQHy3bKw6fcJ"
   },
   "outputs": [],
   "source": [
    "# Create a k-NN classifier with 7 neighbors: knn\n",
    "knn = KNeighborsClassifier(n_neighbors=30)\n",
    "\n",
    "# 30 neighbour halera clustering gareko\n",
    "# yo value ley hamro accuracy matter garxa\n"
   ]
  },
  {
   "cell_type": "code",
   "execution_count": 14,
   "metadata": {
    "_cell_guid": "1812f78e-13b7-f366-8d3e-c4fbaea53619",
    "_execution_state": "idle",
    "_uuid": "bba4dbd8faf319b57665189420dcd504a61743e4",
    "colab": {
     "base_uri": "https://localhost:8080/",
     "height": 74
    },
    "execution": {
     "iopub.execute_input": "2022-11-25T07:49:00.617495Z",
     "iopub.status.busy": "2022-11-25T07:49:00.616833Z",
     "iopub.status.idle": "2022-11-25T07:49:00.631866Z",
     "shell.execute_reply": "2022-11-25T07:49:00.630689Z",
     "shell.execute_reply.started": "2022-11-25T07:49:00.617461Z"
    },
    "id": "kEFkfZkE6fcK",
    "outputId": "9bcfb1ee-07d0-4e3b-ba1c-34fc5c77047d"
   },
   "outputs": [
    {
     "data": {
      "text/html": [
       "<style>#sk-container-id-1 {color: black;}#sk-container-id-1 pre{padding: 0;}#sk-container-id-1 div.sk-toggleable {background-color: white;}#sk-container-id-1 label.sk-toggleable__label {cursor: pointer;display: block;width: 100%;margin-bottom: 0;padding: 0.3em;box-sizing: border-box;text-align: center;}#sk-container-id-1 label.sk-toggleable__label-arrow:before {content: \"▸\";float: left;margin-right: 0.25em;color: #696969;}#sk-container-id-1 label.sk-toggleable__label-arrow:hover:before {color: black;}#sk-container-id-1 div.sk-estimator:hover label.sk-toggleable__label-arrow:before {color: black;}#sk-container-id-1 div.sk-toggleable__content {max-height: 0;max-width: 0;overflow: hidden;text-align: left;background-color: #f0f8ff;}#sk-container-id-1 div.sk-toggleable__content pre {margin: 0.2em;color: black;border-radius: 0.25em;background-color: #f0f8ff;}#sk-container-id-1 input.sk-toggleable__control:checked~div.sk-toggleable__content {max-height: 200px;max-width: 100%;overflow: auto;}#sk-container-id-1 input.sk-toggleable__control:checked~label.sk-toggleable__label-arrow:before {content: \"▾\";}#sk-container-id-1 div.sk-estimator input.sk-toggleable__control:checked~label.sk-toggleable__label {background-color: #d4ebff;}#sk-container-id-1 div.sk-label input.sk-toggleable__control:checked~label.sk-toggleable__label {background-color: #d4ebff;}#sk-container-id-1 input.sk-hidden--visually {border: 0;clip: rect(1px 1px 1px 1px);clip: rect(1px, 1px, 1px, 1px);height: 1px;margin: -1px;overflow: hidden;padding: 0;position: absolute;width: 1px;}#sk-container-id-1 div.sk-estimator {font-family: monospace;background-color: #f0f8ff;border: 1px dotted black;border-radius: 0.25em;box-sizing: border-box;margin-bottom: 0.5em;}#sk-container-id-1 div.sk-estimator:hover {background-color: #d4ebff;}#sk-container-id-1 div.sk-parallel-item::after {content: \"\";width: 100%;border-bottom: 1px solid gray;flex-grow: 1;}#sk-container-id-1 div.sk-label:hover label.sk-toggleable__label {background-color: #d4ebff;}#sk-container-id-1 div.sk-serial::before {content: \"\";position: absolute;border-left: 1px solid gray;box-sizing: border-box;top: 0;bottom: 0;left: 50%;z-index: 0;}#sk-container-id-1 div.sk-serial {display: flex;flex-direction: column;align-items: center;background-color: white;padding-right: 0.2em;padding-left: 0.2em;position: relative;}#sk-container-id-1 div.sk-item {position: relative;z-index: 1;}#sk-container-id-1 div.sk-parallel {display: flex;align-items: stretch;justify-content: center;background-color: white;position: relative;}#sk-container-id-1 div.sk-item::before, #sk-container-id-1 div.sk-parallel-item::before {content: \"\";position: absolute;border-left: 1px solid gray;box-sizing: border-box;top: 0;bottom: 0;left: 50%;z-index: -1;}#sk-container-id-1 div.sk-parallel-item {display: flex;flex-direction: column;z-index: 1;position: relative;background-color: white;}#sk-container-id-1 div.sk-parallel-item:first-child::after {align-self: flex-end;width: 50%;}#sk-container-id-1 div.sk-parallel-item:last-child::after {align-self: flex-start;width: 50%;}#sk-container-id-1 div.sk-parallel-item:only-child::after {width: 0;}#sk-container-id-1 div.sk-dashed-wrapped {border: 1px dashed gray;margin: 0 0.4em 0.5em 0.4em;box-sizing: border-box;padding-bottom: 0.4em;background-color: white;}#sk-container-id-1 div.sk-label label {font-family: monospace;font-weight: bold;display: inline-block;line-height: 1.2em;}#sk-container-id-1 div.sk-label-container {text-align: center;}#sk-container-id-1 div.sk-container {/* jupyter's `normalize.less` sets `[hidden] { display: none; }` but bootstrap.min.css set `[hidden] { display: none !important; }` so we also need the `!important` here to be able to override the default hidden behavior on the sphinx rendered scikit-learn.org. See: https://github.com/scikit-learn/scikit-learn/issues/21755 */display: inline-block !important;position: relative;}#sk-container-id-1 div.sk-text-repr-fallback {display: none;}</style><div id=\"sk-container-id-1\" class=\"sk-top-container\"><div class=\"sk-text-repr-fallback\"><pre>KNeighborsClassifier(n_neighbors=30)</pre><b>In a Jupyter environment, please rerun this cell to show the HTML representation or trust the notebook. <br />On GitHub, the HTML representation is unable to render, please try loading this page with nbviewer.org.</b></div><div class=\"sk-container\" hidden><div class=\"sk-item\"><div class=\"sk-estimator sk-toggleable\"><input class=\"sk-toggleable__control sk-hidden--visually\" id=\"sk-estimator-id-1\" type=\"checkbox\" checked><label for=\"sk-estimator-id-1\" class=\"sk-toggleable__label sk-toggleable__label-arrow\">KNeighborsClassifier</label><div class=\"sk-toggleable__content\"><pre>KNeighborsClassifier(n_neighbors=30)</pre></div></div></div></div></div>"
      ],
      "text/plain": [
       "KNeighborsClassifier(n_neighbors=30)"
      ]
     },
     "execution_count": 14,
     "metadata": {},
     "output_type": "execute_result"
    }
   ],
   "source": [
    "# Fit the classifier to the training data\n",
    "knn.fit(X_train, y_train)\n"
   ]
  },
  {
   "cell_type": "code",
   "execution_count": 15,
   "metadata": {
    "colab": {
     "base_uri": "https://localhost:8080/"
    },
    "id": "vNxort6HzlCC",
    "outputId": "c759225d-c3e9-447d-e72e-8d361be9a22c"
   },
   "outputs": [
    {
     "name": "stdout",
     "output_type": "stream",
     "text": [
      "0.9686847599164927\n"
     ]
    }
   ],
   "source": [
    "# Print the train accuracy\n",
    "print(knn.score(X_train, y_train))"
   ]
  },
  {
   "cell_type": "code",
   "execution_count": 16,
   "metadata": {
    "colab": {
     "base_uri": "https://localhost:8080/"
    },
    "id": "HpqV53UXMQW2",
    "outputId": "ca864c08-0881-422f-b612-6d025a2ce17b"
   },
   "outputs": [
    {
     "name": "stdout",
     "output_type": "stream",
     "text": [
      "0.9611111111111111\n"
     ]
    }
   ],
   "source": [
    "# Print the test accuracy\n",
    "print(knn.score(X_test, y_test))"
   ]
  },
  {
   "cell_type": "markdown",
   "metadata": {
    "_cell_guid": "147017ab-0e57-8c0e-912b-23cfd1e37962",
    "_uuid": "130e440d09cdc2ccf7140e8ee5d63b03efc37186",
    "id": "dVnh3J_O6fcK"
   },
   "source": [
    "Not bad! 96 percent.  "
   ]
  },
  {
   "cell_type": "code",
   "execution_count": null,
   "metadata": {
    "_cell_guid": "0c1c48ab-06dc-a8ab-9112-9b651a4e4ca4",
    "_execution_state": "idle",
    "_uuid": "d4a4930611afaf78ee5149dd38f9d9bbc2f9e224",
    "execution": {
     "iopub.execute_input": "2022-11-25T07:49:00.705807Z",
     "iopub.status.busy": "2022-11-25T07:49:00.704948Z",
     "iopub.status.idle": "2022-11-25T07:49:00.717153Z",
     "shell.execute_reply": "2022-11-25T07:49:00.715510Z",
     "shell.execute_reply.started": "2022-11-25T07:49:00.705745Z"
    },
    "id": "1obgnGno6fcK"
   },
   "outputs": [],
   "source": [
    "# # Setup arrays to store train\n",
    "# neighbors = np.arange(1, 9)\n",
    "# train_accuracy = np.empty(len(neighbors))\n",
    "# # test_accuracy = np.empty(len(neighbors))\n"
   ]
  },
  {
   "cell_type": "code",
   "execution_count": null,
   "metadata": {
    "id": "lGgSXtkkqum0"
   },
   "outputs": [],
   "source": [
    "# print(train_accuracy)"
   ]
  },
  {
   "cell_type": "code",
   "execution_count": null,
   "metadata": {
    "id": "id-s9ns_rCXh"
   },
   "outputs": [],
   "source": []
  },
  {
   "cell_type": "markdown",
   "metadata": {
    "_cell_guid": "3222705a-68f2-6429-015d-d412785ae5c3",
    "_uuid": "12596bd915cf36ac0af79b0a413b8dc537d023f2",
    "id": "pvQCDz4d6fcK"
   },
   "source": [
    "**Finding a good k value**\n",
    "\n",
    "Let's now compute and plot the training and testing accuracy scores for a variety of different neighbor values. By observing how the accuracy scores differ for the training and testing sets with different values of k, you can develop an intuition for overfitting and underfitting a model.\n",
    "\n",
    "Let's now streamline some of the steps we did above into a for loop."
   ]
  },
  {
   "cell_type": "code",
   "execution_count": null,
   "metadata": {
    "_cell_guid": "6db91f3f-c1e1-4f9c-ed2e-2fff5cc35ebc",
    "_execution_state": "idle",
    "_uuid": "135aad8eeed648dc6796595971d4b0dde9d88991",
    "execution": {
     "iopub.execute_input": "2022-11-25T07:49:00.719954Z",
     "iopub.status.busy": "2022-11-25T07:49:00.719219Z",
     "iopub.status.idle": "2022-11-25T07:49:02.365694Z",
     "shell.execute_reply": "2022-11-25T07:49:02.364030Z",
     "shell.execute_reply.started": "2022-11-25T07:49:00.719882Z"
    },
    "id": "vK0jP_qF6fcL"
   },
   "outputs": [],
   "source": [
    "# # Loop over different values of k\n",
    "# neighbors = np.arange(1, 9)\n",
    "# for i, k in enumerate(neighbors):\n",
    "#     # Setup a k-NN Classifier with k neighbors: knn\n",
    "#     knn = KNeighborsClassifier(n_neighbors=k)\n",
    "\n",
    "#     # Fit the classifier to the training data\n",
    "#     knn.fit(X_train, y_train)\n",
    "\n",
    "#     #Compute accuracy on the training set\n",
    "#     train_accuracy[i] = knn.score(X_train, y_train)\n",
    "\n",
    "#     #Compute accuracy on the testing set\n",
    "#     test_accuracy[i] = knn.score(X_test, y_test)\n",
    "\n",
    "# print(train_accuracy)\n",
    "# print(test_accuracy)"
   ]
  },
  {
   "cell_type": "code",
   "execution_count": 17,
   "metadata": {
    "colab": {
     "base_uri": "https://localhost:8080/"
    },
    "id": "U946aQU6tMcp",
    "outputId": "a95ea257-7989-4fdb-9ba3-108045b31b20"
   },
   "outputs": [
    {
     "name": "stdout",
     "output_type": "stream",
     "text": [
      "Enter k = 50\n",
      "[1.0, 0.9902574808629089, 0.9930410577592206, 0.9930410577592206, 0.9909533750869868, 0.9867780097425192, 0.988865692414753, 0.9867780097425192, 0.988865692414753, 0.988169798190675, 0.9860821155184412, 0.9860821155184412, 0.9860821155184412, 0.9839944328462074, 0.9839944328462074, 0.9812108559498957, 0.9805149617258176, 0.9805149617258176, 0.9805149617258176, 0.9798190675017397, 0.977731384829506, 0.9749478079331941, 0.9735560194850382, 0.9721642310368824, 0.9721642310368824, 0.9735560194850382, 0.9707724425887265, 0.9686847599164927, 0.9686847599164927, 0.9686847599164927, 0.9700765483646486, 0.9693806541405706, 0.9679888656924147, 0.9672929714683368, 0.9665970772442589, 0.9659011830201809, 0.9659011830201809, 0.9659011830201809, 0.964509394572025, 0.965205288796103, 0.964509394572025, 0.9638135003479471, 0.9631176061238692, 0.9589422407794015, 0.9575504523312457, 0.9554627696590118, 0.953375086986778, 0.9526791927627001, 0.9505915100904663, 0.9505915100904663]\n",
      "[0.9888888888888889, 0.9861111111111112, 0.9916666666666667, 0.9833333333333333, 0.9833333333333333, 0.9777777777777777, 0.9777777777777777, 0.9805555555555555, 0.9805555555555555, 0.9805555555555555, 0.9777777777777777, 0.9777777777777777, 0.9722222222222222, 0.9722222222222222, 0.975, 0.9694444444444444, 0.9722222222222222, 0.9666666666666667, 0.9666666666666667, 0.9666666666666667, 0.9666666666666667, 0.9666666666666667, 0.9666666666666667, 0.9666666666666667, 0.9666666666666667, 0.9638888888888889, 0.9666666666666667, 0.9666666666666667, 0.9638888888888889, 0.9611111111111111, 0.9611111111111111, 0.9611111111111111, 0.9611111111111111, 0.9611111111111111, 0.9611111111111111, 0.9611111111111111, 0.9611111111111111, 0.9611111111111111, 0.9611111111111111, 0.9555555555555556, 0.9555555555555556, 0.9527777777777777, 0.9527777777777777, 0.9527777777777777, 0.9527777777777777, 0.95, 0.9527777777777777, 0.9527777777777777, 0.9555555555555556, 0.9472222222222222]\n"
     ]
    }
   ],
   "source": [
    "# Loop over different values of k\n",
    "k = int(input(\"Enter k = \"))\n",
    "train_accuracy = []\n",
    "test_accuracy = []\n",
    "\n",
    "for i in range(0,k):\n",
    "    # Setup a k-NN Classifier with k neighbors: knn\n",
    "    knn = KNeighborsClassifier(n_neighbors=i+1)\n",
    "\n",
    "    # Fit the classifier to the training data\n",
    "    knn.fit(X_train, y_train)\n",
    "\n",
    "    #Compute accuracy on the training set\n",
    "    train_acc = knn.score(X_train, y_train)\n",
    "    train_accuracy.append(train_acc)\n",
    "\n",
    "    #Compute accuracy on the testing set\n",
    "    test_acc = knn.score(X_test, y_test)\n",
    "    test_accuracy.append(test_acc)\n",
    "\n",
    "\n",
    "print(train_accuracy)\n",
    "print(test_accuracy)"
   ]
  },
  {
   "cell_type": "code",
   "execution_count": 18,
   "metadata": {
    "colab": {
     "base_uri": "https://localhost:8080/"
    },
    "id": "Vc56EUj4s4ff",
    "outputId": "95fce407-506a-4baa-9cd3-87222b371760"
   },
   "outputs": [
    {
     "name": "stdout",
     "output_type": "stream",
     "text": [
      "Epoch 1 acc difference  -0.011111111111111072\n",
      "Epoch 2 acc difference  -0.004146369751797718\n",
      "Epoch 3 acc difference  -0.0013743910925538838\n",
      "Epoch 4 acc difference  -0.009707724425887299\n",
      "Epoch 5 acc difference  -0.007620041753653495\n",
      "Epoch 6 acc difference  -0.009000231964741423\n",
      "Epoch 7 acc difference  -0.011087914636975227\n",
      "Epoch 8 acc difference  -0.006222454186963655\n",
      "Epoch 9 acc difference  -0.008310136859197459\n",
      "Epoch 10 acc difference  -0.00761424263511945\n",
      "Epoch 11 acc difference  -0.008304337740663414\n",
      "Epoch 12 acc difference  -0.008304337740663414\n",
      "Epoch 13 acc difference  -0.01385989329621895\n",
      "Epoch 14 acc difference  -0.011772210623985147\n",
      "Epoch 15 acc difference  -0.008994432846207379\n",
      "Epoch 16 acc difference  -0.011766411505451213\n",
      "Epoch 17 acc difference  -0.008292739503595437\n",
      "Epoch 18 acc difference  -0.013848295059150972\n",
      "Epoch 19 acc difference  -0.013848295059150972\n",
      "Epoch 20 acc difference  -0.013152400835073075\n",
      "Epoch 21 acc difference  -0.011064718162839271\n",
      "Epoch 22 acc difference  -0.008281141266527459\n",
      "Epoch 23 acc difference  -0.0068893528183715524\n",
      "Epoch 24 acc difference  -0.005497564370215757\n",
      "Epoch 25 acc difference  -0.005497564370215757\n",
      "Epoch 26 acc difference  -0.00966713059614932\n",
      "Epoch 27 acc difference  -0.004105775922059851\n",
      "Epoch 28 acc difference  -0.0020180932498260473\n",
      "Epoch 29 acc difference  -0.004795871027603815\n",
      "Epoch 30 acc difference  -0.007573648805381583\n",
      "Epoch 31 acc difference  -0.00896543725353749\n",
      "Epoch 32 acc difference  -0.00826954302945948\n",
      "Epoch 33 acc difference  -0.0068777545813035745\n",
      "Epoch 34 acc difference  -0.006181860357225677\n",
      "Epoch 35 acc difference  -0.005485966133147779\n",
      "Epoch 36 acc difference  -0.004790071909069771\n",
      "Epoch 37 acc difference  -0.004790071909069771\n",
      "Epoch 38 acc difference  -0.004790071909069771\n",
      "Epoch 39 acc difference  -0.0033982834609138646\n",
      "Epoch 40 acc difference  -0.009649733240547409\n",
      "Epoch 41 acc difference  -0.0089538390164694\n",
      "Epoch 42 acc difference  -0.011035722570169382\n",
      "Epoch 43 acc difference  -0.010339828346091484\n",
      "Epoch 44 acc difference  -0.006164463001623766\n",
      "Epoch 45 acc difference  -0.00477267455346797\n",
      "Epoch 46 acc difference  -0.0054627696590118235\n",
      "Epoch 47 acc difference  -0.0005973092090002519\n",
      "Epoch 48 acc difference  9.858501507764572e-05\n",
      "Epoch 49 acc difference  0.004964045465089328\n",
      "Epoch 50 acc difference  -0.0033692878682440863\n"
     ]
    }
   ],
   "source": [
    "for i in range(k):\n",
    "  print(\"Epoch\",i+1,\"acc difference \",test_accuracy[i] - train_accuracy[i])\n",
    "\n",
    "# train accuracy ra test accuracy difference"
   ]
  },
  {
   "cell_type": "code",
   "execution_count": 19,
   "metadata": {
    "_cell_guid": "91c2ad8e-9166-b47b-d9df-61bd2f1b49eb",
    "_execution_state": "idle",
    "_uuid": "be999a070073101119201653a5ac62846e4160e3",
    "colab": {
     "base_uri": "https://localhost:8080/",
     "height": 472
    },
    "execution": {
     "iopub.execute_input": "2022-11-25T07:49:02.368054Z",
     "iopub.status.busy": "2022-11-25T07:49:02.367504Z",
     "iopub.status.idle": "2022-11-25T07:49:02.676872Z",
     "shell.execute_reply": "2022-11-25T07:49:02.675659Z",
     "shell.execute_reply.started": "2022-11-25T07:49:02.368004Z"
    },
    "id": "mHmZ-CSw6fcL",
    "outputId": "2b5fc53d-f668-4d70-f0c2-4762e36cd91f"
   },
   "outputs": [
    {
     "data": {
      "image/png": "[encoded data removed]",
      "text/plain": [
       "<Figure size 640x480 with 1 Axes>"
      ]
     },
     "metadata": {},
     "output_type": "display_data"
    }
   ],
   "source": [
    "# Generate plot\n",
    "plt.title('k-NN: Varying Number of Neighbors')\n",
    "neighbors = [i for i in range(1,k+1)]\n",
    "plt.plot(neighbors, test_accuracy, label = 'Testing Accuracy')\n",
    "plt.plot(neighbors, train_accuracy, label = 'Training Accuracy')\n",
    "plt.legend()\n",
    "plt.xlabel('Number of Neighbors')\n",
    "plt.ylabel('Accuracy')\n",
    "plt.show()\n",
    "\n",
    "\n",
    "# value of k is perfect if the diff is lowest\n",
    "# in this case k=3"
   ]
  },
  {
   "cell_type": "markdown",
   "metadata": {
    "_cell_guid": "5f5beec9-30fc-031e-42ce-853b1eb413d9",
    "_uuid": "6c4038dfe2313d59b24c9a6a488be1ab1d537850",
    "id": "auYXt3yj6fcL"
   },
   "source": [
    "As we can see from the plot, it appears like the test accuracy is highest when using 3 and 5 neighbors.  7 isn't too bad, but using 8 neighbors or more seems to result in a simple model that under fits the data."
   ]
  },
  {
   "cell_type": "code",
   "execution_count": 20,
   "metadata": {
    "colab": {
     "base_uri": "https://localhost:8080/",
     "height": 74
    },
    "id": "thp3zCdQcGVc",
    "outputId": "8bd666e9-d2bf-4a8e-86f0-a079c985cd91"
   },
   "outputs": [
    {
     "data": {
      "text/html": [
       "<style>#sk-container-id-2 {color: black;}#sk-container-id-2 pre{padding: 0;}#sk-container-id-2 div.sk-toggleable {background-color: white;}#sk-container-id-2 label.sk-toggleable__label {cursor: pointer;display: block;width: 100%;margin-bottom: 0;padding: 0.3em;box-sizing: border-box;text-align: center;}#sk-container-id-2 label.sk-toggleable__label-arrow:before {content: \"▸\";float: left;margin-right: 0.25em;color: #696969;}#sk-container-id-2 label.sk-toggleable__label-arrow:hover:before {color: black;}#sk-container-id-2 div.sk-estimator:hover label.sk-toggleable__label-arrow:before {color: black;}#sk-container-id-2 div.sk-toggleable__content {max-height: 0;max-width: 0;overflow: hidden;text-align: left;background-color: #f0f8ff;}#sk-container-id-2 div.sk-toggleable__content pre {margin: 0.2em;color: black;border-radius: 0.25em;background-color: #f0f8ff;}#sk-container-id-2 input.sk-toggleable__control:checked~div.sk-toggleable__content {max-height: 200px;max-width: 100%;overflow: auto;}#sk-container-id-2 input.sk-toggleable__control:checked~label.sk-toggleable__label-arrow:before {content: \"▾\";}#sk-container-id-2 div.sk-estimator input.sk-toggleable__control:checked~label.sk-toggleable__label {background-color: #d4ebff;}#sk-container-id-2 div.sk-label input.sk-toggleable__control:checked~label.sk-toggleable__label {background-color: #d4ebff;}#sk-container-id-2 input.sk-hidden--visually {border: 0;clip: rect(1px 1px 1px 1px);clip: rect(1px, 1px, 1px, 1px);height: 1px;margin: -1px;overflow: hidden;padding: 0;position: absolute;width: 1px;}#sk-container-id-2 div.sk-estimator {font-family: monospace;background-color: #f0f8ff;border: 1px dotted black;border-radius: 0.25em;box-sizing: border-box;margin-bottom: 0.5em;}#sk-container-id-2 div.sk-estimator:hover {background-color: #d4ebff;}#sk-container-id-2 div.sk-parallel-item::after {content: \"\";width: 100%;border-bottom: 1px solid gray;flex-grow: 1;}#sk-container-id-2 div.sk-label:hover label.sk-toggleable__label {background-color: #d4ebff;}#sk-container-id-2 div.sk-serial::before {content: \"\";position: absolute;border-left: 1px solid gray;box-sizing: border-box;top: 0;bottom: 0;left: 50%;z-index: 0;}#sk-container-id-2 div.sk-serial {display: flex;flex-direction: column;align-items: center;background-color: white;padding-right: 0.2em;padding-left: 0.2em;position: relative;}#sk-container-id-2 div.sk-item {position: relative;z-index: 1;}#sk-container-id-2 div.sk-parallel {display: flex;align-items: stretch;justify-content: center;background-color: white;position: relative;}#sk-container-id-2 div.sk-item::before, #sk-container-id-2 div.sk-parallel-item::before {content: \"\";position: absolute;border-left: 1px solid gray;box-sizing: border-box;top: 0;bottom: 0;left: 50%;z-index: -1;}#sk-container-id-2 div.sk-parallel-item {display: flex;flex-direction: column;z-index: 1;position: relative;background-color: white;}#sk-container-id-2 div.sk-parallel-item:first-child::after {align-self: flex-end;width: 50%;}#sk-container-id-2 div.sk-parallel-item:last-child::after {align-self: flex-start;width: 50%;}#sk-container-id-2 div.sk-parallel-item:only-child::after {width: 0;}#sk-container-id-2 div.sk-dashed-wrapped {border: 1px dashed gray;margin: 0 0.4em 0.5em 0.4em;box-sizing: border-box;padding-bottom: 0.4em;background-color: white;}#sk-container-id-2 div.sk-label label {font-family: monospace;font-weight: bold;display: inline-block;line-height: 1.2em;}#sk-container-id-2 div.sk-label-container {text-align: center;}#sk-container-id-2 div.sk-container {/* jupyter's `normalize.less` sets `[hidden] { display: none; }` but bootstrap.min.css set `[hidden] { display: none !important; }` so we also need the `!important` here to be able to override the default hidden behavior on the sphinx rendered scikit-learn.org. See: https://github.com/scikit-learn/scikit-learn/issues/21755 */display: inline-block !important;position: relative;}#sk-container-id-2 div.sk-text-repr-fallback {display: none;}</style><div id=\"sk-container-id-2\" class=\"sk-top-container\"><div class=\"sk-text-repr-fallback\"><pre>KNeighborsClassifier(n_neighbors=3)</pre><b>In a Jupyter environment, please rerun this cell to show the HTML representation or trust the notebook. <br />On GitHub, the HTML representation is unable to render, please try loading this page with nbviewer.org.</b></div><div class=\"sk-container\" hidden><div class=\"sk-item\"><div class=\"sk-estimator sk-toggleable\"><input class=\"sk-toggleable__control sk-hidden--visually\" id=\"sk-estimator-id-2\" type=\"checkbox\" checked><label for=\"sk-estimator-id-2\" class=\"sk-toggleable__label sk-toggleable__label-arrow\">KNeighborsClassifier</label><div class=\"sk-toggleable__content\"><pre>KNeighborsClassifier(n_neighbors=3)</pre></div></div></div></div></div>"
      ],
      "text/plain": [
       "KNeighborsClassifier(n_neighbors=3)"
      ]
     },
     "execution_count": 20,
     "metadata": {},
     "output_type": "execute_result"
    }
   ],
   "source": [
    "# Create a k-NN classifier with 7 neighbors: knn\n",
    "knn = KNeighborsClassifier(n_neighbors=3)\n",
    "# Fit the classifier to the training data\n",
    "knn.fit(X_train, y_train)\n",
    "\n"
   ]
  },
  {
   "cell_type": "code",
   "execution_count": 21,
   "metadata": {
    "colab": {
     "base_uri": "https://localhost:8080/"
    },
    "id": "fsr8JsUW6fcL",
    "outputId": "aa6fb234-1f87-4edb-e88d-ff887d0b21f7"
   },
   "outputs": [
    {
     "name": "stdout",
     "output_type": "stream",
     "text": [
      "              precision    recall  f1-score   support\n",
      "\n",
      "           0       1.00      1.00      1.00        30\n",
      "           1       1.00      1.00      1.00        45\n",
      "           2       1.00      1.00      1.00        34\n",
      "           3       1.00      1.00      1.00        36\n",
      "           4       0.97      1.00      0.99        36\n",
      "           5       1.00      0.97      0.98        32\n",
      "           6       1.00      1.00      1.00        33\n",
      "           7       1.00      1.00      1.00        29\n",
      "           8       0.97      1.00      0.99        37\n",
      "           9       0.98      0.96      0.97        48\n",
      "\n",
      "    accuracy                           0.99       360\n",
      "   macro avg       0.99      0.99      0.99       360\n",
      "weighted avg       0.99      0.99      0.99       360\n",
      "\n"
     ]
    },
    {
     "data": {
      "text/plain": [
       "array([[30,  0,  0,  0,  0,  0,  0,  0,  0,  0],\n",
       "       [ 0, 45,  0,  0,  0,  0,  0,  0,  0,  0],\n",
       "       [ 0,  0, 34,  0,  0,  0,  0,  0,  0,  0],\n",
       "       [ 0,  0,  0, 36,  0,  0,  0,  0,  0,  0],\n",
       "       [ 0,  0,  0,  0, 36,  0,  0,  0,  0,  0],\n",
       "       [ 0,  0,  0,  0,  0, 31,  0,  0,  0,  1],\n",
       "       [ 0,  0,  0,  0,  0,  0, 33,  0,  0,  0],\n",
       "       [ 0,  0,  0,  0,  0,  0,  0, 29,  0,  0],\n",
       "       [ 0,  0,  0,  0,  0,  0,  0,  0, 37,  0],\n",
       "       [ 0,  0,  0,  0,  1,  0,  0,  0,  1, 46]], dtype=int64)"
      ]
     },
     "execution_count": 21,
     "metadata": {},
     "output_type": "execute_result"
    }
   ],
   "source": [
    "from sklearn.metrics import classification_report,confusion_matrix\n",
    "len(knn.predict(X_train))\n",
    "print(classification_report(y_test, knn.predict(X_test)))\n",
    "\n",
    "cm = confusion_matrix(y_test, knn.predict(X_test))\n",
    "cm\n"
   ]
  },
  {
   "cell_type": "code",
   "execution_count": null,
   "metadata": {
    "id": "Wo295bIwvWAA"
   },
   "outputs": [],
   "source": [
    "# list(y_test)"
   ]
  },
  {
   "cell_type": "code",
   "execution_count": null,
   "metadata": {
    "id": "p7ZjEyh96fcL"
   },
   "outputs": [],
   "source": [
    "# knn.predict(X_test)"
   ]
  },
  {
   "cell_type": "code",
   "execution_count": null,
   "metadata": {
    "id": "XUdpnRHB6fcM"
   },
   "outputs": [],
   "source": [
    "# y_test"
   ]
  },
  {
   "cell_type": "code",
   "execution_count": 22,
   "metadata": {
    "colab": {
     "base_uri": "https://localhost:8080/",
     "height": 661
    },
    "id": "GX2nFaj8294T",
    "outputId": "d3b98738-93c0-4f44-e387-b284df23cf20"
   },
   "outputs": [
    {
     "data": {
      "image/png": "[encoded data removed]",
      "text/plain": [
       "<Figure size 800x800 with 2 Axes>"
      ]
     },
     "metadata": {},
     "output_type": "display_data"
    }
   ],
   "source": [
    "import matplotlib.pyplot as plt\n",
    "from sklearn.metrics import ConfusionMatrixDisplay\n",
    "\n",
    "# Change figure size and increase dpi for better resolution\n",
    "# and get reference to axes object\n",
    "fig, ax = plt.subplots(figsize=(8,8), dpi=100)\n",
    "class_names = [0,1,2,3,4,5,6,7,8,9]\n",
    "# initialize using the raw 2D confusion matrix\n",
    "# and output labels (in our case, it's 0 and 1)\n",
    "display = ConfusionMatrixDisplay(cm, display_labels=class_names)\n",
    "\n",
    "# set the plot title using the axes object\n",
    "ax.set(title='Confusion Matrix for the digit classification Model')\n",
    "\n",
    "# show the plot.\n",
    "# Pass the parameter ax to show customizations (ex. title)\n",
    "display.plot(ax=ax);"
   ]
  },
  {
   "cell_type": "code",
   "execution_count": null,
   "metadata": {
    "id": "Ww9UYvkNS81Q"
   },
   "outputs": [],
   "source": []
  }
 ],
 "metadata": {
  "_change_revision": 0,
  "_is_fork": false,
  "colab": {
   "provenance": []
  },
  "kernelspec": {
   "display_name": "Python 3 (ipykernel)",
   "language": "python",
   "name": "python3"
  },
  "language_info": {
   "codemirror_mode": {
    "name": "ipython",
    "version": 3
   },
   "file_extension": ".py",
   "mimetype": "text/x-python",
   "name": "python",
   "nbconvert_exporter": "python",
   "pygments_lexer": "ipython3",
   "version": "3.11.4"
  }
 },
 "nbformat": 4,
 "nbformat_minor": 1
}
