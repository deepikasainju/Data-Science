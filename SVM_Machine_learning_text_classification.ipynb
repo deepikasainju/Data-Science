{
 "cells": [
  {
   "cell_type": "code",
   "execution_count": 1,
   "metadata": {
    "_cell_guid": "79c7e3d0-c299-4dcb-8224-4455121ee9b0",
    "_uuid": "d629ff2d2480ee46fbb7e2d37f6b5fab8052498a",
    "colab": {
     "base_uri": "https://localhost:8080/"
    },
    "id": "RVX6268RlJ9g",
    "outputId": "a9a26366-e355-41a4-c6fe-cb424b082818"
   },
   "outputs": [
    {
     "name": "stdout",
     "output_type": "stream",
     "text": [
      "Requirement already satisfied: scikit-learn in c:\\users\\deepika sainju\\anaconda\\lib\\site-packages (1.3.2)\n",
      "Requirement already satisfied: numpy<2.0,>=1.17.3 in c:\\users\\deepika sainju\\anaconda\\lib\\site-packages (from scikit-learn) (1.24.3)\n",
      "Requirement already satisfied: scipy>=1.5.0 in c:\\users\\deepika sainju\\anaconda\\lib\\site-packages (from scikit-learn) (1.10.1)\n",
      "Requirement already satisfied: joblib>=1.1.1 in c:\\users\\deepika sainju\\anaconda\\lib\\site-packages (from scikit-learn) (1.2.0)\n",
      "Requirement already satisfied: threadpoolctl>=2.0.0 in c:\\users\\deepika sainju\\anaconda\\lib\\site-packages (from scikit-learn) (2.2.0)\n"
     ]
    },
    {
     "name": "stderr",
     "output_type": "stream",
     "text": [
      "C:\\Users\\Deepika Sainju\\AppData\\Local\\Temp\\ipykernel_3304\\851472779.py:8: MatplotlibDeprecationWarning: The seaborn styles shipped by Matplotlib are deprecated since 3.6, as they no longer correspond to the styles shipped by seaborn. However, they will remain available as 'seaborn-v0_8-<style>'. Alternatively, directly use the seaborn API instead.\n",
      "  plt.style.use('seaborn-deep')\n",
      "[nltk_data] Downloading package stopwords to C:\\Users\\Deepika\n",
      "[nltk_data]     Sainju\\AppData\\Roaming\\nltk_data...\n",
      "[nltk_data]   Package stopwords is already up-to-date!\n"
     ]
    },
    {
     "data": {
      "text/plain": [
       "True"
      ]
     },
     "execution_count": 1,
     "metadata": {},
     "output_type": "execute_result"
    }
   ],
   "source": [
    "!pip install --upgrade scikit-learn\n",
    "\n",
    "import numpy as np\n",
    "import pandas as pd\n",
    "import matplotlib.pyplot as plt\n",
    "import seaborn as sns\n",
    "%matplotlib inline\n",
    "plt.style.use('seaborn-deep')\n",
    "from sklearn.metrics import confusion_matrix\n",
    "import nltk\n",
    "nltk.download('stopwords')"
   ]
  },
  {
   "cell_type": "code",
   "execution_count": null,
   "metadata": {
    "id": "TFm98IJYeQCD"
   },
   "outputs": [],
   "source": [
    "# from google.colab import drive\n",
    "# drive.mount('/content/bbc-text.csv')"
   ]
  },
  {
   "cell_type": "markdown",
   "metadata": {
    "id": "in7CBKxJlJ9j"
   },
   "source": [
    "**Check out the Data**"
   ]
  },
  {
   "cell_type": "code",
   "execution_count": 2,
   "metadata": {
    "colab": {
     "base_uri": "https://localhost:8080/",
     "height": 206
    },
    "id": "mtKmXRl0lJ9k",
    "outputId": "40f678b9-943b-4ad1-c3f0-39ad2a6c8330"
   },
   "outputs": [
    {
     "data": {
      "text/html": [
       "<div>\n",
       "<style scoped>\n",
       "    .dataframe tbody tr th:only-of-type {\n",
       "        vertical-align: middle;\n",
       "    }\n",
       "\n",
       "    .dataframe tbody tr th {\n",
       "        vertical-align: top;\n",
       "    }\n",
       "\n",
       "    .dataframe thead th {\n",
       "        text-align: right;\n",
       "    }\n",
       "</style>\n",
       "<table border=\"1\" class=\"dataframe\">\n",
       "  <thead>\n",
       "    <tr style=\"text-align: right;\">\n",
       "      <th></th>\n",
       "      <th>category</th>\n",
       "      <th>text</th>\n",
       "    </tr>\n",
       "  </thead>\n",
       "  <tbody>\n",
       "    <tr>\n",
       "      <th>0</th>\n",
       "      <td>tech</td>\n",
       "      <td>tv future in the hands of viewers with home th...</td>\n",
       "    </tr>\n",
       "    <tr>\n",
       "      <th>1</th>\n",
       "      <td>business</td>\n",
       "      <td>worldcom boss  left books alone  former worldc...</td>\n",
       "    </tr>\n",
       "    <tr>\n",
       "      <th>2</th>\n",
       "      <td>sport</td>\n",
       "      <td>tigers wary of farrell  gamble  leicester say ...</td>\n",
       "    </tr>\n",
       "    <tr>\n",
       "      <th>3</th>\n",
       "      <td>sport</td>\n",
       "      <td>yeading face newcastle in fa cup premiership s...</td>\n",
       "    </tr>\n",
       "    <tr>\n",
       "      <th>4</th>\n",
       "      <td>entertainment</td>\n",
       "      <td>ocean s twelve raids box office ocean s twelve...</td>\n",
       "    </tr>\n",
       "  </tbody>\n",
       "</table>\n",
       "</div>"
      ],
      "text/plain": [
       "        category                                               text\n",
       "0           tech  tv future in the hands of viewers with home th...\n",
       "1       business  worldcom boss  left books alone  former worldc...\n",
       "2          sport  tigers wary of farrell  gamble  leicester say ...\n",
       "3          sport  yeading face newcastle in fa cup premiership s...\n",
       "4  entertainment  ocean s twelve raids box office ocean s twelve..."
      ]
     },
     "execution_count": 2,
     "metadata": {},
     "output_type": "execute_result"
    }
   ],
   "source": [
    "df = pd.read_csv('bbc-text.csv')\n",
    "df.head()"
   ]
  },
  {
   "cell_type": "code",
   "execution_count": 3,
   "metadata": {
    "colab": {
     "base_uri": "https://localhost:8080/"
    },
    "id": "3qrFtV5slJ9k",
    "outputId": "ef232e44-b771-49b4-ff0d-54e14bb6334f"
   },
   "outputs": [
    {
     "name": "stdout",
     "output_type": "stream",
     "text": [
      "<class 'pandas.core.frame.DataFrame'>\n",
      "RangeIndex: 2225 entries, 0 to 2224\n",
      "Data columns (total 2 columns):\n",
      " #   Column    Non-Null Count  Dtype \n",
      "---  ------    --------------  ----- \n",
      " 0   category  2225 non-null   object\n",
      " 1   text      2225 non-null   object\n",
      "dtypes: object(2)\n",
      "memory usage: 34.9+ KB\n"
     ]
    }
   ],
   "source": [
    "df.info()"
   ]
  },
  {
   "cell_type": "markdown",
   "metadata": {
    "id": "OI9znHNvlJ9k"
   },
   "source": [
    "# **Exploratory Data Analysis**"
   ]
  },
  {
   "cell_type": "code",
   "execution_count": 4,
   "metadata": {
    "colab": {
     "base_uri": "https://localhost:8080/",
     "height": 237
    },
    "id": "qyWenaZzlJ9l",
    "outputId": "c3de59c8-916c-4a60-9c2b-5414f8141fe6"
   },
   "outputs": [
    {
     "data": {
      "text/html": [
       "<div>\n",
       "<style scoped>\n",
       "    .dataframe tbody tr th:only-of-type {\n",
       "        vertical-align: middle;\n",
       "    }\n",
       "\n",
       "    .dataframe tbody tr th {\n",
       "        vertical-align: top;\n",
       "    }\n",
       "\n",
       "    .dataframe thead th {\n",
       "        text-align: right;\n",
       "    }\n",
       "</style>\n",
       "<table border=\"1\" class=\"dataframe\">\n",
       "  <thead>\n",
       "    <tr style=\"text-align: right;\">\n",
       "      <th></th>\n",
       "      <th>text</th>\n",
       "    </tr>\n",
       "    <tr>\n",
       "      <th>category</th>\n",
       "      <th></th>\n",
       "    </tr>\n",
       "  </thead>\n",
       "  <tbody>\n",
       "    <tr>\n",
       "      <th>business</th>\n",
       "      <td>510</td>\n",
       "    </tr>\n",
       "    <tr>\n",
       "      <th>entertainment</th>\n",
       "      <td>386</td>\n",
       "    </tr>\n",
       "    <tr>\n",
       "      <th>politics</th>\n",
       "      <td>417</td>\n",
       "    </tr>\n",
       "    <tr>\n",
       "      <th>sport</th>\n",
       "      <td>511</td>\n",
       "    </tr>\n",
       "    <tr>\n",
       "      <th>tech</th>\n",
       "      <td>401</td>\n",
       "    </tr>\n",
       "  </tbody>\n",
       "</table>\n",
       "</div>"
      ],
      "text/plain": [
       "               text\n",
       "category           \n",
       "business        510\n",
       "entertainment   386\n",
       "politics        417\n",
       "sport           511\n",
       "tech            401"
      ]
     },
     "execution_count": 4,
     "metadata": {},
     "output_type": "execute_result"
    }
   ],
   "source": [
    "df.groupby('category').count()"
   ]
  },
  {
   "cell_type": "markdown",
   "metadata": {
    "id": "ZdHxQVvylJ9l"
   },
   "source": [
    "Let's make a new column to detect how long the text messages are"
   ]
  },
  {
   "cell_type": "code",
   "execution_count": 5,
   "metadata": {
    "colab": {
     "base_uri": "https://localhost:8080/",
     "height": 423
    },
    "id": "56unpDNmlJ9l",
    "outputId": "ef9039ca-079f-4401-eeed-7c2b07447ad3"
   },
   "outputs": [
    {
     "data": {
      "text/html": [
       "<div>\n",
       "<style scoped>\n",
       "    .dataframe tbody tr th:only-of-type {\n",
       "        vertical-align: middle;\n",
       "    }\n",
       "\n",
       "    .dataframe tbody tr th {\n",
       "        vertical-align: top;\n",
       "    }\n",
       "\n",
       "    .dataframe thead th {\n",
       "        text-align: right;\n",
       "    }\n",
       "</style>\n",
       "<table border=\"1\" class=\"dataframe\">\n",
       "  <thead>\n",
       "    <tr style=\"text-align: right;\">\n",
       "      <th></th>\n",
       "      <th>category</th>\n",
       "      <th>text</th>\n",
       "      <th>Length</th>\n",
       "    </tr>\n",
       "  </thead>\n",
       "  <tbody>\n",
       "    <tr>\n",
       "      <th>0</th>\n",
       "      <td>tech</td>\n",
       "      <td>tv future in the hands of viewers with home th...</td>\n",
       "      <td>4333</td>\n",
       "    </tr>\n",
       "    <tr>\n",
       "      <th>1</th>\n",
       "      <td>business</td>\n",
       "      <td>worldcom boss  left books alone  former worldc...</td>\n",
       "      <td>1842</td>\n",
       "    </tr>\n",
       "    <tr>\n",
       "      <th>2</th>\n",
       "      <td>sport</td>\n",
       "      <td>tigers wary of farrell  gamble  leicester say ...</td>\n",
       "      <td>1342</td>\n",
       "    </tr>\n",
       "    <tr>\n",
       "      <th>3</th>\n",
       "      <td>sport</td>\n",
       "      <td>yeading face newcastle in fa cup premiership s...</td>\n",
       "      <td>2176</td>\n",
       "    </tr>\n",
       "    <tr>\n",
       "      <th>4</th>\n",
       "      <td>entertainment</td>\n",
       "      <td>ocean s twelve raids box office ocean s twelve...</td>\n",
       "      <td>1579</td>\n",
       "    </tr>\n",
       "    <tr>\n",
       "      <th>...</th>\n",
       "      <td>...</td>\n",
       "      <td>...</td>\n",
       "      <td>...</td>\n",
       "    </tr>\n",
       "    <tr>\n",
       "      <th>2220</th>\n",
       "      <td>business</td>\n",
       "      <td>cars pull down us retail figures us retail sal...</td>\n",
       "      <td>1745</td>\n",
       "    </tr>\n",
       "    <tr>\n",
       "      <th>2221</th>\n",
       "      <td>politics</td>\n",
       "      <td>kilroy unveils immigration policy ex-chatshow ...</td>\n",
       "      <td>955</td>\n",
       "    </tr>\n",
       "    <tr>\n",
       "      <th>2222</th>\n",
       "      <td>entertainment</td>\n",
       "      <td>rem announce new glasgow concert us band rem h...</td>\n",
       "      <td>1648</td>\n",
       "    </tr>\n",
       "    <tr>\n",
       "      <th>2223</th>\n",
       "      <td>politics</td>\n",
       "      <td>how political squabbles snowball it s become c...</td>\n",
       "      <td>4684</td>\n",
       "    </tr>\n",
       "    <tr>\n",
       "      <th>2224</th>\n",
       "      <td>sport</td>\n",
       "      <td>souness delight at euro progress boss graeme s...</td>\n",
       "      <td>1167</td>\n",
       "    </tr>\n",
       "  </tbody>\n",
       "</table>\n",
       "<p>2225 rows × 3 columns</p>\n",
       "</div>"
      ],
      "text/plain": [
       "           category                                               text  Length\n",
       "0              tech  tv future in the hands of viewers with home th...    4333\n",
       "1          business  worldcom boss  left books alone  former worldc...    1842\n",
       "2             sport  tigers wary of farrell  gamble  leicester say ...    1342\n",
       "3             sport  yeading face newcastle in fa cup premiership s...    2176\n",
       "4     entertainment  ocean s twelve raids box office ocean s twelve...    1579\n",
       "...             ...                                                ...     ...\n",
       "2220       business  cars pull down us retail figures us retail sal...    1745\n",
       "2221       politics  kilroy unveils immigration policy ex-chatshow ...     955\n",
       "2222  entertainment  rem announce new glasgow concert us band rem h...    1648\n",
       "2223       politics  how political squabbles snowball it s become c...    4684\n",
       "2224          sport  souness delight at euro progress boss graeme s...    1167\n",
       "\n",
       "[2225 rows x 3 columns]"
      ]
     },
     "execution_count": 5,
     "metadata": {},
     "output_type": "execute_result"
    }
   ],
   "source": [
    "df['Length'] = df['text'].apply(len)\n",
    "df\n",
    "\n",
    "# length vanne new column add gareko"
   ]
  },
  {
   "cell_type": "markdown",
   "metadata": {
    "id": "kSVpWsi-lJ9m"
   },
   "source": [
    "Let's see the percentage of ham and spam in our dataset"
   ]
  },
  {
   "cell_type": "code",
   "execution_count": 6,
   "metadata": {
    "colab": {
     "base_uri": "https://localhost:8080/"
    },
    "id": "3nQNjgiclJ9n",
    "outputId": "9b9cbe90-05a3-4c01-a1d0-e89eb78f77c3"
   },
   "outputs": [
    {
     "data": {
      "text/plain": [
       "count     2225.00000\n",
       "mean      2262.93618\n",
       "std       1364.10253\n",
       "min        501.00000\n",
       "25%       1446.00000\n",
       "50%       1965.00000\n",
       "75%       2802.00000\n",
       "max      25483.00000\n",
       "Name: Length, dtype: float64"
      ]
     },
     "execution_count": 6,
     "metadata": {},
     "output_type": "execute_result"
    }
   ],
   "source": [
    "df['Length'].describe()\n",
    "# min wala data hatauna parne pani huna sakxa"
   ]
  },
  {
   "cell_type": "markdown",
   "metadata": {
    "id": "x26fjBBwlJ9n"
   },
   "source": [
    "One of the text has 501 characters, let's use masking to find this message:"
   ]
  },
  {
   "cell_type": "markdown",
   "metadata": {
    "id": "AwqqkNbklJ9n"
   },
   "source": [
    "# **Text Cleaning**"
   ]
  },
  {
   "cell_type": "markdown",
   "metadata": {
    "id": "yBqjJxTllJ9n"
   },
   "source": [
    "Let’s clean the text for the messages in our dataset with NLP."
   ]
  },
  {
   "cell_type": "code",
   "execution_count": 7,
   "metadata": {
    "id": "K4oGdaq6lJ9n"
   },
   "outputs": [],
   "source": [
    "import string\n",
    "from nltk.corpus import stopwords"
   ]
  },
  {
   "cell_type": "code",
   "execution_count": 8,
   "metadata": {
    "colab": {
     "base_uri": "https://localhost:8080/",
     "height": 36
    },
    "id": "CsfhI37apx07",
    "outputId": "5d25a40d-97ec-43b9-8154-4979b4c105ab"
   },
   "outputs": [
    {
     "data": {
      "text/plain": [
       "'!\"#$%&\\'()*+,-./:;<=>?@[\\\\]^_`{|}~'"
      ]
     },
     "execution_count": 8,
     "metadata": {},
     "output_type": "execute_result"
    }
   ],
   "source": [
    "string.punctuation\n",
    "\n",
    "# punctuation= sign or special characters"
   ]
  },
  {
   "cell_type": "code",
   "execution_count": 9,
   "metadata": {
    "id": "Z0a-YbxLpauM"
   },
   "outputs": [],
   "source": [
    "mess = '''For me / @the love should start with attraction.i should feel that I need her every time around me.she should be the first thing which comes in my thoughts.I would start the day and end it with her.she should be there every time I dream.love will be then when my every breath has her name.my life should happen around her.my life will be named to her.I would cry for her.will give all my happiness and take all her sorrows.I will be ready to fight with anyone for her.I will be in love when I will be doing the craziest things for her.love will be when I don't have to proove anyone that my girl is the most beautiful lady on the whole planet.I will always be singing praises for her.love will be when I start up making chicken curry and end up makiing sambar.life will be the most beautiful then.will get every morning and thank god for the day because she is with me.I would like to say a lot..will tell later..'''"
   ]
  },
  {
   "cell_type": "code",
   "execution_count": 10,
   "metadata": {
    "colab": {
     "base_uri": "https://localhost:8080/"
    },
    "id": "_qJj6D5LpOE3",
    "outputId": "4f33ff52-5b4f-4ed5-edaa-8728641307dc"
   },
   "outputs": [
    {
     "name": "stdout",
     "output_type": "stream",
     "text": [
      "For me  the love should start with attractioni should feel that I need her every time around meshe should be the first thing which comes in my thoughtsI would start the day and end it with hershe should be there every time I dreamlove will be then when my every breath has her namemy life should happen around hermy life will be named to herI would cry for herwill give all my happiness and take all her sorrowsI will be ready to fight with anyone for herI will be in love when I will be doing the craziest things for herlove will be when I dont have to proove anyone that my girl is the most beautiful lady on the whole planetI will always be singing praises for herlove will be when I start up making chicken curry and end up makiing sambarlife will be the most beautiful thenwill get every morning and thank god for the day because she is with meI would like to say a lotwill tell later\n"
     ]
    }
   ],
   "source": [
    "nopunc = ''.join([char for char in mess if char not in string.punctuation])\n",
    "print(nopunc)\n",
    "\n",
    "# list comprehension use garera punctuation hatako\n",
    "# alphabets haru matra join garne"
   ]
  },
  {
   "cell_type": "code",
   "execution_count": 11,
   "metadata": {
    "colab": {
     "base_uri": "https://localhost:8080/"
    },
    "id": "6kcjesyaqWzR",
    "outputId": "89205d6b-8e2b-41e4-8e8b-97d8377674ed"
   },
   "outputs": [
    {
     "name": "stderr",
     "output_type": "stream",
     "text": [
      "[nltk_data] Downloading package stopwords to C:\\Users\\Deepika\n",
      "[nltk_data]     Sainju\\AppData\\Roaming\\nltk_data...\n",
      "[nltk_data]   Package stopwords is already up-to-date!\n"
     ]
    },
    {
     "data": {
      "text/plain": [
       "['i',\n",
       " 'me',\n",
       " 'my',\n",
       " 'myself',\n",
       " 'we',\n",
       " 'our',\n",
       " 'ours',\n",
       " 'ourselves',\n",
       " 'you',\n",
       " \"you're\",\n",
       " \"you've\",\n",
       " \"you'll\",\n",
       " \"you'd\",\n",
       " 'your',\n",
       " 'yours',\n",
       " 'yourself',\n",
       " 'yourselves',\n",
       " 'he',\n",
       " 'him',\n",
       " 'his',\n",
       " 'himself',\n",
       " 'she',\n",
       " \"she's\",\n",
       " 'her',\n",
       " 'hers',\n",
       " 'herself',\n",
       " 'it',\n",
       " \"it's\",\n",
       " 'its',\n",
       " 'itself',\n",
       " 'they',\n",
       " 'them',\n",
       " 'their',\n",
       " 'theirs',\n",
       " 'themselves',\n",
       " 'what',\n",
       " 'which',\n",
       " 'who',\n",
       " 'whom',\n",
       " 'this',\n",
       " 'that',\n",
       " \"that'll\",\n",
       " 'these',\n",
       " 'those',\n",
       " 'am',\n",
       " 'is',\n",
       " 'are',\n",
       " 'was',\n",
       " 'were',\n",
       " 'be',\n",
       " 'been',\n",
       " 'being',\n",
       " 'have',\n",
       " 'has',\n",
       " 'had',\n",
       " 'having',\n",
       " 'do',\n",
       " 'does',\n",
       " 'did',\n",
       " 'doing',\n",
       " 'a',\n",
       " 'an',\n",
       " 'the',\n",
       " 'and',\n",
       " 'but',\n",
       " 'if',\n",
       " 'or',\n",
       " 'because',\n",
       " 'as',\n",
       " 'until',\n",
       " 'while',\n",
       " 'of',\n",
       " 'at',\n",
       " 'by',\n",
       " 'for',\n",
       " 'with',\n",
       " 'about',\n",
       " 'against',\n",
       " 'between',\n",
       " 'into',\n",
       " 'through',\n",
       " 'during',\n",
       " 'before',\n",
       " 'after',\n",
       " 'above',\n",
       " 'below',\n",
       " 'to',\n",
       " 'from',\n",
       " 'up',\n",
       " 'down',\n",
       " 'in',\n",
       " 'out',\n",
       " 'on',\n",
       " 'off',\n",
       " 'over',\n",
       " 'under',\n",
       " 'again',\n",
       " 'further',\n",
       " 'then',\n",
       " 'once',\n",
       " 'here',\n",
       " 'there',\n",
       " 'when',\n",
       " 'where',\n",
       " 'why',\n",
       " 'how',\n",
       " 'all',\n",
       " 'any',\n",
       " 'both',\n",
       " 'each',\n",
       " 'few',\n",
       " 'more',\n",
       " 'most',\n",
       " 'other',\n",
       " 'some',\n",
       " 'such',\n",
       " 'no',\n",
       " 'nor',\n",
       " 'not',\n",
       " 'only',\n",
       " 'own',\n",
       " 'same',\n",
       " 'so',\n",
       " 'than',\n",
       " 'too',\n",
       " 'very',\n",
       " 's',\n",
       " 't',\n",
       " 'can',\n",
       " 'will',\n",
       " 'just',\n",
       " 'don',\n",
       " \"don't\",\n",
       " 'should',\n",
       " \"should've\",\n",
       " 'now',\n",
       " 'd',\n",
       " 'll',\n",
       " 'm',\n",
       " 'o',\n",
       " 're',\n",
       " 've',\n",
       " 'y',\n",
       " 'ain',\n",
       " 'aren',\n",
       " \"aren't\",\n",
       " 'couldn',\n",
       " \"couldn't\",\n",
       " 'didn',\n",
       " \"didn't\",\n",
       " 'doesn',\n",
       " \"doesn't\",\n",
       " 'hadn',\n",
       " \"hadn't\",\n",
       " 'hasn',\n",
       " \"hasn't\",\n",
       " 'haven',\n",
       " \"haven't\",\n",
       " 'isn',\n",
       " \"isn't\",\n",
       " 'ma',\n",
       " 'mightn',\n",
       " \"mightn't\",\n",
       " 'mustn',\n",
       " \"mustn't\",\n",
       " 'needn',\n",
       " \"needn't\",\n",
       " 'shan',\n",
       " \"shan't\",\n",
       " 'shouldn',\n",
       " \"shouldn't\",\n",
       " 'wasn',\n",
       " \"wasn't\",\n",
       " 'weren',\n",
       " \"weren't\",\n",
       " 'won',\n",
       " \"won't\",\n",
       " 'wouldn',\n",
       " \"wouldn't\"]"
      ]
     },
     "execution_count": 11,
     "metadata": {},
     "output_type": "execute_result"
    }
   ],
   "source": [
    "import nltk\n",
    "from nltk.corpus import stopwords\n",
    "nltk.download('stopwords')\n",
    "stopwords.words('english')"
   ]
  },
  {
   "cell_type": "markdown",
   "metadata": {
    "id": "vJIOXgeAlJ9o"
   },
   "source": [
    "Let's create the function to remove all punctuation, remove all stopwords and returns a list of the cleaned text"
   ]
  },
  {
   "cell_type": "code",
   "execution_count": 12,
   "metadata": {
    "id": "ZTdnkVbAlJ9o"
   },
   "outputs": [],
   "source": [
    "def text_process(mess):\n",
    "    \"\"\"\n",
    "    Takes in a string of text, then performs the following:\n",
    "    1. Remove all punctuation\n",
    "    2. Remove all stopwords\n",
    "    3. Returns a list of the cleaned text\n",
    "    \"\"\"\n",
    "    # Check characters to see if they are in punctuation\n",
    "    nopunc = [char for char in mess if char not in string.punctuation]\n",
    "\n",
    "    # Join the characters again to form the string.\n",
    "    nopunc = ''.join(nopunc)\n",
    "    # Now just remove any stopwords\n",
    "    return [word for word in nopunc.split() if word.lower() not in stopwords.words('english')]"
   ]
  },
  {
   "cell_type": "markdown",
   "metadata": {
    "id": "k05L66PMlJ9o"
   },
   "source": [
    "**Vectorization**"
   ]
  },
  {
   "cell_type": "markdown",
   "metadata": {
    "id": "-1B7AGdklJ9o"
   },
   "source": [
    "Now we have the messages as lists and we need to convert each of those messages into a vector that SciKit Learn's algorithm models can work with."
   ]
  },
  {
   "cell_type": "code",
   "execution_count": 13,
   "metadata": {
    "id": "dxsamQjflJ9p"
   },
   "outputs": [],
   "source": [
    "from sklearn.feature_extraction.text import CountVectorizer\n",
    "\n",
    "# vectorize= sequencial data ma change gareko news lai\n",
    "# CountVectorizer= words lai number ma change gareko"
   ]
  },
  {
   "cell_type": "code",
   "execution_count": 15,
   "metadata": {
    "colab": {
     "base_uri": "https://localhost:8080/",
     "height": 74
    },
    "id": "NnxcOLmhlJ9p",
    "outputId": "10958218-816d-4dcb-e165-2280ac72e72f"
   },
   "outputs": [
    {
     "data": {
      "text/html": [
       "<style>#sk-container-id-2 {color: black;}#sk-container-id-2 pre{padding: 0;}#sk-container-id-2 div.sk-toggleable {background-color: white;}#sk-container-id-2 label.sk-toggleable__label {cursor: pointer;display: block;width: 100%;margin-bottom: 0;padding: 0.3em;box-sizing: border-box;text-align: center;}#sk-container-id-2 label.sk-toggleable__label-arrow:before {content: \"▸\";float: left;margin-right: 0.25em;color: #696969;}#sk-container-id-2 label.sk-toggleable__label-arrow:hover:before {color: black;}#sk-container-id-2 div.sk-estimator:hover label.sk-toggleable__label-arrow:before {color: black;}#sk-container-id-2 div.sk-toggleable__content {max-height: 0;max-width: 0;overflow: hidden;text-align: left;background-color: #f0f8ff;}#sk-container-id-2 div.sk-toggleable__content pre {margin: 0.2em;color: black;border-radius: 0.25em;background-color: #f0f8ff;}#sk-container-id-2 input.sk-toggleable__control:checked~div.sk-toggleable__content {max-height: 200px;max-width: 100%;overflow: auto;}#sk-container-id-2 input.sk-toggleable__control:checked~label.sk-toggleable__label-arrow:before {content: \"▾\";}#sk-container-id-2 div.sk-estimator input.sk-toggleable__control:checked~label.sk-toggleable__label {background-color: #d4ebff;}#sk-container-id-2 div.sk-label input.sk-toggleable__control:checked~label.sk-toggleable__label {background-color: #d4ebff;}#sk-container-id-2 input.sk-hidden--visually {border: 0;clip: rect(1px 1px 1px 1px);clip: rect(1px, 1px, 1px, 1px);height: 1px;margin: -1px;overflow: hidden;padding: 0;position: absolute;width: 1px;}#sk-container-id-2 div.sk-estimator {font-family: monospace;background-color: #f0f8ff;border: 1px dotted black;border-radius: 0.25em;box-sizing: border-box;margin-bottom: 0.5em;}#sk-container-id-2 div.sk-estimator:hover {background-color: #d4ebff;}#sk-container-id-2 div.sk-parallel-item::after {content: \"\";width: 100%;border-bottom: 1px solid gray;flex-grow: 1;}#sk-container-id-2 div.sk-label:hover label.sk-toggleable__label {background-color: #d4ebff;}#sk-container-id-2 div.sk-serial::before {content: \"\";position: absolute;border-left: 1px solid gray;box-sizing: border-box;top: 0;bottom: 0;left: 50%;z-index: 0;}#sk-container-id-2 div.sk-serial {display: flex;flex-direction: column;align-items: center;background-color: white;padding-right: 0.2em;padding-left: 0.2em;position: relative;}#sk-container-id-2 div.sk-item {position: relative;z-index: 1;}#sk-container-id-2 div.sk-parallel {display: flex;align-items: stretch;justify-content: center;background-color: white;position: relative;}#sk-container-id-2 div.sk-item::before, #sk-container-id-2 div.sk-parallel-item::before {content: \"\";position: absolute;border-left: 1px solid gray;box-sizing: border-box;top: 0;bottom: 0;left: 50%;z-index: -1;}#sk-container-id-2 div.sk-parallel-item {display: flex;flex-direction: column;z-index: 1;position: relative;background-color: white;}#sk-container-id-2 div.sk-parallel-item:first-child::after {align-self: flex-end;width: 50%;}#sk-container-id-2 div.sk-parallel-item:last-child::after {align-self: flex-start;width: 50%;}#sk-container-id-2 div.sk-parallel-item:only-child::after {width: 0;}#sk-container-id-2 div.sk-dashed-wrapped {border: 1px dashed gray;margin: 0 0.4em 0.5em 0.4em;box-sizing: border-box;padding-bottom: 0.4em;background-color: white;}#sk-container-id-2 div.sk-label label {font-family: monospace;font-weight: bold;display: inline-block;line-height: 1.2em;}#sk-container-id-2 div.sk-label-container {text-align: center;}#sk-container-id-2 div.sk-container {/* jupyter's `normalize.less` sets `[hidden] { display: none; }` but bootstrap.min.css set `[hidden] { display: none !important; }` so we also need the `!important` here to be able to override the default hidden behavior on the sphinx rendered scikit-learn.org. See: https://github.com/scikit-learn/scikit-learn/issues/21755 */display: inline-block !important;position: relative;}#sk-container-id-2 div.sk-text-repr-fallback {display: none;}</style><div id=\"sk-container-id-2\" class=\"sk-top-container\"><div class=\"sk-text-repr-fallback\"><pre>CountVectorizer(analyzer=&lt;function text_process at 0x000001F737D5C9A0&gt;)</pre><b>In a Jupyter environment, please rerun this cell to show the HTML representation or trust the notebook. <br />On GitHub, the HTML representation is unable to render, please try loading this page with nbviewer.org.</b></div><div class=\"sk-container\" hidden><div class=\"sk-item\"><div class=\"sk-estimator sk-toggleable\"><input class=\"sk-toggleable__control sk-hidden--visually\" id=\"sk-estimator-id-2\" type=\"checkbox\" checked><label for=\"sk-estimator-id-2\" class=\"sk-toggleable__label sk-toggleable__label-arrow\">CountVectorizer</label><div class=\"sk-toggleable__content\"><pre>CountVectorizer(analyzer=&lt;function text_process at 0x000001F737D5C9A0&gt;)</pre></div></div></div></div></div>"
      ],
      "text/plain": [
       "CountVectorizer(analyzer=<function text_process at 0x000001F737D5C9A0>)"
      ]
     },
     "execution_count": 15,
     "metadata": {},
     "output_type": "execute_result"
    }
   ],
   "source": [
    "bow_transformer = CountVectorizer(analyzer=text_process).fit(df['text'])\n",
    "bow_transformer\n",
    "\n",
    "# df['text'] mathi function ma argument ko roup ma gayera punctuation ra stopwords hatayera vectorize hunxa"
   ]
  },
  {
   "cell_type": "code",
   "execution_count": 16,
   "metadata": {
    "colab": {
     "base_uri": "https://localhost:8080/"
    },
    "id": "gYv-tSvrw-NC",
    "outputId": "252ac00e-6523-4311-b8ca-017900cac6b4"
   },
   "outputs": [
    {
     "data": {
      "text/plain": [
       "{'tv': 30060,\n",
       " 'future': 12857,\n",
       " 'hands': 13983,\n",
       " 'viewers': 31069,\n",
       " 'home': 14680,\n",
       " 'theatre': 29138,\n",
       " 'systems': 28665,\n",
       " 'plasma': 22278,\n",
       " 'highdefinition': 14460,\n",
       " 'tvs': 30067,\n",
       " 'digital': 9404,\n",
       " 'video': 31050,\n",
       " 'recorders': 23995,\n",
       " 'moving': 19652,\n",
       " 'living': 17740,\n",
       " 'room': 25155,\n",
       " 'way': 31461,\n",
       " 'people': 21852,\n",
       " 'watch': 31427,\n",
       " 'radically': 23594,\n",
       " 'different': 9388,\n",
       " 'five': 12145,\n",
       " 'years': 32218,\n",
       " 'time': 29381,\n",
       " 'according': 2292,\n",
       " 'expert': 11405,\n",
       " 'panel': 21469,\n",
       " 'gathered': 13019,\n",
       " 'annual': 3230,\n",
       " 'consumer': 7759,\n",
       " 'electronics': 10546,\n",
       " 'show': 26554,\n",
       " 'las': 17169,\n",
       " 'vegas': 30924,\n",
       " 'discuss': 9579,\n",
       " 'new': 20152,\n",
       " 'technologies': 28915,\n",
       " 'impact': 15225,\n",
       " 'one': 20842,\n",
       " 'favourite': 11774,\n",
       " 'pastimes': 21645,\n",
       " 'us': 30743,\n",
       " 'leading': 17279,\n",
       " 'trend': 29828,\n",
       " 'programmes': 23088,\n",
       " 'content': 7793,\n",
       " 'delivered': 8994,\n",
       " 'via': 31005,\n",
       " 'networks': 20131,\n",
       " 'cable': 5898,\n",
       " 'satellite': 25567,\n",
       " 'telecoms': 28952,\n",
       " 'companies': 7378,\n",
       " 'broadband': 5541,\n",
       " 'service': 26199,\n",
       " 'providers': 23244,\n",
       " 'front': 12722,\n",
       " 'rooms': 25156,\n",
       " 'portable': 22531,\n",
       " 'devices': 9302,\n",
       " 'talkedabout': 28740,\n",
       " 'ces': 6452,\n",
       " 'personal': 21951,\n",
       " 'dvr': 10251,\n",
       " 'pvr': 23416,\n",
       " 'settop': 26226,\n",
       " 'boxes': 5322,\n",
       " 'like': 17589,\n",
       " 'tivo': 29444,\n",
       " 'uk': 30183,\n",
       " 'sky': 26884,\n",
       " 'system': 28662,\n",
       " 'allow': 2900,\n",
       " 'record': 23989,\n",
       " 'store': 27973,\n",
       " 'play': 22296,\n",
       " 'pause': 21695,\n",
       " 'forward': 12507,\n",
       " 'wind': 31808,\n",
       " 'want': 31347,\n",
       " 'essentially': 11055,\n",
       " 'technology': 28917,\n",
       " 'allows': 2906,\n",
       " 'much': 19692,\n",
       " 'personalised': 21954,\n",
       " 'also': 2944,\n",
       " 'builtin': 5708,\n",
       " 'sets': 26215,\n",
       " 'big': 4801,\n",
       " 'business': 5820,\n",
       " 'japan': 16233,\n",
       " 'slower': 26987,\n",
       " 'take': 28714,\n",
       " 'europe': 11119,\n",
       " 'lack': 17036,\n",
       " 'programming': 23089,\n",
       " 'adverts': 2546,\n",
       " 'forget': 12453,\n",
       " 'abiding': 2175,\n",
       " 'network': 20128,\n",
       " 'channel': 6529,\n",
       " 'schedules': 25702,\n",
       " 'putting': 23409,\n",
       " 'together': 29466,\n",
       " 'alacarte': 2755,\n",
       " 'entertainment': 10885,\n",
       " 'worried': 32028,\n",
       " 'means': 18764,\n",
       " 'terms': 29046,\n",
       " 'advertising': 2545,\n",
       " 'revenues': 24780,\n",
       " 'well': 31569,\n",
       " 'brand': 5377,\n",
       " 'identity': 15075,\n",
       " 'viewer': 31068,\n",
       " 'loyalty': 17981,\n",
       " 'channels': 6531,\n",
       " 'although': 2956,\n",
       " 'leads': 17281,\n",
       " 'moment': 19438,\n",
       " 'concern': 7513,\n",
       " 'raised': 23655,\n",
       " 'particularly': 21584,\n",
       " 'growing': 13713,\n",
       " 'uptake': 30718,\n",
       " 'services': 26200,\n",
       " 'happens': 14020,\n",
       " 'today': 29459,\n",
       " 'see': 25989,\n",
       " 'nine': 20281,\n",
       " 'months': 19498,\n",
       " 'adam': 2399,\n",
       " 'hume': 14922,\n",
       " 'bbc': 4435,\n",
       " 'broadcast': 5544,\n",
       " 'futurologist': 12862,\n",
       " 'told': 29478,\n",
       " 'news': 20179,\n",
       " 'website': 31511,\n",
       " 'likes': 17601,\n",
       " 'issues': 16119,\n",
       " 'lost': 17920,\n",
       " 'revenue': 24778,\n",
       " 'yet': 32236,\n",
       " 'pressing': 22866,\n",
       " 'issue': 16115,\n",
       " 'commercial': 7327,\n",
       " 'broadcasters': 5546,\n",
       " 'important': 15270,\n",
       " 'everyone': 11193,\n",
       " 'talking': 28741,\n",
       " 'brands': 5382,\n",
       " 'rather': 23762,\n",
       " 'said': 25431,\n",
       " 'tim': 29378,\n",
       " 'hanlon': 14000,\n",
       " 'communications': 7364,\n",
       " 'firm': 12098,\n",
       " 'starcom': 27734,\n",
       " 'mediavest': 18800,\n",
       " 'reality': 23848,\n",
       " 'connections': 7646,\n",
       " 'anybody': 3355,\n",
       " 'producer': 23043,\n",
       " 'added': 2419,\n",
       " 'challenge': 6490,\n",
       " 'hard': 14035,\n",
       " 'promote': 23128,\n",
       " 'programme': 23084,\n",
       " 'choice': 6726,\n",
       " 'stacey': 27644,\n",
       " 'jolna': 16421,\n",
       " 'senior': 26119,\n",
       " 'vice': 31020,\n",
       " 'president': 22856,\n",
       " 'guide': 13760,\n",
       " 'group': 13706,\n",
       " 'find': 12028,\n",
       " 'simplified': 26718,\n",
       " 'could': 8084,\n",
       " 'leaf': 17284,\n",
       " 'google': 13462,\n",
       " 'book': 5185,\n",
       " 'search': 25900,\n",
       " 'engine': 10816,\n",
       " 'instead': 15728,\n",
       " 'scheduler': 25701,\n",
       " 'help': 14338,\n",
       " 'kind': 16805,\n",
       " 'model': 19378,\n",
       " 'might': 19099,\n",
       " 'work': 31992,\n",
       " 'younger': 32269,\n",
       " 'ipod': 16004,\n",
       " 'generation': 13101,\n",
       " 'used': 30764,\n",
       " 'taking': 28725,\n",
       " 'control': 7859,\n",
       " 'gadgets': 12882,\n",
       " 'suit': 28294,\n",
       " 'recognised': 23965,\n",
       " 'older': 20791,\n",
       " 'generations': 13102,\n",
       " 'comfortable': 7290,\n",
       " 'familiar': 11651,\n",
       " 'know': 16889,\n",
       " 'getting': 13187,\n",
       " 'perhaps': 21900,\n",
       " 'put': 23404,\n",
       " 'mr': 19675,\n",
       " 'suggested': 28283,\n",
       " 'end': 10754,\n",
       " 'kids': 16773,\n",
       " 'diapers': 9345,\n",
       " 'pushing': 23403,\n",
       " 'buttons': 5850,\n",
       " 'already': 2941,\n",
       " 'everything': 11194,\n",
       " 'possible': 22578,\n",
       " 'available': 3968,\n",
       " 'ultimately': 30204,\n",
       " 'tell': 28978,\n",
       " 'market': 18449,\n",
       " '50': 1482,\n",
       " '000': 2,\n",
       " 'showcased': 26558,\n",
       " 'many': 18379,\n",
       " 'enhancing': 10832,\n",
       " 'tvwatching': 30069,\n",
       " 'experience': 11396,\n",
       " 'everywhere': 11195,\n",
       " 'models': 19381,\n",
       " 'lcd': 17266,\n",
       " 'liquid': 17678,\n",
       " 'crystal': 8408,\n",
       " 'display': 9659,\n",
       " 'launched': 17213,\n",
       " 'capability': 6071,\n",
       " 'built': 5707,\n",
       " 'external': 11490,\n",
       " 'example': 11236,\n",
       " 'humax': 14916,\n",
       " '26inch': 975,\n",
       " '80hour': 1911,\n",
       " 'dvd': 10247,\n",
       " 'recorder': 23994,\n",
       " 'biggest': 4805,\n",
       " 'directtv': 9484,\n",
       " 'even': 11165,\n",
       " 'branded': 5378,\n",
       " '100hours': 94,\n",
       " 'recording': 23999,\n",
       " 'instant': 15721,\n",
       " 'replay': 24489,\n",
       " 'function': 12806,\n",
       " 'set': 26206,\n",
       " 'rewind': 24830,\n",
       " '90': 2001,\n",
       " 'hours': 14829,\n",
       " 'microsoft': 19040,\n",
       " 'chief': 6680,\n",
       " 'bill': 4821,\n",
       " 'gates': 13014,\n",
       " 'announced': 3219,\n",
       " 'preshow': 22851,\n",
       " 'keynote': 16730,\n",
       " 'speech': 27427,\n",
       " 'partnership': 21597,\n",
       " 'called': 5951,\n",
       " 'tivotogo': 29446,\n",
       " 'recorded': 23993,\n",
       " 'windows': 31813,\n",
       " 'pcs': 21745,\n",
       " 'mobile': 19360,\n",
       " 'reflect': 24126,\n",
       " 'increasing': 15401,\n",
       " 'freeing': 12654,\n",
       " 'multimedia': 19747,\n",
       " 'worldcom': 32021,\n",
       " 'boss': 5256,\n",
       " 'left': 17348,\n",
       " 'books': 5198,\n",
       " 'alone': 2930,\n",
       " 'former': 12472,\n",
       " 'bernie': 4693,\n",
       " 'ebbers': 10353,\n",
       " 'accused': 2321,\n",
       " 'overseeing': 21280,\n",
       " '11bn': 212,\n",
       " '£58bn': 32820,\n",
       " 'fraud': 12625,\n",
       " 'never': 20141,\n",
       " 'made': 18136,\n",
       " 'accounting': 2302,\n",
       " 'decisions': 8823,\n",
       " 'witness': 31902,\n",
       " 'jurors': 16548,\n",
       " 'david': 8701,\n",
       " 'myers': 19852,\n",
       " 'comments': 7325,\n",
       " 'questioning': 23495,\n",
       " 'defence': 8898,\n",
       " 'lawyers': 17251,\n",
       " 'arguing': 3536,\n",
       " 'responsible': 24645,\n",
       " 'problems': 23012,\n",
       " 'phone': 22072,\n",
       " 'company': 7381,\n",
       " 'collapsed': 7202,\n",
       " '2002': 739,\n",
       " 'prosecutors': 23188,\n",
       " 'claim': 6869,\n",
       " 'losses': 17917,\n",
       " 'hidden': 14437,\n",
       " 'protect': 23204,\n",
       " 'shares': 26351,\n",
       " 'pleaded': 22323,\n",
       " 'guilty': 13774,\n",
       " 'assisting': 3741,\n",
       " 'monday': 19446,\n",
       " 'lawyer': 17250,\n",
       " 'reid': 24233,\n",
       " 'weingarten': 31549,\n",
       " 'tried': 29860,\n",
       " 'distance': 9700,\n",
       " 'client': 6987,\n",
       " 'allegations': 2865,\n",
       " 'cross': 8337,\n",
       " 'examination': 11231,\n",
       " 'asked': 3688,\n",
       " 'ever': 11175,\n",
       " 'knew': 16868,\n",
       " 'make': 18228,\n",
       " 'decision': 8820,\n",
       " 'aware': 4011,\n",
       " 'replied': 24494,\n",
       " 'entry': 10913,\n",
       " 'pressed': 22864,\n",
       " 'admitted': 2487,\n",
       " 'ordered': 21005,\n",
       " 'false': 11640,\n",
       " 'entries': 10911,\n",
       " 'request': 24533,\n",
       " 'financial': 12019,\n",
       " 'officer': 20737,\n",
       " 'scott': 25800,\n",
       " 'sullivan': 28309,\n",
       " 'trying': 29967,\n",
       " 'paint': 21410,\n",
       " 'testify': 29075,\n",
       " 'later': 17190,\n",
       " 'trial': 29839,\n",
       " 'mastermind': 18551,\n",
       " 'behind': 4558,\n",
       " 'house': 14830,\n",
       " 'cards': 6131,\n",
       " 'team': 28887,\n",
       " 'meanwhile': 18768,\n",
       " 'looking': 17879,\n",
       " 'portray': 22550,\n",
       " 'affable': 2575,\n",
       " 'admission': 2482,\n",
       " 'pe': 21752,\n",
       " 'graduate': 13535,\n",
       " 'economist': 10386,\n",
       " 'whatever': 31649,\n",
       " 'abilities': 2177,\n",
       " 'transformed': 29746,\n",
       " 'relative': 24299,\n",
       " 'unknown': 30512,\n",
       " '160bn': 429,\n",
       " 'giant': 13209,\n",
       " 'investor': 15964,\n",
       " 'darling': 8669,\n",
       " 'late': 17186,\n",
       " '1990s': 702,\n",
       " 'mounted': 19624,\n",
       " 'however': 14855,\n",
       " 'competition': 7411,\n",
       " 'increased': 15399,\n",
       " 'boom': 5202,\n",
       " 'petered': 21999,\n",
       " 'finally': 12014,\n",
       " 'shareholders': 26347,\n",
       " '180bn': 531,\n",
       " '20': 727,\n",
       " 'workers': 31996,\n",
       " 'jobs': 16376,\n",
       " 'expected': 11386,\n",
       " 'last': 17177,\n",
       " 'two': 30105,\n",
       " 'found': 12522,\n",
       " 'ceo': 6433,\n",
       " 'faces': 11562,\n",
       " 'substantial': 28214,\n",
       " 'jail': 16185,\n",
       " 'sentence': 26138,\n",
       " 'firmly': 12102,\n",
       " 'declared': 8834,\n",
       " 'innocence': 15644,\n",
       " 'tigers': 29361,\n",
       " 'wary': 31407,\n",
       " 'farrell': 11716,\n",
       " 'gamble': 12927,\n",
       " 'leicester': 17388,\n",
       " 'say': 25623,\n",
       " 'rushed': 25345,\n",
       " 'making': 18239,\n",
       " 'bid': 4792,\n",
       " 'andy': 3145,\n",
       " 'great': 13605,\n",
       " 'britain': 5518,\n",
       " 'rugby': 25289,\n",
       " 'league': 17288,\n",
       " 'captain': 6101,\n",
       " 'decide': 8812,\n",
       " 'switch': 28600,\n",
       " 'codes': 7141,\n",
       " 'else': 10603,\n",
       " 'involved': 15982,\n",
       " 'process': 23023,\n",
       " 'still': 27904,\n",
       " 'away': 4013,\n",
       " 'going': 13414,\n",
       " 'next': 20191,\n",
       " 'stage': 27656,\n",
       " 'john': 16392,\n",
       " 'wells': 31600,\n",
       " 'radio': 23598,\n",
       " 'lot': 17922,\n",
       " 'unknowns': 30513,\n",
       " 'least': 17321,\n",
       " 'medical': 18802,\n",
       " 'situation': 26810,\n",
       " 'whoever': 31715,\n",
       " 'persistent': 21944,\n",
       " 'knee': 16865,\n",
       " 'operation': 20942,\n",
       " 'weeks': 31535,\n",
       " 'ago': 2660,\n",
       " 'another': 3244,\n",
       " 'three': 29249,\n",
       " 'saracens': 25547,\n",
       " 'believed': 4588,\n",
       " 'head': 14201,\n",
       " 'list': 17691,\n",
       " 'union': 30486,\n",
       " 'clubs': 7064,\n",
       " 'interested': 15819,\n",
       " 'signing': 26673,\n",
       " 'decides': 8816,\n",
       " 'move': 19639,\n",
       " '15man': 416,\n",
       " 'game': 12931,\n",
       " 'across': 2364,\n",
       " 'believes': 4590,\n",
       " 'would': 32048,\n",
       " 'better': 4744,\n",
       " 'playing': 22308,\n",
       " 'backs': 4102,\n",
       " 'initially': 15605,\n",
       " 'sure': 28424,\n",
       " 'step': 27849,\n",
       " 'centre': 6419,\n",
       " 'think': 29183,\n",
       " 'england': 10822,\n",
       " 'prefer': 22757,\n",
       " 'progress': 23091,\n",
       " 'position': 22564,\n",
       " 'back': 4065,\n",
       " 'row': 25233,\n",
       " 'use': 30762,\n",
       " 'skills': 26866,\n",
       " 'within': 31895,\n",
       " 'forwards': 12508,\n",
       " 'jury': 16549,\n",
       " 'whether': 31667,\n",
       " 'divide': 9764,\n",
       " 'club': 7059,\n",
       " 'balance': 4178,\n",
       " 'struck': 28110,\n",
       " 'cost': 8049,\n",
       " 'option': 20986,\n",
       " 'bringing': 5509,\n",
       " 'readymade': 23831,\n",
       " 'replacement': 24485,\n",
       " 'yeading': 32204,\n",
       " 'face': 11559,\n",
       " 'newcastle': 20157,\n",
       " 'fa': 11548,\n",
       " 'cup': 8460,\n",
       " 'premiership': 22792,\n",
       " 'side': 26621,\n",
       " 'united': 30497,\n",
       " 'trip': 29883,\n",
       " 'ryman': 25371,\n",
       " 'premier': 22788,\n",
       " 'leaders': 17277,\n",
       " 'third': 29192,\n",
       " 'round': 25206,\n",
       " 'arguably': 3532,\n",
       " 'highlight': 14483,\n",
       " 'draw': 10053,\n",
       " 'potential': 22623,\n",
       " 'moneyspinner': 19455,\n",
       " 'nonleague': 20399,\n",
       " 'beat': 4470,\n",
       " 'slough': 26976,\n",
       " 'second': 25938,\n",
       " 'conference': 7566,\n",
       " 'exeter': 11322,\n",
       " 'city': 6853,\n",
       " 'knocked': 16882,\n",
       " 'doncaster': 9894,\n",
       " 'saturday': 25583,\n",
       " 'travel': 29788,\n",
       " 'old': 20790,\n",
       " 'trafford': 29705,\n",
       " 'meet': 18819,\n",
       " 'holders': 14649,\n",
       " 'manchester': 18309,\n",
       " 'january': 16229,\n",
       " 'arsenal': 3610,\n",
       " 'drawn': 10059,\n",
       " 'stoke': 27945,\n",
       " 'chelsea': 6637,\n",
       " 'host': 14791,\n",
       " 'scunthorpe': 25870,\n",
       " 'hinckley': 14531,\n",
       " 'held': 14318,\n",
       " 'brentford': 5451,\n",
       " 'goalless': 13383,\n",
       " 'sunday': 28326,\n",
       " 'luton': 18051,\n",
       " 'win': 31806,\n",
       " 'martin': 18499,\n",
       " 'allen': 2873,\n",
       " 'griffin': 13659,\n",
       " 'park': 21541,\n",
       " 'number': 20569,\n",
       " 'teams': 28892,\n",
       " 'difficult': 9394,\n",
       " 'games': 12945,\n",
       " 'championship': 6505,\n",
       " 'sides': 26633,\n",
       " 'weekend': 31529,\n",
       " '89': 1987,\n",
       " 'thirdplaced': 29199,\n",
       " 'everton': 11189,\n",
       " 'visit': 31154,\n",
       " 'plymouth': 22378,\n",
       " 'liverpool': 17732,\n",
       " 'burnley': 5791,\n",
       " 'palace': 21428,\n",
       " 'go': 13374,\n",
       " 'sunderland': 28328,\n",
       " 'fulham': 12779,\n",
       " 'carling': 6161,\n",
       " 'semifinalists': 26092,\n",
       " 'watford': 31448,\n",
       " 'bolton': 5142,\n",
       " 'ipswich': 16011,\n",
       " 'aston': 3763,\n",
       " 'villa': 31089,\n",
       " 'sheffield': 26398,\n",
       " 'strugglers': 28118,\n",
       " 'norwich': 20479,\n",
       " 'blackburn': 4912,\n",
       " 'west': 31626,\n",
       " 'brom': 5574,\n",
       " 'ham': 13931,\n",
       " 'cardiff': 6126,\n",
       " 'preston': 22874,\n",
       " 'north': 20461,\n",
       " 'respectively': 24630,\n",
       " 'southampton': 27303,\n",
       " 'northampton': 20462,\n",
       " 'beaten': 4472,\n",
       " 'earlier': 10289,\n",
       " 'season': 25911,\n",
       " 'middlesbrough': 19067,\n",
       " 'either': 10508,\n",
       " 'swindon': 28590,\n",
       " 'notts': 20523,\n",
       " 'county': 8124,\n",
       " 'spurs': 27591,\n",
       " 'entertain': 10880,\n",
       " 'brighton': 5500,\n",
       " 'white': 31699,\n",
       " 'hart': 14103,\n",
       " 'lane': 17122,\n",
       " 'v': 30808,\n",
       " 'swindonnotts': 28591,\n",
       " 'co': 7090,\n",
       " 'man': 18297,\n",
       " 'utd': 30789,\n",
       " 'blackpool': 4918,\n",
       " 'derby': 9153,\n",
       " 'wigan': 31758,\n",
       " 'wolves': 31942,\n",
       " 'millwall': 19155,\n",
       " 'hull': 14900,\n",
       " 'colchester': 7180,\n",
       " 'tottenham': 29608,\n",
       " 'reading': 23826,\n",
       " 'stockportswansea': 27939,\n",
       " 'birmingham': 4873,\n",
       " 'leeds': 17344,\n",
       " 'hartlepool': 14104,\n",
       " 'boston': 5259,\n",
       " 'milton': 19159,\n",
       " 'keynes': 16729,\n",
       " 'dons': 9911,\n",
       " 'peterborough': 21997,\n",
       " 'oldham': 20794,\n",
       " 'charlton': 6573,\n",
       " 'rochdale': 25066,\n",
       " 'sheff': 26396,\n",
       " 'rotherham': 25193,\n",
       " 'yeovil': 32231,\n",
       " 'bournemouth': 5301,\n",
       " 'chester': 6666,\n",
       " 'coventry': 8155,\n",
       " 'crewe': 8272,\n",
       " 'portsmouth': 22556,\n",
       " 'gillingham': 13250,\n",
       " 'qpr': 23436,\n",
       " 'nottm': 20521,\n",
       " 'forest': 12445,\n",
       " 'hinckleybrentford': 14532,\n",
       " 'matches': 18566,\n",
       " 'played': 22302,\n",
       " 'ocean': 20689,\n",
       " 'twelve': 30077,\n",
       " 'raids': 23633,\n",
       " 'box': 5320,\n",
       " 'office': 20736,\n",
       " 'crime': 8281,\n",
       " 'caper': 6078,\n",
       " 'sequel': 26158,\n",
       " 'starring': 27744,\n",
       " 'george': 13145,\n",
       " 'clooney': 7034,\n",
       " 'brad': 5350,\n",
       " 'pitt': 22221,\n",
       " 'julia': 16510,\n",
       " 'roberts': 25045,\n",
       " 'gone': 13435,\n",
       " 'straight': 27998,\n",
       " 'chart': 6578,\n",
       " 'took': 29517,\n",
       " '408m': 1298,\n",
       " '£21m': 32554,\n",
       " 'ticket': 29333,\n",
       " 'sales': 25455,\n",
       " 'studio': 28133,\n",
       " 'estimates': 11073,\n",
       " 'follows': 12367,\n",
       " 'master': 18547,\n",
       " 'criminals': 8291,\n",
       " 'try': 29965,\n",
       " 'pull': 23322,\n",
       " 'major': 18220,\n",
       " 'heists': 14316,\n",
       " 'week': 31528,\n",
       " 'national': 19965,\n",
       " 'treasure': 29807,\n",
       " 'place': 22240,\n",
       " 'wesley': 31623,\n",
       " 'snipes': 27104,\n",
       " 'blade': 4922,\n",
       " 'trinity': 29880,\n",
       " '161m': 434,\n",
       " '£84m': 32910,\n",
       " 'rounding': 25209,\n",
       " 'top': 29532,\n",
       " 'animated': 3188,\n",
       " 'fable': 11552,\n",
       " 'polar': 22431,\n",
       " 'express': 11465,\n",
       " 'tom': 29488,\n",
       " 'hanks': 13998,\n",
       " 'festive': 11897,\n",
       " 'comedy': 7284,\n",
       " 'christmas': 6769,\n",
       " 'kranks': 16956,\n",
       " 'triumph': 29893,\n",
       " 'marks': 18463,\n",
       " 'fourthbiggest': 12546,\n",
       " 'opening': 20926,\n",
       " 'december': 8802,\n",
       " 'release': 24310,\n",
       " 'films': 11999,\n",
       " 'lord': 17901,\n",
       " 'rings': 24964,\n",
       " 'trilogy': 29872,\n",
       " 'narrowly': 19944,\n",
       " '2001': 733,\n",
       " 'predecessor': 22734,\n",
       " 'eleven': 10564,\n",
       " '381m': 1239,\n",
       " '£198m': 32533,\n",
       " '184m': 550,\n",
       " '£958m': 32943,\n",
       " 'total': 29594,\n",
       " 'remake': 24357,\n",
       " '1960s': 659,\n",
       " 'film': 11991,\n",
       " 'frank': 12607,\n",
       " 'sinatra': 26741,\n",
       " 'rat': 23753,\n",
       " 'pack': 21372,\n",
       " 'directed': 9469,\n",
       " 'oscarwinning': 21074,\n",
       " 'director': 9476,\n",
       " 'steven': 27879,\n",
       " 'soderbergh': 27156,\n",
       " 'returns': 24744,\n",
       " 'direct': 9467,\n",
       " 'hit': 14580,\n",
       " 'reunites': 24750,\n",
       " 'matt': 18599,\n",
       " 'damon': 8617,\n",
       " 'garcia': 12973,\n",
       " 'elliott': 10594,\n",
       " 'gould': 13495,\n",
       " 'catherine': 6305,\n",
       " 'zetajones': 32345,\n",
       " 'joins': 16403,\n",
       " 'allstar': 2914,\n",
       " 'cast': 6258,\n",
       " 'fun': 12805,\n",
       " 'good': 13444,\n",
       " 'holiday': 14656,\n",
       " 'movie': 19645,\n",
       " 'dan': 8622,\n",
       " 'fellman': 11846,\n",
       " 'distribution': 9730,\n",
       " 'warner': 31388,\n",
       " 'bros': 5590,\n",
       " 'critics': 8317,\n",
       " 'less': 17437,\n",
       " 'complimentary': 7447,\n",
       " '110m': 179,\n",
       " '£572m': 32816,\n",
       " 'project': 23104,\n",
       " 'los': 17910,\n",
       " 'angeles': 3154,\n",
       " 'times': 29388,\n",
       " 'labelling': 17023,\n",
       " 'dispiriting': 9654,\n",
       " 'vanity': 30877,\n",
       " 'milder': 19123,\n",
       " 'review': 24792,\n",
       " 'york': 32259,\n",
       " 'dubbed': 10166,\n",
       " 'unabashedly': 30225,\n",
       " 'trivial': 29898,\n",
       " 'howard': 14849,\n",
       " 'hits': 14590,\n",
       " 'mongrel': 19461,\n",
       " 'jibe': 16345,\n",
       " 'michael': 19021,\n",
       " 'peter': 21996,\n",
       " 'hain': 13868,\n",
       " 'tory': 29585,\n",
       " 'leader': 17275,\n",
       " 'acting': 2368,\n",
       " 'attack': 3818,\n",
       " 'shows': 26571,\n",
       " 'labour': 17028,\n",
       " 'rattled': 23776,\n",
       " 'opposition': 20966,\n",
       " 'upbeat': 30666,\n",
       " 'party': 21604,\n",
       " 'spring': 27565,\n",
       " 'campaigning': 6000,\n",
       " 'tactics': 28695,\n",
       " 'proved': 23236,\n",
       " 'tories': 29569,\n",
       " 'hitting': 14593,\n",
       " 'antiterror': 3334,\n",
       " 'debate': 8765,\n",
       " 'something': 27219,\n",
       " 'tells': 28981,\n",
       " 'someone': 27216,\n",
       " 'somewhere': 27223,\n",
       " 'little': 17715,\n",
       " 'bit': 4891,\n",
       " 'commons': 7357,\n",
       " 'four': 12531,\n",
       " 'stance': 27701,\n",
       " 'government': 13502,\n",
       " 'antiterrorism': 3335,\n",
       " 'legislation': 17375,\n",
       " 'country': 8116,\n",
       " 'risk': 24990,\n",
       " 'behaving': 4553,\n",
       " 'sake': 25441,\n",
       " 'anything': 3360,\n",
       " 'cling': 7006,\n",
       " 'costs': 8068,\n",
       " 'far': 11684,\n",
       " 'year': 32207,\n",
       " 'compared': 7385,\n",
       " 'fagin': 11589,\n",
       " 'shylock': 26604,\n",
       " 'flying': 12329,\n",
       " 'pig': 22153,\n",
       " 'morning': 19543,\n",
       " 'environment': 10921,\n",
       " 'secretary': 25963,\n",
       " 'margaret': 18415,\n",
       " 'beckett': 4498,\n",
       " 'rejected': 24280,\n",
       " 'comment': 7316,\n",
       " 'telling': 28980,\n",
       " '4': 1281,\n",
       " 'pm': 22379,\n",
       " 'real': 23838,\n",
       " 'duty': 10243,\n",
       " 'get': 13183,\n",
       " 'focus': 12336,\n",
       " 'proposals': 23170,\n",
       " 'examples': 11237,\n",
       " 'seeing': 25994,\n",
       " 'believe': 4587,\n",
       " 'really': 23852,\n",
       " 'poor': 22492,\n",
       " 'judgement': 16489,\n",
       " 'behalf': 4550,\n",
       " 'policies': 22439,\n",
       " 'schools': 25737,\n",
       " 'taxes': 28859,\n",
       " 'immigration': 15217,\n",
       " 'striking': 28078,\n",
       " 'chord': 6744,\n",
       " 'voters': 31241,\n",
       " 'since': 26744,\n",
       " 'beginning': 4544,\n",
       " 'election': 10527,\n",
       " 'political': 22450,\n",
       " 'weather': 31490,\n",
       " 'denied': 9068,\n",
       " 'politics': 22458,\n",
       " 'raising': 23657,\n",
       " 'case': 6239,\n",
       " 'dixon': 9783,\n",
       " 'whose': 31724,\n",
       " 'cancelled': 6025,\n",
       " 'seven': 26231,\n",
       " 'grabbed': 13519,\n",
       " 'headlines': 14215,\n",
       " 'claims': 6874,\n",
       " 'mrs': 19678,\n",
       " 'human': 14903,\n",
       " 'shield': 26434,\n",
       " 'blair': 4925,\n",
       " 'plans': 22269,\n",
       " 'quotas': 23544,\n",
       " 'media': 18793,\n",
       " 'coverage': 8157,\n",
       " 'racist': 23576,\n",
       " 'common': 7354,\n",
       " 'sense': 26124,\n",
       " 'pledged': 22335,\n",
       " 'cleaner': 6946,\n",
       " 'hospitals': 14789,\n",
       " 'school': 25726,\n",
       " 'discipline': 9528,\n",
       " 'promise': 23124,\n",
       " 'rid': 24896,\n",
       " 'correctness': 8013,\n",
       " 'curriculum': 8484,\n",
       " 'give': 13276,\n",
       " 'chance': 6509,\n",
       " 'decent': 8804,\n",
       " 'state': 27763,\n",
       " 'education': 10435,\n",
       " 'come': 7278,\n",
       " 'ordinary': 21009,\n",
       " 'family': 11655,\n",
       " 'teenage': 28931,\n",
       " 'applying': 3427,\n",
       " 'cambridge': 5978,\n",
       " 'gordon': 13471,\n",
       " 'brown': 5600,\n",
       " 'love': 17938,\n",
       " 'stressed': 28056,\n",
       " 'commitment': 7343,\n",
       " 'cut': 8514,\n",
       " 'red': 24033,\n",
       " 'tape': 28789,\n",
       " 'increase': 15398,\n",
       " 'basic': 4373,\n",
       " 'pension': 21841,\n",
       " 'line': 17642,\n",
       " 'earnings': 10302,\n",
       " 'finished': 12050,\n",
       " 'appeal': 3396,\n",
       " 'activists': 2383,\n",
       " 'day': 8713,\n",
       " 'able': 2181,\n",
       " 'children': 6697,\n",
       " 'grandchildren': 13555,\n",
       " 'mine': 19178,\n",
       " 'part': 21569,\n",
       " 'helped': 14339,\n",
       " 'famous': 11659,\n",
       " 'coordinator': 7933,\n",
       " 'alan': 2759,\n",
       " 'milburn': 19121,\n",
       " 'confirms': 7592,\n",
       " 'always': 2970,\n",
       " 'strategy': 28025,\n",
       " 'opportunism': 20957,\n",
       " 'vision': 31152,\n",
       " 'reference': 24109,\n",
       " 'appearance': 3401,\n",
       " 'perfectly': 21888,\n",
       " 'entitled': 10899,\n",
       " 'pose': 22560,\n",
       " 'working': 32001,\n",
       " 'families': 11654,\n",
       " 'damaged': 8605,\n",
       " 'plan': 22257,\n",
       " '£35bn': 32680,\n",
       " 'public': 23295,\n",
       " 'spending': 27450,\n",
       " 'prepares': 22814,\n",
       " 'name': 19892,\n",
       " 'poll': 22459,\n",
       " 'date': 8686,\n",
       " 'tony': 29516,\n",
       " 'likely': 17596,\n",
       " '5': 1481,\n",
       " 'may': 18635,\n",
       " 'parliament': 21550,\n",
       " 'easter': 10324,\n",
       " 'break': 5414,\n",
       " 'editor': 10417,\n",
       " 'learned': 17311,\n",
       " 'andrew': 3141,\n",
       " 'marr': 18477,\n",
       " 'says': 25628,\n",
       " 'ask': 3686,\n",
       " 'queen': 23481,\n",
       " 'april': 3464,\n",
       " 'dissolve': 9697,\n",
       " 'resisted': 24604,\n",
       " 'calls': 5957,\n",
       " 'parties': 21586,\n",
       " 'stepped': 27861,\n",
       " 'recently': 23931,\n",
       " 'downing': 9997,\n",
       " 'street': 28045,\n",
       " 'saying': 25626,\n",
       " 'timing': 29397,\n",
       " 'matter': 18601,\n",
       " 'prime': 22938,\n",
       " 'minister': 19209,\n",
       " '10': 85,\n",
       " 'spokeswoman': 27516,\n",
       " 'announce': 3218,\n",
       " 'wants': 31351,\n",
       " 'signal': 26661,\n",
       " 'frantic': 12616,\n",
       " 'westminster': 31635,\n",
       " 'key': 16726,\n",
       " 'needs': 20048,\n",
       " 'finance': 12016,\n",
       " 'covering': 8159,\n",
       " 'budget': 5679,\n",
       " 'passed': 21623,\n",
       " 'closes': 7042,\n",
       " 'session': 26204,\n",
       " '7': 1768,\n",
       " 'seek': 25995,\n",
       " 'push': 23400,\n",
       " 'serious': 26183,\n",
       " 'organised': 21019,\n",
       " 'id': 15054,\n",
       " 'wednesday': 31522,\n",
       " 'almost': 2927,\n",
       " 'nobody': 20321,\n",
       " 'level': 17462,\n",
       " 'inside': 15682,\n",
       " 'expect': 11381,\n",
       " 'soon': 27242,\n",
       " 'short': 26518,\n",
       " 'recess': 23938,\n",
       " 'whips': 31682,\n",
       " 'asks': 3691,\n",
       " 'officially': 20741,\n",
       " 'june': 16529,\n",
       " '2006': 750,\n",
       " 'hold': 14647,\n",
       " 'general': 13092,\n",
       " 'recent': 23930,\n",
       " 'governments': 13507,\n",
       " ...}"
      ]
     },
     "execution_count": 16,
     "metadata": {},
     "output_type": "execute_result"
    }
   ],
   "source": [
    "bow_transformer.vocabulary_"
   ]
  },
  {
   "cell_type": "markdown",
   "metadata": {
    "id": "MZhWFSPylJ9p"
   },
   "source": [
    "Print total number of vocab words"
   ]
  },
  {
   "cell_type": "code",
   "execution_count": 17,
   "metadata": {
    "colab": {
     "base_uri": "https://localhost:8080/"
    },
    "id": "-HN8DfTdlJ9p",
    "outputId": "02d352f7-ffd6-4168-9d9d-48cc57f029ed"
   },
   "outputs": [
    {
     "name": "stdout",
     "output_type": "stream",
     "text": [
      "32955\n"
     ]
    }
   ],
   "source": [
    "print(len(bow_transformer.vocabulary_))"
   ]
  },
  {
   "cell_type": "markdown",
   "metadata": {
    "id": "dGQORcvolJ9p"
   },
   "source": [
    "Let's take one text message and get its bag-of-words counts as a vector, putting to use our new bow_transformer"
   ]
  },
  {
   "cell_type": "code",
   "execution_count": 18,
   "metadata": {
    "colab": {
     "base_uri": "https://localhost:8080/"
    },
    "id": "4N2sQzRQlJ9p",
    "outputId": "f94612a7-61c6-417a-a7ec-31bd4cac3890"
   },
   "outputs": [
    {
     "name": "stdout",
     "output_type": "stream",
     "text": [
      "yeading face newcastle in fa cup premiership side newcastle united face a trip to ryman premier league leaders yeading in the fa cup third round.  the game - arguably the highlight of the draw - is a potential money-spinner for non-league yeading  who beat slough in the second round. conference side exeter city  who knocked out doncaster on saturday  will travel to old trafford to meet holders manchester united in january. arsenal were drawn at home to stoke and chelsea will play host to scunthorpe. the only other non-league side in the draw are hinckley united  who held brentford to a goalless draw on sunday. they will meet league one leaders luton if they win their replay against martin allen s team at griffin park.  a number of premiership teams face difficult away games against championship sides on the weekend of 8/9 january. third-placed everton visit plymouth  liverpool travel to burnley  crystal palace go to sunderland  fulham face carling cup semi-finalists watford  bolton meet ipswich  while aston villa were drawn against sheffield united. premiership strugglers norwich  blackburn  west brom are away at west ham  cardiff and preston north end respectively. southampton visit northampton  having already beaten the league two side in the carling cup earlier this season. middlesbrough were drawn away against either swindon or notts county  while spurs entertain brighton at white hart lane.  arsenal v stoke  swindon/notts co v middlesbrough  man utd v exeter  plymouth v everton  leicester v blackpool  derby v wigan  sunderland v crystal palace  wolves v millwall  yeading v newcastle  hull v colchester  tottenham v brighton  reading v stockport/swansea  birmingham v leeds  hartlepool v boston  milton keynes dons v peterborough  oldham v man city  chelsea v scunthorpe  cardiff v blackburn  charlton v rochdale  west ham v norwich  sheff utd v aston villa  preston v west brom  rotherham v yeovil  burnley v liverpool  bournemouth v chester  coventry v crewe  watford v fulham  ipswich v bolton  portsmouth v gillingham  northampton v southampton  qpr v nottm forest  luton v hinckley/brentford  matches to be played on weekend of 8/9 january.\n"
     ]
    }
   ],
   "source": [
    "message4 = df['text'][3]\n",
    "print(message4)"
   ]
  },
  {
   "cell_type": "markdown",
   "metadata": {
    "id": "MvoYflgdlJ9p"
   },
   "source": [
    "Now let's see its vector representation"
   ]
  },
  {
   "cell_type": "code",
   "execution_count": null,
   "metadata": {
    "id": "Of2GljkslJ9q"
   },
   "outputs": [],
   "source": []
  },
  {
   "cell_type": "markdown",
   "metadata": {
    "id": "C9YadoLwlJ9q"
   },
   "source": [
    "Now let's transform the entire DataFrame of messages and create sparse matrix"
   ]
  },
  {
   "cell_type": "code",
   "execution_count": 19,
   "metadata": {
    "colab": {
     "base_uri": "https://localhost:8080/"
    },
    "id": "o5GzjO27lJ9q",
    "outputId": "a9168a9e-e117-4143-a998-e3d1d36230a3"
   },
   "outputs": [
    {
     "data": {
      "text/plain": [
       "<2225x32955 sparse matrix of type '<class 'numpy.int64'>'\n",
       "\twith 351196 stored elements in Compressed Sparse Row format>"
      ]
     },
     "execution_count": 19,
     "metadata": {},
     "output_type": "execute_result"
    }
   ],
   "source": [
    "messages_bow = bow_transformer.transform(df['text'])\n",
    "messages_bow\n",
    "\n",
    "# number lai matrix ma transform gareko"
   ]
  },
  {
   "cell_type": "code",
   "execution_count": 20,
   "metadata": {
    "colab": {
     "base_uri": "https://localhost:8080/"
    },
    "id": "PYwWNv36lJ9q",
    "outputId": "6264a19e-b9b8-416e-8123-91ed59f80bd0"
   },
   "outputs": [
    {
     "name": "stdout",
     "output_type": "stream",
     "text": [
      "Shape of Sparse Matrix:  (2225, 32955)\n"
     ]
    }
   ],
   "source": [
    "print('Shape of Sparse Matrix: ', messages_bow.shape)"
   ]
  },
  {
   "cell_type": "markdown",
   "metadata": {
    "id": "wn1JVK-OlJ9q"
   },
   "source": [
    "# **TF-IDF**"
   ]
  },
  {
   "cell_type": "markdown",
   "metadata": {
    "id": "bsV0SbU_lJ9q"
   },
   "source": [
    "Now let's compute term weighting and do normalisation with TF-IDF"
   ]
  },
  {
   "cell_type": "code",
   "execution_count": 21,
   "metadata": {
    "colab": {
     "base_uri": "https://localhost:8080/"
    },
    "id": "dc2a8sNblJ9q",
    "outputId": "166bacee-4af0-44f6-cbf6-c22febc137f1"
   },
   "outputs": [
    {
     "name": "stdout",
     "output_type": "stream",
     "text": [
      "  (0, 32269)\t0.037935187764147046\n",
      "  (0, 32236)\t0.02502710456830842\n",
      "  (0, 32218)\t0.033864397027638396\n",
      "  (0, 32028)\t0.03710594759218775\n",
      "  (0, 31992)\t0.02100667673046039\n",
      "  (0, 31813)\t0.03664812000393144\n",
      "  (0, 31808)\t0.09589102026311293\n",
      "  (0, 31569)\t0.01883413134132603\n",
      "  (0, 31511)\t0.02678740422843605\n",
      "  (0, 31461)\t0.03734874333099458\n",
      "  (0, 31427)\t0.136138533411439\n",
      "  (0, 31347)\t0.14814741780153445\n",
      "  (0, 31069)\t0.10864793656258968\n",
      "  (0, 31068)\t0.04861588905896267\n",
      "  (0, 31050)\t0.05626926860855512\n",
      "  (0, 31020)\t0.03695029588627538\n",
      "  (0, 31005)\t0.03145737594843765\n",
      "  (0, 30924)\t0.04141750597288596\n",
      "  (0, 30764)\t0.021827078427897984\n",
      "  (0, 30743)\t0.10694223933162789\n",
      "  (0, 30718)\t0.052098207267701584\n",
      "  (0, 30204)\t0.03992163146528098\n",
      "  (0, 30183)\t0.05650239402397808\n",
      "  (0, 30069)\t0.06175011629580761\n",
      "  (0, 30067)\t0.09245260244321195\n",
      "  :\t:\n",
      "  (2224, 9895)\t0.12109971024430365\n",
      "  (2224, 8984)\t0.11442471146497192\n",
      "  (2224, 8820)\t0.056428957311948434\n",
      "  (2224, 8637)\t0.09213091532167896\n",
      "  (2224, 8460)\t0.1299593243904044\n",
      "  (2224, 7059)\t0.06417806790161315\n",
      "  (2224, 5256)\t0.06763033995423327\n",
      "  (2224, 4891)\t0.06980282693127407\n",
      "  (2224, 4473)\t0.08464257961807096\n",
      "  (2224, 4470)\t0.06606710825034164\n",
      "  (2224, 4465)\t0.11442471146497192\n",
      "  (2224, 4192)\t0.07669904454175079\n",
      "  (2224, 3822)\t0.09006090543422118\n",
      "  (2224, 3362)\t0.10324735448749352\n",
      "  (2224, 2970)\t0.05957568898995083\n",
      "  (2224, 2944)\t0.027492986427464096\n",
      "  (2224, 2759)\t0.07282305585488702\n",
      "  (2224, 2640)\t0.13373257093176388\n",
      "  (2224, 2528)\t0.07862697789903562\n",
      "  (2224, 2419)\t0.04127237556105584\n",
      "  (2224, 1323)\t0.09213091532167896\n",
      "  (2224, 816)\t0.07692878338269066\n",
      "  (2224, 728)\t0.07692878338269066\n",
      "  (2224, 424)\t0.07027151526855119\n",
      "  (2224, 218)\t0.05940422644877817\n"
     ]
    }
   ],
   "source": [
    "# Normalization\n",
    "from sklearn.feature_extraction.text import TfidfTransformer\n",
    "tfidf_transformer = TfidfTransformer().fit(messages_bow)\n",
    "tfidf4 = tfidf_transformer.transform(messages_bow)\n",
    "print(tfidf4)\n",
    "\n",
    "# mathi number ma convert hunda dherai thulo number vayo so sano number ma convert gareko\n",
    "# 0 index ma vayeko () word lai () ma change gareko"
   ]
  },
  {
   "cell_type": "code",
   "execution_count": 22,
   "metadata": {
    "colab": {
     "base_uri": "https://localhost:8080/"
    },
    "id": "5_vZ-WynFevv",
    "outputId": "5954a6c9-1831-404f-d55b-da028069496a"
   },
   "outputs": [
    {
     "name": "stdout",
     "output_type": "stream",
     "text": [
      "(2225, 32955)\n"
     ]
    }
   ],
   "source": [
    "print(tfidf4.shape)"
   ]
  },
  {
   "cell_type": "code",
   "execution_count": null,
   "metadata": {
    "id": "eSW_141wlJ9q"
   },
   "outputs": [],
   "source": [
    "# from sklearn.svm import SVC\n",
    "# from datetime import datetime\n",
    "# start_time = datetime.now()\n",
    "\n",
    "# model = SVC()\n",
    "# model.fit(x_train,y_train)\n",
    "\n",
    "# end_time = datetime.now()\n",
    "# process_time = round(end_time-start_time,2)\n",
    "# print(\"Fitting SVC took {} seconds\".format(process_time))"
   ]
  },
  {
   "cell_type": "markdown",
   "metadata": {
    "id": "EPMhQPrWlJ9s"
   },
   "source": [
    "**Train Test Split**"
   ]
  },
  {
   "cell_type": "code",
   "execution_count": 23,
   "metadata": {
    "id": "KxEdmsSblJ9s"
   },
   "outputs": [],
   "source": [
    "from sklearn.model_selection import train_test_split\n",
    "\n",
    "text_train, text_test, label_train, label_test = train_test_split(df['text'], df['category'], test_size=0.2,shuffle=True)\n",
    "\n"
   ]
  },
  {
   "cell_type": "code",
   "execution_count": null,
   "metadata": {
    "id": "_y7dmrn_MVlD"
   },
   "outputs": [],
   "source": []
  },
  {
   "cell_type": "markdown",
   "metadata": {
    "id": "Mx-eGRKLlJ9s"
   },
   "source": [
    "**Creating a Data Pipeline**"
   ]
  },
  {
   "cell_type": "markdown",
   "metadata": {
    "id": "YZlcSYxllJ9s"
   },
   "source": [
    "Let's run our model again and then predict the test set. We will create and use a pipeline for this purpose"
   ]
  },
  {
   "cell_type": "code",
   "execution_count": 24,
   "metadata": {
    "id": "3kWZMv87lJ9s"
   },
   "outputs": [],
   "source": [
    "from sklearn.pipeline import Pipeline\n",
    "from sklearn.svm import SVC\n",
    "pipeline = Pipeline([\n",
    "    ('bow', CountVectorizer()),  # strings to token integer counts\n",
    "    ('tfidf', TfidfTransformer()),  # integer counts to weighted TF-IDF scores\n",
    "    ('classifier', SVC()),  # train on TF-IDF vectors w/ SVM\n",
    "])\n",
    "\n",
    "# svc= support vector classifier"
   ]
  },
  {
   "cell_type": "code",
   "execution_count": 25,
   "metadata": {
    "colab": {
     "base_uri": "https://localhost:8080/",
     "height": 159
    },
    "id": "1Mb0uqYnlJ9s",
    "outputId": "f1e3441f-a300-4280-8e7f-fc851f8f2b7e"
   },
   "outputs": [
    {
     "data": {
      "text/html": [
       "<style>#sk-container-id-3 {color: black;}#sk-container-id-3 pre{padding: 0;}#sk-container-id-3 div.sk-toggleable {background-color: white;}#sk-container-id-3 label.sk-toggleable__label {cursor: pointer;display: block;width: 100%;margin-bottom: 0;padding: 0.3em;box-sizing: border-box;text-align: center;}#sk-container-id-3 label.sk-toggleable__label-arrow:before {content: \"▸\";float: left;margin-right: 0.25em;color: #696969;}#sk-container-id-3 label.sk-toggleable__label-arrow:hover:before {color: black;}#sk-container-id-3 div.sk-estimator:hover label.sk-toggleable__label-arrow:before {color: black;}#sk-container-id-3 div.sk-toggleable__content {max-height: 0;max-width: 0;overflow: hidden;text-align: left;background-color: #f0f8ff;}#sk-container-id-3 div.sk-toggleable__content pre {margin: 0.2em;color: black;border-radius: 0.25em;background-color: #f0f8ff;}#sk-container-id-3 input.sk-toggleable__control:checked~div.sk-toggleable__content {max-height: 200px;max-width: 100%;overflow: auto;}#sk-container-id-3 input.sk-toggleable__control:checked~label.sk-toggleable__label-arrow:before {content: \"▾\";}#sk-container-id-3 div.sk-estimator input.sk-toggleable__control:checked~label.sk-toggleable__label {background-color: #d4ebff;}#sk-container-id-3 div.sk-label input.sk-toggleable__control:checked~label.sk-toggleable__label {background-color: #d4ebff;}#sk-container-id-3 input.sk-hidden--visually {border: 0;clip: rect(1px 1px 1px 1px);clip: rect(1px, 1px, 1px, 1px);height: 1px;margin: -1px;overflow: hidden;padding: 0;position: absolute;width: 1px;}#sk-container-id-3 div.sk-estimator {font-family: monospace;background-color: #f0f8ff;border: 1px dotted black;border-radius: 0.25em;box-sizing: border-box;margin-bottom: 0.5em;}#sk-container-id-3 div.sk-estimator:hover {background-color: #d4ebff;}#sk-container-id-3 div.sk-parallel-item::after {content: \"\";width: 100%;border-bottom: 1px solid gray;flex-grow: 1;}#sk-container-id-3 div.sk-label:hover label.sk-toggleable__label {background-color: #d4ebff;}#sk-container-id-3 div.sk-serial::before {content: \"\";position: absolute;border-left: 1px solid gray;box-sizing: border-box;top: 0;bottom: 0;left: 50%;z-index: 0;}#sk-container-id-3 div.sk-serial {display: flex;flex-direction: column;align-items: center;background-color: white;padding-right: 0.2em;padding-left: 0.2em;position: relative;}#sk-container-id-3 div.sk-item {position: relative;z-index: 1;}#sk-container-id-3 div.sk-parallel {display: flex;align-items: stretch;justify-content: center;background-color: white;position: relative;}#sk-container-id-3 div.sk-item::before, #sk-container-id-3 div.sk-parallel-item::before {content: \"\";position: absolute;border-left: 1px solid gray;box-sizing: border-box;top: 0;bottom: 0;left: 50%;z-index: -1;}#sk-container-id-3 div.sk-parallel-item {display: flex;flex-direction: column;z-index: 1;position: relative;background-color: white;}#sk-container-id-3 div.sk-parallel-item:first-child::after {align-self: flex-end;width: 50%;}#sk-container-id-3 div.sk-parallel-item:last-child::after {align-self: flex-start;width: 50%;}#sk-container-id-3 div.sk-parallel-item:only-child::after {width: 0;}#sk-container-id-3 div.sk-dashed-wrapped {border: 1px dashed gray;margin: 0 0.4em 0.5em 0.4em;box-sizing: border-box;padding-bottom: 0.4em;background-color: white;}#sk-container-id-3 div.sk-label label {font-family: monospace;font-weight: bold;display: inline-block;line-height: 1.2em;}#sk-container-id-3 div.sk-label-container {text-align: center;}#sk-container-id-3 div.sk-container {/* jupyter's `normalize.less` sets `[hidden] { display: none; }` but bootstrap.min.css set `[hidden] { display: none !important; }` so we also need the `!important` here to be able to override the default hidden behavior on the sphinx rendered scikit-learn.org. See: https://github.com/scikit-learn/scikit-learn/issues/21755 */display: inline-block !important;position: relative;}#sk-container-id-3 div.sk-text-repr-fallback {display: none;}</style><div id=\"sk-container-id-3\" class=\"sk-top-container\"><div class=\"sk-text-repr-fallback\"><pre>Pipeline(steps=[(&#x27;bow&#x27;, CountVectorizer()), (&#x27;tfidf&#x27;, TfidfTransformer()),\n",
       "                (&#x27;classifier&#x27;, SVC())])</pre><b>In a Jupyter environment, please rerun this cell to show the HTML representation or trust the notebook. <br />On GitHub, the HTML representation is unable to render, please try loading this page with nbviewer.org.</b></div><div class=\"sk-container\" hidden><div class=\"sk-item sk-dashed-wrapped\"><div class=\"sk-label-container\"><div class=\"sk-label sk-toggleable\"><input class=\"sk-toggleable__control sk-hidden--visually\" id=\"sk-estimator-id-3\" type=\"checkbox\" ><label for=\"sk-estimator-id-3\" class=\"sk-toggleable__label sk-toggleable__label-arrow\">Pipeline</label><div class=\"sk-toggleable__content\"><pre>Pipeline(steps=[(&#x27;bow&#x27;, CountVectorizer()), (&#x27;tfidf&#x27;, TfidfTransformer()),\n",
       "                (&#x27;classifier&#x27;, SVC())])</pre></div></div></div><div class=\"sk-serial\"><div class=\"sk-item\"><div class=\"sk-estimator sk-toggleable\"><input class=\"sk-toggleable__control sk-hidden--visually\" id=\"sk-estimator-id-4\" type=\"checkbox\" ><label for=\"sk-estimator-id-4\" class=\"sk-toggleable__label sk-toggleable__label-arrow\">CountVectorizer</label><div class=\"sk-toggleable__content\"><pre>CountVectorizer()</pre></div></div></div><div class=\"sk-item\"><div class=\"sk-estimator sk-toggleable\"><input class=\"sk-toggleable__control sk-hidden--visually\" id=\"sk-estimator-id-5\" type=\"checkbox\" ><label for=\"sk-estimator-id-5\" class=\"sk-toggleable__label sk-toggleable__label-arrow\">TfidfTransformer</label><div class=\"sk-toggleable__content\"><pre>TfidfTransformer()</pre></div></div></div><div class=\"sk-item\"><div class=\"sk-estimator sk-toggleable\"><input class=\"sk-toggleable__control sk-hidden--visually\" id=\"sk-estimator-id-6\" type=\"checkbox\" ><label for=\"sk-estimator-id-6\" class=\"sk-toggleable__label sk-toggleable__label-arrow\">SVC</label><div class=\"sk-toggleable__content\"><pre>SVC()</pre></div></div></div></div></div></div></div>"
      ],
      "text/plain": [
       "Pipeline(steps=[('bow', CountVectorizer()), ('tfidf', TfidfTransformer()),\n",
       "                ('classifier', SVC())])"
      ]
     },
     "execution_count": 25,
     "metadata": {},
     "output_type": "execute_result"
    }
   ],
   "source": [
    "pipeline.fit(text_train,label_train)"
   ]
  },
  {
   "cell_type": "code",
   "execution_count": 26,
   "metadata": {
    "colab": {
     "base_uri": "https://localhost:8080/"
    },
    "id": "HDs32nV8oaDH",
    "outputId": "de4fe1f6-55ec-4186-e3eb-4907e2902171"
   },
   "outputs": [
    {
     "data": {
      "text/plain": [
       "array(['asylum children to face returns the uk government is planning to return asylum seeker children without parents to albania.  the trial scheme  which could start in weeks  may be extended to apply to children from other countries. children s charities have reacted with alarm  saying the policy amounts to forcible removal and may not guarantee the safety of those affected. but the home office says it may be in the children s best interests if it reunites them with their communities.  the pilot  included in the government s five-year immigration plan  aims to return unaccompanied asylum-seeking children from albania who have failed in their asylum claims.  since 2002  at least 9 000 under-18s have arrived in the uk to seek asylum without other family members. these children automatically become the responsibility of social services. up to now  ministers have held back from final removal orders against unaccompanied children until after they are legally adults at 18. at least a dozen albanian-born teenagers are thought to have been identified for return  according to sources  although there is no public confirmation of numbers. those selected could either be returned to their families  should they be traced  or placed in the care of other albanian authorities. separate negotiations to establish a family tracing and returns scheme are believed to be underway with another country.  under the 1989 children act  public bodies have a duty to act in the  best interest  of a child in their care. laura brownlees of save the children said there were grave concerns  not least because of the well-documented trafficking of children into crime and prostitution in albania.   if children are going to be returned then there should be proper assessments and decisions on a case by case basis   she said.  we do not think there are structures in place [to receive returning children in albania].  if these decisions are not in the best interests of the child  then that is a forced removal because the child will not have any choice in the final decision.  in its five-year immigration plan  announced on tuesday  the government said it was addressing  the difficult issue  of returning unaccompanied asylum seeking children. a spokesman for the home office said it was wholly wrong to suggest that the plan was to return children  and leave them to rot .  we are developing a returns programme for unaccompanied asylum-seeking children whose asylum and humanitarian protection claims have been refused   said the spokesman.  we have been exploring how we can establish reception and longer-term care arrangements in countries of origin and believe that it s possible to return children in a way that is in their best interests and is safe and sustainable.   we do not believe that it is right  or in keeping with children s legislation  that children who can return should remain in the uk indefinitely separated from their families and communities.  the spokesman stressed the uk would abide by its international human rights obligations. only those children who could be provided with a carefully planned reintegration package would be returned  he said. but andrew hogg  spokesman for the medical foundation for the care of victims of torture  said ministers had so far failed to reassure agencies.  from what is so far known  we strongly oppose the scheme because the welfare and best interests of the child will not properly be taken into account   said mr hogg.  in albania particularly there is no statutory child care or protection structure.  the medical foundation has many serious concerns  including the assessment process for suitability for return  the degrading of best interests of the child principles and of child welfare  and the lack of safeguards in the chosen countries.  a spokesman for the albanian embassy in london said it was the first it had heard of a scheme  but did not rule out that there had been an agreement between the two countries.'],\n",
       "      dtype=object)"
      ]
     },
     "execution_count": 26,
     "metadata": {},
     "output_type": "execute_result"
    }
   ],
   "source": [
    "text_test.iloc[1:2].values"
   ]
  },
  {
   "cell_type": "code",
   "execution_count": 27,
   "metadata": {
    "colab": {
     "base_uri": "https://localhost:8080/"
    },
    "id": "0M4Kp0dMlJ9s",
    "outputId": "1fbde982-78b5-4393-b7a5-ebc0f9f18c7a"
   },
   "outputs": [
    {
     "data": {
      "text/plain": [
       "array(['politics', 'politics', 'entertainment', 'entertainment', 'sport',\n",
       "       'politics', 'sport', 'sport', 'politics', 'entertainment', 'tech',\n",
       "       'entertainment', 'politics', 'sport', 'sport', 'business',\n",
       "       'entertainment', 'business', 'politics', 'business', 'business',\n",
       "       'tech', 'entertainment', 'tech', 'entertainment', 'business',\n",
       "       'entertainment', 'sport', 'sport', 'sport', 'sport',\n",
       "       'entertainment', 'tech', 'politics', 'politics', 'tech',\n",
       "       'entertainment', 'sport', 'business', 'sport', 'politics',\n",
       "       'politics', 'business', 'sport', 'tech', 'sport', 'business',\n",
       "       'politics', 'entertainment', 'business', 'sport', 'business',\n",
       "       'business', 'politics', 'tech', 'tech', 'tech', 'tech', 'business',\n",
       "       'sport', 'sport', 'sport', 'politics', 'politics', 'entertainment',\n",
       "       'politics', 'business', 'tech', 'entertainment', 'tech', 'tech',\n",
       "       'sport', 'tech', 'business', 'entertainment', 'business',\n",
       "       'business', 'politics', 'sport', 'business', 'entertainment',\n",
       "       'tech', 'entertainment', 'entertainment', 'business', 'sport',\n",
       "       'politics', 'entertainment', 'entertainment', 'sport', 'business',\n",
       "       'entertainment', 'politics', 'entertainment', 'sport', 'business',\n",
       "       'business', 'sport', 'tech', 'business', 'politics',\n",
       "       'entertainment', 'business', 'business', 'business',\n",
       "       'entertainment', 'business', 'politics', 'politics', 'tech',\n",
       "       'sport', 'tech', 'business', 'entertainment', 'entertainment',\n",
       "       'business', 'politics', 'business', 'sport', 'business', 'sport',\n",
       "       'tech', 'business', 'politics', 'entertainment', 'business',\n",
       "       'sport', 'business', 'politics', 'sport', 'tech', 'tech', 'tech',\n",
       "       'business', 'sport', 'tech', 'business', 'entertainment',\n",
       "       'business', 'business', 'entertainment', 'entertainment',\n",
       "       'entertainment', 'sport', 'business', 'sport', 'politics',\n",
       "       'politics', 'business', 'sport', 'business', 'sport', 'politics',\n",
       "       'entertainment', 'entertainment', 'business', 'sport', 'business',\n",
       "       'entertainment', 'politics', 'business', 'business', 'sport',\n",
       "       'sport', 'sport', 'business', 'business', 'business', 'business',\n",
       "       'politics', 'entertainment', 'business', 'sport', 'business',\n",
       "       'entertainment', 'politics', 'politics', 'business',\n",
       "       'entertainment', 'politics', 'sport', 'sport', 'entertainment',\n",
       "       'politics', 'sport', 'tech', 'business', 'business', 'tech',\n",
       "       'sport', 'entertainment', 'tech', 'politics', 'sport',\n",
       "       'entertainment', 'sport', 'sport', 'business', 'business', 'sport',\n",
       "       'politics', 'business', 'politics', 'business', 'business',\n",
       "       'sport', 'sport', 'business', 'entertainment', 'business',\n",
       "       'politics', 'tech', 'entertainment', 'sport', 'business', 'sport',\n",
       "       'politics', 'entertainment', 'entertainment', 'business',\n",
       "       'politics', 'tech', 'tech', 'politics', 'tech', 'entertainment',\n",
       "       'business', 'tech', 'tech', 'politics', 'entertainment', 'tech',\n",
       "       'politics', 'tech', 'business', 'entertainment', 'tech', 'sport',\n",
       "       'business', 'entertainment', 'entertainment', 'tech',\n",
       "       'entertainment', 'business', 'business', 'sport', 'business',\n",
       "       'tech', 'tech', 'entertainment', 'sport', 'sport', 'tech',\n",
       "       'business', 'tech', 'business', 'business', 'business',\n",
       "       'entertainment', 'sport', 'politics', 'tech', 'sport', 'tech',\n",
       "       'sport', 'entertainment', 'business', 'sport', 'business',\n",
       "       'politics', 'business', 'sport', 'business', 'entertainment',\n",
       "       'sport', 'business', 'entertainment', 'sport', 'politics',\n",
       "       'entertainment', 'sport', 'business', 'politics', 'sport', 'tech',\n",
       "       'sport', 'business', 'sport', 'business', 'business', 'tech',\n",
       "       'tech', 'business', 'tech', 'sport', 'business', 'politics',\n",
       "       'sport', 'entertainment', 'sport', 'sport', 'sport', 'sport',\n",
       "       'politics', 'sport', 'business', 'politics', 'business',\n",
       "       'politics', 'business', 'politics', 'tech', 'entertainment',\n",
       "       'politics', 'business', 'entertainment', 'sport', 'entertainment',\n",
       "       'business', 'politics', 'sport', 'politics', 'business',\n",
       "       'business', 'tech', 'business', 'entertainment', 'tech',\n",
       "       'business', 'business', 'entertainment', 'tech', 'entertainment',\n",
       "       'business', 'tech', 'entertainment', 'sport', 'business',\n",
       "       'politics', 'business', 'entertainment', 'politics', 'business',\n",
       "       'sport', 'politics', 'sport', 'sport', 'entertainment', 'politics',\n",
       "       'business', 'business', 'entertainment', 'sport', 'tech', 'sport',\n",
       "       'sport', 'entertainment', 'business', 'entertainment', 'politics',\n",
       "       'business', 'sport', 'politics', 'politics', 'politics',\n",
       "       'business', 'politics', 'politics', 'business', 'sport',\n",
       "       'entertainment', 'tech', 'entertainment', 'business',\n",
       "       'entertainment', 'sport', 'politics', 'politics', 'tech',\n",
       "       'business', 'sport', 'sport', 'entertainment', 'business',\n",
       "       'politics', 'sport', 'politics', 'business', 'politics', 'tech',\n",
       "       'politics', 'sport', 'sport', 'tech', 'entertainment', 'sport',\n",
       "       'sport', 'sport', 'sport', 'business', 'entertainment', 'politics',\n",
       "       'entertainment', 'entertainment', 'tech', 'sport', 'politics',\n",
       "       'politics', 'entertainment', 'tech', 'business', 'business',\n",
       "       'entertainment', 'business', 'sport', 'tech', 'sport', 'sport',\n",
       "       'tech', 'sport', 'politics', 'business', 'entertainment', 'tech',\n",
       "       'entertainment', 'sport', 'tech', 'sport', 'sport',\n",
       "       'entertainment', 'sport', 'entertainment', 'business', 'tech',\n",
       "       'sport', 'tech', 'entertainment', 'tech', 'business', 'business',\n",
       "       'business', 'tech', 'politics', 'entertainment', 'business'],\n",
       "      dtype=object)"
      ]
     },
     "execution_count": 27,
     "metadata": {},
     "output_type": "execute_result"
    }
   ],
   "source": [
    "predictions = pipeline.predict(text_test)\n",
    "predictions"
   ]
  },
  {
   "cell_type": "code",
   "execution_count": 28,
   "metadata": {
    "id": "mucrOr61Ngz7"
   },
   "outputs": [],
   "source": [
    "class_names = np.array(['International',\n",
    "'blog',\n",
    "'entertainment',\n",
    "'political',\n",
    "'social',\n",
    "'sports',\n",
    "'view'])"
   ]
  },
  {
   "cell_type": "markdown",
   "metadata": {
    "id": "oA56sAtQlJ9s"
   },
   "source": [
    "# **Making Confusion Matrix**"
   ]
  },
  {
   "cell_type": "markdown",
   "metadata": {
    "id": "wtus9uuylJ9t"
   },
   "source": [
    "Confusion Matrix is going to contain the correct predictions that our model made on the set as well as the incorrect predictions."
   ]
  },
  {
   "cell_type": "code",
   "execution_count": 29,
   "metadata": {
    "colab": {
     "base_uri": "https://localhost:8080/"
    },
    "id": "ygYWN4MPlJ9t",
    "outputId": "8ba2e91a-354e-4335-f9fd-fc8273e6a615"
   },
   "outputs": [
    {
     "name": "stdout",
     "output_type": "stream",
     "text": [
      "[[112   1   1   0   0]\n",
      " [  0  80   1   0   0]\n",
      " [  3   1  72   1   0]\n",
      " [  0   0   0 101   0]\n",
      " [  2   2   1   1  66]]\n"
     ]
    }
   ],
   "source": [
    "from sklearn.metrics import confusion_matrix,classification_report\n",
    "cm = confusion_matrix(label_test,predictions)\n",
    "print(cm)"
   ]
  },
  {
   "cell_type": "code",
   "execution_count": 30,
   "metadata": {
    "colab": {
     "base_uri": "https://localhost:8080/"
    },
    "id": "-iwhadJ2pNup",
    "outputId": "695a3331-959a-4e62-df29-b9fc9f724f03"
   },
   "outputs": [
    {
     "name": "stdout",
     "output_type": "stream",
     "text": [
      "               precision    recall  f1-score   support\n",
      "\n",
      "     business       0.98      0.96      0.97       117\n",
      "entertainment       0.99      0.95      0.97        84\n",
      "     politics       0.94      0.96      0.95        75\n",
      "        sport       1.00      0.98      0.99       103\n",
      "         tech       0.92      1.00      0.96        66\n",
      "\n",
      "     accuracy                           0.97       445\n",
      "    macro avg       0.96      0.97      0.97       445\n",
      " weighted avg       0.97      0.97      0.97       445\n",
      "\n"
     ]
    }
   ],
   "source": [
    "# confusion matrix and classification report(precision, recall, F1-score)\n",
    "# ytest = np.array(label_test)\n",
    "print(classification_report(pipeline.predict(text_test),label_test))"
   ]
  },
  {
   "cell_type": "code",
   "execution_count": 31,
   "metadata": {
    "colab": {
     "base_uri": "https://localhost:8080/",
     "height": 661
    },
    "id": "Z6xnyFAmM367",
    "outputId": "c774473e-3c0d-4db9-f680-199f64e3c916"
   },
   "outputs": [
    {
     "data": {
      "image/png": "[encoded data removed]",
      "text/plain": [
       "<Figure size 800x800 with 2 Axes>"
      ]
     },
     "metadata": {},
     "output_type": "display_data"
    }
   ],
   "source": [
    "import matplotlib.pyplot as plt\n",
    "from sklearn.metrics import ConfusionMatrixDisplay\n",
    "class_names =['business','entertainment','politics','sport','tech']\n",
    "# Change figure size and increase dpi for better resolution\n",
    "# and get reference to axes object\n",
    "fig, ax = plt.subplots(figsize=(8,8), dpi=100)\n",
    "\n",
    "# initialize using the raw 2D confusion matrix\n",
    "# and output labels (in our case, it's 0 and 1)\n",
    "display = ConfusionMatrixDisplay(cm, display_labels=class_names)\n",
    "\n",
    "# set the plot title using the axes object\n",
    "ax.set(title='Confusion Matrix for the Diabetes Detection Model')\n",
    "\n",
    "# show the plot.\n",
    "# Pass the parameter ax to show customizations (ex. title)\n",
    "display.plot(ax=ax);"
   ]
  },
  {
   "cell_type": "code",
   "execution_count": 32,
   "metadata": {
    "colab": {
     "base_uri": "https://localhost:8080/"
    },
    "id": "XYCCPjhPlJ9t",
    "outputId": "4e84a579-46dd-4bfb-b128-efb08f5253f0"
   },
   "outputs": [
    {
     "name": "stdout",
     "output_type": "stream",
     "text": [
      "Accuracy: 0.9685393258426966\n"
     ]
    }
   ],
   "source": [
    "from sklearn import metrics\n",
    "print(\"Accuracy:\",metrics.accuracy_score(predictions,label_test))"
   ]
  },
  {
   "cell_type": "code",
   "execution_count": 34,
   "metadata": {
    "colab": {
     "base_uri": "https://localhost:8080/"
    },
    "id": "iqvzBPqWq-wH",
    "outputId": "b58707f7-7d89-41e0-dd4e-05ff258c5175"
   },
   "outputs": [
    {
     "name": "stdout",
     "output_type": "stream",
     "text": [
      "Enter news = Click to share on Facebook (Opens in new window) Click to share on Twitter (Opens in new window) Celebrity Sightings In New York City - October 26, 2023, Taylor Swift Gotham/GC Images Time won’t fly, but Taylor Swift will — as long as boyfriend Travis Kelce is out there waiting.  Swift, 33, touched down in Kansas City on Monday, November, 27, a source exclusively tells Us Weekly. The pop star’s arrival comes just one day after she wrapped up the last of her 2023 Eras Tour shows in São Paulo, Brazil. (The tour will pick back up in Tokyo in February 2024.)  Spicy Pasta with Shrimp and Tomatoes Next Stay     Auto (225p) 225p 360p Subtitles Off The singer’s recent concert dates have kept her from being able to support Kelce, 34, in person. After cheering him on at various NFL games earlier this year, Swift was not in attendance to watch the Chiefs defeat the Las Vegas Raiders 31-17 on Sunday, November 26, as she was busy with her final Brazil show.\n",
      "Predicted news category =  entertainment\n"
     ]
    }
   ],
   "source": [
    "# file = open('/content/news.txt','r')\n",
    "# news = file.read()\n",
    "# file.close()\n",
    "\n",
    "news = input(\"Enter news = \")\n",
    "news_data = {'predict_news':[news]}\n",
    "news_data_df = pd.DataFrame(news_data)\n",
    "\n",
    "predict_news_cat = pipeline.predict(news_data_df['predict_news'])\n",
    "print(\"Predicted news category = \",predict_news_cat[0])"
   ]
  },
  {
   "cell_type": "code",
   "execution_count": null,
   "metadata": {
    "id": "e87o-r6eus75"
   },
   "outputs": [],
   "source": []
  }
 ],
 "metadata": {
  "colab": {
   "provenance": []
  },
  "kernelspec": {
   "display_name": "Python 3 (ipykernel)",
   "language": "python",
   "name": "python3"
  },
  "language_info": {
   "codemirror_mode": {
    "name": "ipython",
    "version": 3
   },
   "file_extension": ".py",
   "mimetype": "text/x-python",
   "name": "python",
   "nbconvert_exporter": "python",
   "pygments_lexer": "ipython3",
   "version": "3.11.4"
  }
 },
 "nbformat": 4,
 "nbformat_minor": 1
}
