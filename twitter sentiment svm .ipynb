{
 "cells": [
  {
   "cell_type": "code",
   "execution_count": 9,
   "id": "16b2f0a7",
   "metadata": {
    "_cell_guid": "79c7e3d0-c299-4dcb-8224-4455121ee9b0",
    "_uuid": "d629ff2d2480ee46fbb7e2d37f6b5fab8052498a",
    "colab": {
     "base_uri": "https://localhost:8080/"
    },
    "id": "RVX6268RlJ9g",
    "outputId": "a9a26366-e355-41a4-c6fe-cb424b082818"
   },
   "outputs": [
    {
     "name": "stdout",
     "output_type": "stream",
     "text": [
      "Requirement already satisfied: scikit-learn in c:\\users\\deepika sainju\\anaconda\\lib\\site-packages (1.3.2)\n",
      "Requirement already satisfied: numpy<2.0,>=1.17.3 in c:\\users\\deepika sainju\\anaconda\\lib\\site-packages (from scikit-learn) (1.24.3)\n",
      "Requirement already satisfied: scipy>=1.5.0 in c:\\users\\deepika sainju\\anaconda\\lib\\site-packages (from scikit-learn) (1.10.1)\n",
      "Requirement already satisfied: joblib>=1.1.1 in c:\\users\\deepika sainju\\anaconda\\lib\\site-packages (from scikit-learn) (1.2.0)\n",
      "Requirement already satisfied: threadpoolctl>=2.0.0 in c:\\users\\deepika sainju\\anaconda\\lib\\site-packages (from scikit-learn) (2.2.0)\n"
     ]
    },
    {
     "name": "stderr",
     "output_type": "stream",
     "text": [
      "C:\\Users\\Deepika Sainju\\AppData\\Local\\Temp\\ipykernel_6140\\851472779.py:8: MatplotlibDeprecationWarning: The seaborn styles shipped by Matplotlib are deprecated since 3.6, as they no longer correspond to the styles shipped by seaborn. However, they will remain available as 'seaborn-v0_8-<style>'. Alternatively, directly use the seaborn API instead.\n",
      "  plt.style.use('seaborn-deep')\n",
      "[nltk_data] Downloading package stopwords to C:\\Users\\Deepika\n",
      "[nltk_data]     Sainju\\AppData\\Roaming\\nltk_data...\n",
      "[nltk_data]   Package stopwords is already up-to-date!\n"
     ]
    },
    {
     "data": {
      "text/plain": [
       "True"
      ]
     },
     "execution_count": 9,
     "metadata": {},
     "output_type": "execute_result"
    }
   ],
   "source": [
    "!pip install --upgrade scikit-learn\n",
    "\n",
    "import numpy as np\n",
    "import pandas as pd\n",
    "import matplotlib.pyplot as plt\n",
    "import seaborn as sns\n",
    "%matplotlib inline\n",
    "plt.style.use('seaborn-deep')\n",
    "from sklearn.metrics import confusion_matrix\n",
    "import nltk\n",
    "nltk.download('stopwords')"
   ]
  },
  {
   "cell_type": "code",
   "execution_count": null,
   "id": "cb50aa5b",
   "metadata": {
    "id": "TFm98IJYeQCD"
   },
   "outputs": [],
   "source": [
    "# from google.colab import drive\n",
    "# drive.mount('/content/bbc-text.csv')"
   ]
  },
  {
   "cell_type": "markdown",
   "id": "8ca51662",
   "metadata": {
    "id": "in7CBKxJlJ9j"
   },
   "source": [
    "**Check out the Data**"
   ]
  },
  {
   "cell_type": "code",
   "execution_count": 10,
   "id": "ece342bc",
   "metadata": {
    "colab": {
     "base_uri": "https://localhost:8080/",
     "height": 206
    },
    "id": "mtKmXRl0lJ9k",
    "outputId": "40f678b9-943b-4ad1-c3f0-39ad2a6c8330"
   },
   "outputs": [
    {
     "data": {
      "text/html": [
       "<div>\n",
       "<style scoped>\n",
       "    .dataframe tbody tr th:only-of-type {\n",
       "        vertical-align: middle;\n",
       "    }\n",
       "\n",
       "    .dataframe tbody tr th {\n",
       "        vertical-align: top;\n",
       "    }\n",
       "\n",
       "    .dataframe thead th {\n",
       "        text-align: right;\n",
       "    }\n",
       "</style>\n",
       "<table border=\"1\" class=\"dataframe\">\n",
       "  <thead>\n",
       "    <tr style=\"text-align: right;\">\n",
       "      <th></th>\n",
       "      <th>clean_text</th>\n",
       "      <th>category</th>\n",
       "    </tr>\n",
       "  </thead>\n",
       "  <tbody>\n",
       "    <tr>\n",
       "      <th>0</th>\n",
       "      <td>when modi promised “minimum government maximum...</td>\n",
       "      <td>-1.0</td>\n",
       "    </tr>\n",
       "    <tr>\n",
       "      <th>1</th>\n",
       "      <td>talk all the nonsense and continue all the dra...</td>\n",
       "      <td>0.0</td>\n",
       "    </tr>\n",
       "    <tr>\n",
       "      <th>2</th>\n",
       "      <td>what did just say vote for modi  welcome bjp t...</td>\n",
       "      <td>1.0</td>\n",
       "    </tr>\n",
       "    <tr>\n",
       "      <th>3</th>\n",
       "      <td>asking his supporters prefix chowkidar their n...</td>\n",
       "      <td>1.0</td>\n",
       "    </tr>\n",
       "    <tr>\n",
       "      <th>4</th>\n",
       "      <td>answer who among these the most powerful world...</td>\n",
       "      <td>1.0</td>\n",
       "    </tr>\n",
       "  </tbody>\n",
       "</table>\n",
       "</div>"
      ],
      "text/plain": [
       "                                          clean_text  category\n",
       "0  when modi promised “minimum government maximum...      -1.0\n",
       "1  talk all the nonsense and continue all the dra...       0.0\n",
       "2  what did just say vote for modi  welcome bjp t...       1.0\n",
       "3  asking his supporters prefix chowkidar their n...       1.0\n",
       "4  answer who among these the most powerful world...       1.0"
      ]
     },
     "execution_count": 10,
     "metadata": {},
     "output_type": "execute_result"
    }
   ],
   "source": [
    "df = pd.read_csv('Twitter_Data.csv')\n",
    "df.head()"
   ]
  },
  {
   "cell_type": "code",
   "execution_count": 11,
   "id": "9632c282",
   "metadata": {
    "colab": {
     "base_uri": "https://localhost:8080/"
    },
    "id": "3qrFtV5slJ9k",
    "outputId": "ef232e44-b771-49b4-ff0d-54e14bb6334f"
   },
   "outputs": [
    {
     "name": "stdout",
     "output_type": "stream",
     "text": [
      "<class 'pandas.core.frame.DataFrame'>\n",
      "RangeIndex: 162980 entries, 0 to 162979\n",
      "Data columns (total 2 columns):\n",
      " #   Column      Non-Null Count   Dtype  \n",
      "---  ------      --------------   -----  \n",
      " 0   clean_text  162976 non-null  object \n",
      " 1   category    162973 non-null  float64\n",
      "dtypes: float64(1), object(1)\n",
      "memory usage: 2.5+ MB\n"
     ]
    }
   ],
   "source": [
    "df.info()"
   ]
  },
  {
   "cell_type": "markdown",
   "id": "4730ab38",
   "metadata": {
    "id": "OI9znHNvlJ9k"
   },
   "source": [
    "# **Exploratory Data Analysis**"
   ]
  },
  {
   "cell_type": "code",
   "execution_count": 12,
   "id": "f07506a4",
   "metadata": {
    "colab": {
     "base_uri": "https://localhost:8080/",
     "height": 237
    },
    "id": "qyWenaZzlJ9l",
    "outputId": "c3de59c8-916c-4a60-9c2b-5414f8141fe6"
   },
   "outputs": [
    {
     "data": {
      "text/html": [
       "<div>\n",
       "<style scoped>\n",
       "    .dataframe tbody tr th:only-of-type {\n",
       "        vertical-align: middle;\n",
       "    }\n",
       "\n",
       "    .dataframe tbody tr th {\n",
       "        vertical-align: top;\n",
       "    }\n",
       "\n",
       "    .dataframe thead th {\n",
       "        text-align: right;\n",
       "    }\n",
       "</style>\n",
       "<table border=\"1\" class=\"dataframe\">\n",
       "  <thead>\n",
       "    <tr style=\"text-align: right;\">\n",
       "      <th></th>\n",
       "      <th>clean_text</th>\n",
       "    </tr>\n",
       "    <tr>\n",
       "      <th>category</th>\n",
       "      <th></th>\n",
       "    </tr>\n",
       "  </thead>\n",
       "  <tbody>\n",
       "    <tr>\n",
       "      <th>-1.0</th>\n",
       "      <td>35509</td>\n",
       "    </tr>\n",
       "    <tr>\n",
       "      <th>0.0</th>\n",
       "      <td>55211</td>\n",
       "    </tr>\n",
       "    <tr>\n",
       "      <th>1.0</th>\n",
       "      <td>72249</td>\n",
       "    </tr>\n",
       "  </tbody>\n",
       "</table>\n",
       "</div>"
      ],
      "text/plain": [
       "          clean_text\n",
       "category            \n",
       "-1.0           35509\n",
       " 0.0           55211\n",
       " 1.0           72249"
      ]
     },
     "execution_count": 12,
     "metadata": {},
     "output_type": "execute_result"
    }
   ],
   "source": [
    "df.groupby('category').count()"
   ]
  },
  {
   "cell_type": "code",
   "execution_count": 13,
   "id": "38b3f43b",
   "metadata": {},
   "outputs": [
    {
     "data": {
      "text/plain": [
       "11"
      ]
     },
     "execution_count": 13,
     "metadata": {},
     "output_type": "execute_result"
    }
   ],
   "source": [
    "df.isnull().sum().values.sum()"
   ]
  },
  {
   "cell_type": "code",
   "execution_count": 14,
   "id": "eb3eede2",
   "metadata": {},
   "outputs": [],
   "source": [
    "df=df.dropna()"
   ]
  },
  {
   "cell_type": "markdown",
   "id": "eb88308c",
   "metadata": {
    "id": "ZdHxQVvylJ9l"
   },
   "source": [
    "Let's make a new column to detect how long the text messages are"
   ]
  },
  {
   "cell_type": "code",
   "execution_count": 15,
   "id": "cca65ba6",
   "metadata": {
    "colab": {
     "base_uri": "https://localhost:8080/",
     "height": 423
    },
    "id": "56unpDNmlJ9l",
    "outputId": "ef9039ca-079f-4401-eeed-7c2b07447ad3"
   },
   "outputs": [
    {
     "data": {
      "text/html": [
       "<div>\n",
       "<style scoped>\n",
       "    .dataframe tbody tr th:only-of-type {\n",
       "        vertical-align: middle;\n",
       "    }\n",
       "\n",
       "    .dataframe tbody tr th {\n",
       "        vertical-align: top;\n",
       "    }\n",
       "\n",
       "    .dataframe thead th {\n",
       "        text-align: right;\n",
       "    }\n",
       "</style>\n",
       "<table border=\"1\" class=\"dataframe\">\n",
       "  <thead>\n",
       "    <tr style=\"text-align: right;\">\n",
       "      <th></th>\n",
       "      <th>clean_text</th>\n",
       "      <th>category</th>\n",
       "      <th>Length</th>\n",
       "    </tr>\n",
       "  </thead>\n",
       "  <tbody>\n",
       "    <tr>\n",
       "      <th>0</th>\n",
       "      <td>when modi promised “minimum government maximum...</td>\n",
       "      <td>-1.0</td>\n",
       "      <td>210</td>\n",
       "    </tr>\n",
       "    <tr>\n",
       "      <th>1</th>\n",
       "      <td>talk all the nonsense and continue all the dra...</td>\n",
       "      <td>0.0</td>\n",
       "      <td>68</td>\n",
       "    </tr>\n",
       "    <tr>\n",
       "      <th>2</th>\n",
       "      <td>what did just say vote for modi  welcome bjp t...</td>\n",
       "      <td>1.0</td>\n",
       "      <td>117</td>\n",
       "    </tr>\n",
       "    <tr>\n",
       "      <th>3</th>\n",
       "      <td>asking his supporters prefix chowkidar their n...</td>\n",
       "      <td>1.0</td>\n",
       "      <td>212</td>\n",
       "    </tr>\n",
       "    <tr>\n",
       "      <th>4</th>\n",
       "      <td>answer who among these the most powerful world...</td>\n",
       "      <td>1.0</td>\n",
       "      <td>81</td>\n",
       "    </tr>\n",
       "    <tr>\n",
       "      <th>...</th>\n",
       "      <td>...</td>\n",
       "      <td>...</td>\n",
       "      <td>...</td>\n",
       "    </tr>\n",
       "    <tr>\n",
       "      <th>162975</th>\n",
       "      <td>why these 456 crores paid neerav modi not reco...</td>\n",
       "      <td>-1.0</td>\n",
       "      <td>108</td>\n",
       "    </tr>\n",
       "    <tr>\n",
       "      <th>162976</th>\n",
       "      <td>dear rss terrorist payal gawar what about modi...</td>\n",
       "      <td>-1.0</td>\n",
       "      <td>248</td>\n",
       "    </tr>\n",
       "    <tr>\n",
       "      <th>162977</th>\n",
       "      <td>did you cover her interaction forum where she ...</td>\n",
       "      <td>0.0</td>\n",
       "      <td>51</td>\n",
       "    </tr>\n",
       "    <tr>\n",
       "      <th>162978</th>\n",
       "      <td>there big project came into india modi dream p...</td>\n",
       "      <td>0.0</td>\n",
       "      <td>77</td>\n",
       "    </tr>\n",
       "    <tr>\n",
       "      <th>162979</th>\n",
       "      <td>have you ever listen about like gurukul where ...</td>\n",
       "      <td>1.0</td>\n",
       "      <td>216</td>\n",
       "    </tr>\n",
       "  </tbody>\n",
       "</table>\n",
       "<p>162969 rows × 3 columns</p>\n",
       "</div>"
      ],
      "text/plain": [
       "                                               clean_text  category  Length\n",
       "0       when modi promised “minimum government maximum...      -1.0     210\n",
       "1       talk all the nonsense and continue all the dra...       0.0      68\n",
       "2       what did just say vote for modi  welcome bjp t...       1.0     117\n",
       "3       asking his supporters prefix chowkidar their n...       1.0     212\n",
       "4       answer who among these the most powerful world...       1.0      81\n",
       "...                                                   ...       ...     ...\n",
       "162975  why these 456 crores paid neerav modi not reco...      -1.0     108\n",
       "162976  dear rss terrorist payal gawar what about modi...      -1.0     248\n",
       "162977  did you cover her interaction forum where she ...       0.0      51\n",
       "162978  there big project came into india modi dream p...       0.0      77\n",
       "162979  have you ever listen about like gurukul where ...       1.0     216\n",
       "\n",
       "[162969 rows x 3 columns]"
      ]
     },
     "execution_count": 15,
     "metadata": {},
     "output_type": "execute_result"
    }
   ],
   "source": [
    "df['Length'] = df['clean_text'].apply(len)\n",
    "df\n"
   ]
  },
  {
   "cell_type": "markdown",
   "id": "552d399f",
   "metadata": {
    "id": "kSVpWsi-lJ9m"
   },
   "source": [
    "Let's see the percentage of ham and spam in our dataset"
   ]
  },
  {
   "cell_type": "code",
   "execution_count": 16,
   "id": "770ef1f8",
   "metadata": {
    "colab": {
     "base_uri": "https://localhost:8080/"
    },
    "id": "3nQNjgiclJ9n",
    "outputId": "9b9cbe90-05a3-4c01-a1d0-e89eb78f77c3"
   },
   "outputs": [
    {
     "data": {
      "text/plain": [
       "count    162969.000000\n",
       "mean        124.178322\n",
       "std          67.924029\n",
       "min           1.000000\n",
       "25%          66.000000\n",
       "50%         114.000000\n",
       "75%         183.000000\n",
       "max         274.000000\n",
       "Name: Length, dtype: float64"
      ]
     },
     "execution_count": 16,
     "metadata": {},
     "output_type": "execute_result"
    }
   ],
   "source": [
    "df['Length'].describe()\n",
    "# min wala data hatauna parne pani huna sakxa"
   ]
  },
  {
   "cell_type": "markdown",
   "id": "8da3e263",
   "metadata": {
    "id": "x26fjBBwlJ9n"
   },
   "source": [
    "One of the text has 501 characters, let's use masking to find this message:"
   ]
  },
  {
   "cell_type": "markdown",
   "id": "2d62bb7c",
   "metadata": {
    "id": "AwqqkNbklJ9n"
   },
   "source": [
    "# **Text Cleaning**"
   ]
  },
  {
   "cell_type": "markdown",
   "id": "7f338e06",
   "metadata": {
    "id": "yBqjJxTllJ9n"
   },
   "source": [
    "Let’s clean the text for the messages in our dataset with NLP."
   ]
  },
  {
   "cell_type": "code",
   "execution_count": 17,
   "id": "45ebed86",
   "metadata": {
    "id": "K4oGdaq6lJ9n"
   },
   "outputs": [],
   "source": [
    "import string\n",
    "from nltk.corpus import stopwords"
   ]
  },
  {
   "cell_type": "code",
   "execution_count": 18,
   "id": "d69cd5cf",
   "metadata": {
    "colab": {
     "base_uri": "https://localhost:8080/",
     "height": 36
    },
    "id": "CsfhI37apx07",
    "outputId": "5d25a40d-97ec-43b9-8154-4979b4c105ab"
   },
   "outputs": [
    {
     "data": {
      "text/plain": [
       "'!\"#$%&\\'()*+,-./:;<=>?@[\\\\]^_`{|}~'"
      ]
     },
     "execution_count": 18,
     "metadata": {},
     "output_type": "execute_result"
    }
   ],
   "source": [
    "string.punctuation\n",
    "\n",
    "# punctuation= sign or special characters"
   ]
  },
  {
   "cell_type": "code",
   "execution_count": 19,
   "id": "e1c10332",
   "metadata": {
    "id": "Z0a-YbxLpauM"
   },
   "outputs": [],
   "source": [
    "mess = '''For me / @the love should start with attraction.i should feel that I need her every time around me.she should be the first thing which comes in my thoughts.I would start the day and end it with her.she should be there every time I dream.love will be then when my every breath has her name.my life should happen around her.my life will be named to her.I would cry for her.will give all my happiness and take all her sorrows.I will be ready to fight with anyone for her.I will be in love when I will be doing the craziest things for her.love will be when I don't have to proove anyone that my girl is the most beautiful lady on the whole planet.I will always be singing praises for her.love will be when I start up making chicken curry and end up makiing sambar.life will be the most beautiful then.will get every morning and thank god for the day because she is with me.I would like to say a lot..will tell later..'''"
   ]
  },
  {
   "cell_type": "code",
   "execution_count": 20,
   "id": "0baa1006",
   "metadata": {
    "colab": {
     "base_uri": "https://localhost:8080/"
    },
    "id": "_qJj6D5LpOE3",
    "outputId": "4f33ff52-5b4f-4ed5-edaa-8728641307dc"
   },
   "outputs": [
    {
     "name": "stdout",
     "output_type": "stream",
     "text": [
      "For me  the love should start with attractioni should feel that I need her every time around meshe should be the first thing which comes in my thoughtsI would start the day and end it with hershe should be there every time I dreamlove will be then when my every breath has her namemy life should happen around hermy life will be named to herI would cry for herwill give all my happiness and take all her sorrowsI will be ready to fight with anyone for herI will be in love when I will be doing the craziest things for herlove will be when I dont have to proove anyone that my girl is the most beautiful lady on the whole planetI will always be singing praises for herlove will be when I start up making chicken curry and end up makiing sambarlife will be the most beautiful thenwill get every morning and thank god for the day because she is with meI would like to say a lotwill tell later\n"
     ]
    }
   ],
   "source": [
    "nopunc = ''.join([char for char in mess if char not in string.punctuation])\n",
    "print(nopunc)\n",
    "\n",
    "# list comprehension use garera punctuation hatako\n",
    "# alphabets haru matra join garne"
   ]
  },
  {
   "cell_type": "code",
   "execution_count": 21,
   "id": "e9379d39",
   "metadata": {
    "colab": {
     "base_uri": "https://localhost:8080/"
    },
    "id": "6kcjesyaqWzR",
    "outputId": "89205d6b-8e2b-41e4-8e8b-97d8377674ed"
   },
   "outputs": [
    {
     "name": "stderr",
     "output_type": "stream",
     "text": [
      "[nltk_data] Downloading package stopwords to C:\\Users\\Deepika\n",
      "[nltk_data]     Sainju\\AppData\\Roaming\\nltk_data...\n",
      "[nltk_data]   Package stopwords is already up-to-date!\n"
     ]
    },
    {
     "data": {
      "text/plain": [
       "['i',\n",
       " 'me',\n",
       " 'my',\n",
       " 'myself',\n",
       " 'we',\n",
       " 'our',\n",
       " 'ours',\n",
       " 'ourselves',\n",
       " 'you',\n",
       " \"you're\",\n",
       " \"you've\",\n",
       " \"you'll\",\n",
       " \"you'd\",\n",
       " 'your',\n",
       " 'yours',\n",
       " 'yourself',\n",
       " 'yourselves',\n",
       " 'he',\n",
       " 'him',\n",
       " 'his',\n",
       " 'himself',\n",
       " 'she',\n",
       " \"she's\",\n",
       " 'her',\n",
       " 'hers',\n",
       " 'herself',\n",
       " 'it',\n",
       " \"it's\",\n",
       " 'its',\n",
       " 'itself',\n",
       " 'they',\n",
       " 'them',\n",
       " 'their',\n",
       " 'theirs',\n",
       " 'themselves',\n",
       " 'what',\n",
       " 'which',\n",
       " 'who',\n",
       " 'whom',\n",
       " 'this',\n",
       " 'that',\n",
       " \"that'll\",\n",
       " 'these',\n",
       " 'those',\n",
       " 'am',\n",
       " 'is',\n",
       " 'are',\n",
       " 'was',\n",
       " 'were',\n",
       " 'be',\n",
       " 'been',\n",
       " 'being',\n",
       " 'have',\n",
       " 'has',\n",
       " 'had',\n",
       " 'having',\n",
       " 'do',\n",
       " 'does',\n",
       " 'did',\n",
       " 'doing',\n",
       " 'a',\n",
       " 'an',\n",
       " 'the',\n",
       " 'and',\n",
       " 'but',\n",
       " 'if',\n",
       " 'or',\n",
       " 'because',\n",
       " 'as',\n",
       " 'until',\n",
       " 'while',\n",
       " 'of',\n",
       " 'at',\n",
       " 'by',\n",
       " 'for',\n",
       " 'with',\n",
       " 'about',\n",
       " 'against',\n",
       " 'between',\n",
       " 'into',\n",
       " 'through',\n",
       " 'during',\n",
       " 'before',\n",
       " 'after',\n",
       " 'above',\n",
       " 'below',\n",
       " 'to',\n",
       " 'from',\n",
       " 'up',\n",
       " 'down',\n",
       " 'in',\n",
       " 'out',\n",
       " 'on',\n",
       " 'off',\n",
       " 'over',\n",
       " 'under',\n",
       " 'again',\n",
       " 'further',\n",
       " 'then',\n",
       " 'once',\n",
       " 'here',\n",
       " 'there',\n",
       " 'when',\n",
       " 'where',\n",
       " 'why',\n",
       " 'how',\n",
       " 'all',\n",
       " 'any',\n",
       " 'both',\n",
       " 'each',\n",
       " 'few',\n",
       " 'more',\n",
       " 'most',\n",
       " 'other',\n",
       " 'some',\n",
       " 'such',\n",
       " 'no',\n",
       " 'nor',\n",
       " 'not',\n",
       " 'only',\n",
       " 'own',\n",
       " 'same',\n",
       " 'so',\n",
       " 'than',\n",
       " 'too',\n",
       " 'very',\n",
       " 's',\n",
       " 't',\n",
       " 'can',\n",
       " 'will',\n",
       " 'just',\n",
       " 'don',\n",
       " \"don't\",\n",
       " 'should',\n",
       " \"should've\",\n",
       " 'now',\n",
       " 'd',\n",
       " 'll',\n",
       " 'm',\n",
       " 'o',\n",
       " 're',\n",
       " 've',\n",
       " 'y',\n",
       " 'ain',\n",
       " 'aren',\n",
       " \"aren't\",\n",
       " 'couldn',\n",
       " \"couldn't\",\n",
       " 'didn',\n",
       " \"didn't\",\n",
       " 'doesn',\n",
       " \"doesn't\",\n",
       " 'hadn',\n",
       " \"hadn't\",\n",
       " 'hasn',\n",
       " \"hasn't\",\n",
       " 'haven',\n",
       " \"haven't\",\n",
       " 'isn',\n",
       " \"isn't\",\n",
       " 'ma',\n",
       " 'mightn',\n",
       " \"mightn't\",\n",
       " 'mustn',\n",
       " \"mustn't\",\n",
       " 'needn',\n",
       " \"needn't\",\n",
       " 'shan',\n",
       " \"shan't\",\n",
       " 'shouldn',\n",
       " \"shouldn't\",\n",
       " 'wasn',\n",
       " \"wasn't\",\n",
       " 'weren',\n",
       " \"weren't\",\n",
       " 'won',\n",
       " \"won't\",\n",
       " 'wouldn',\n",
       " \"wouldn't\"]"
      ]
     },
     "execution_count": 21,
     "metadata": {},
     "output_type": "execute_result"
    }
   ],
   "source": [
    "import nltk\n",
    "from nltk.corpus import stopwords\n",
    "nltk.download('stopwords')\n",
    "stopwords.words('english')"
   ]
  },
  {
   "cell_type": "markdown",
   "id": "399bce99",
   "metadata": {
    "id": "vJIOXgeAlJ9o"
   },
   "source": [
    "Let's create the function to remove all punctuation, remove all stopwords and returns a list of the cleaned text"
   ]
  },
  {
   "cell_type": "code",
   "execution_count": 22,
   "id": "8c7e040e",
   "metadata": {
    "id": "ZTdnkVbAlJ9o"
   },
   "outputs": [],
   "source": [
    "def text_process(mess):\n",
    "    \"\"\"\n",
    "    Takes in a string of text, then performs the following:\n",
    "    1. Remove all punctuation\n",
    "    2. Remove all stopwords\n",
    "    3. Returns a list of the cleaned text\n",
    "    \"\"\"\n",
    "    # Check characters to see if they are in punctuation\n",
    "    nopunc = [char for char in mess if char not in string.punctuation]\n",
    "\n",
    "    # Join the characters again to form the string.\n",
    "    nopunc = ''.join(nopunc)\n",
    "    # Now just remove any stopwords\n",
    "    return [word for word in nopunc.split() if word.lower() not in stopwords.words('english')]"
   ]
  },
  {
   "cell_type": "markdown",
   "id": "1361c68e",
   "metadata": {
    "id": "k05L66PMlJ9o"
   },
   "source": [
    "**Vectorization**"
   ]
  },
  {
   "cell_type": "markdown",
   "id": "79596b83",
   "metadata": {
    "id": "-1B7AGdklJ9o"
   },
   "source": [
    "Now we have the messages as lists and we need to convert each of those messages into a vector that SciKit Learn's algorithm models can work with."
   ]
  },
  {
   "cell_type": "code",
   "execution_count": 23,
   "id": "d417fb80",
   "metadata": {
    "id": "dxsamQjflJ9p"
   },
   "outputs": [],
   "source": [
    "from sklearn.feature_extraction.text import CountVectorizer\n",
    "\n",
    "# vectorize= sequencial data ma change gareko news lai\n",
    "# CountVectorizer= words lai number ma change gareko"
   ]
  },
  {
   "cell_type": "code",
   "execution_count": 24,
   "id": "e9c30899",
   "metadata": {
    "colab": {
     "base_uri": "https://localhost:8080/",
     "height": 74
    },
    "id": "NnxcOLmhlJ9p",
    "outputId": "10958218-816d-4dcb-e165-2280ac72e72f"
   },
   "outputs": [
    {
     "data": {
      "text/html": [
       "<style>#sk-container-id-1 {color: black;}#sk-container-id-1 pre{padding: 0;}#sk-container-id-1 div.sk-toggleable {background-color: white;}#sk-container-id-1 label.sk-toggleable__label {cursor: pointer;display: block;width: 100%;margin-bottom: 0;padding: 0.3em;box-sizing: border-box;text-align: center;}#sk-container-id-1 label.sk-toggleable__label-arrow:before {content: \"▸\";float: left;margin-right: 0.25em;color: #696969;}#sk-container-id-1 label.sk-toggleable__label-arrow:hover:before {color: black;}#sk-container-id-1 div.sk-estimator:hover label.sk-toggleable__label-arrow:before {color: black;}#sk-container-id-1 div.sk-toggleable__content {max-height: 0;max-width: 0;overflow: hidden;text-align: left;background-color: #f0f8ff;}#sk-container-id-1 div.sk-toggleable__content pre {margin: 0.2em;color: black;border-radius: 0.25em;background-color: #f0f8ff;}#sk-container-id-1 input.sk-toggleable__control:checked~div.sk-toggleable__content {max-height: 200px;max-width: 100%;overflow: auto;}#sk-container-id-1 input.sk-toggleable__control:checked~label.sk-toggleable__label-arrow:before {content: \"▾\";}#sk-container-id-1 div.sk-estimator input.sk-toggleable__control:checked~label.sk-toggleable__label {background-color: #d4ebff;}#sk-container-id-1 div.sk-label input.sk-toggleable__control:checked~label.sk-toggleable__label {background-color: #d4ebff;}#sk-container-id-1 input.sk-hidden--visually {border: 0;clip: rect(1px 1px 1px 1px);clip: rect(1px, 1px, 1px, 1px);height: 1px;margin: -1px;overflow: hidden;padding: 0;position: absolute;width: 1px;}#sk-container-id-1 div.sk-estimator {font-family: monospace;background-color: #f0f8ff;border: 1px dotted black;border-radius: 0.25em;box-sizing: border-box;margin-bottom: 0.5em;}#sk-container-id-1 div.sk-estimator:hover {background-color: #d4ebff;}#sk-container-id-1 div.sk-parallel-item::after {content: \"\";width: 100%;border-bottom: 1px solid gray;flex-grow: 1;}#sk-container-id-1 div.sk-label:hover label.sk-toggleable__label {background-color: #d4ebff;}#sk-container-id-1 div.sk-serial::before {content: \"\";position: absolute;border-left: 1px solid gray;box-sizing: border-box;top: 0;bottom: 0;left: 50%;z-index: 0;}#sk-container-id-1 div.sk-serial {display: flex;flex-direction: column;align-items: center;background-color: white;padding-right: 0.2em;padding-left: 0.2em;position: relative;}#sk-container-id-1 div.sk-item {position: relative;z-index: 1;}#sk-container-id-1 div.sk-parallel {display: flex;align-items: stretch;justify-content: center;background-color: white;position: relative;}#sk-container-id-1 div.sk-item::before, #sk-container-id-1 div.sk-parallel-item::before {content: \"\";position: absolute;border-left: 1px solid gray;box-sizing: border-box;top: 0;bottom: 0;left: 50%;z-index: -1;}#sk-container-id-1 div.sk-parallel-item {display: flex;flex-direction: column;z-index: 1;position: relative;background-color: white;}#sk-container-id-1 div.sk-parallel-item:first-child::after {align-self: flex-end;width: 50%;}#sk-container-id-1 div.sk-parallel-item:last-child::after {align-self: flex-start;width: 50%;}#sk-container-id-1 div.sk-parallel-item:only-child::after {width: 0;}#sk-container-id-1 div.sk-dashed-wrapped {border: 1px dashed gray;margin: 0 0.4em 0.5em 0.4em;box-sizing: border-box;padding-bottom: 0.4em;background-color: white;}#sk-container-id-1 div.sk-label label {font-family: monospace;font-weight: bold;display: inline-block;line-height: 1.2em;}#sk-container-id-1 div.sk-label-container {text-align: center;}#sk-container-id-1 div.sk-container {/* jupyter's `normalize.less` sets `[hidden] { display: none; }` but bootstrap.min.css set `[hidden] { display: none !important; }` so we also need the `!important` here to be able to override the default hidden behavior on the sphinx rendered scikit-learn.org. See: https://github.com/scikit-learn/scikit-learn/issues/21755 */display: inline-block !important;position: relative;}#sk-container-id-1 div.sk-text-repr-fallback {display: none;}</style><div id=\"sk-container-id-1\" class=\"sk-top-container\"><div class=\"sk-text-repr-fallback\"><pre>CountVectorizer(analyzer=&lt;function text_process at 0x000001CAF1DDBD80&gt;)</pre><b>In a Jupyter environment, please rerun this cell to show the HTML representation or trust the notebook. <br />On GitHub, the HTML representation is unable to render, please try loading this page with nbviewer.org.</b></div><div class=\"sk-container\" hidden><div class=\"sk-item\"><div class=\"sk-estimator sk-toggleable\"><input class=\"sk-toggleable__control sk-hidden--visually\" id=\"sk-estimator-id-1\" type=\"checkbox\" checked><label for=\"sk-estimator-id-1\" class=\"sk-toggleable__label sk-toggleable__label-arrow\">CountVectorizer</label><div class=\"sk-toggleable__content\"><pre>CountVectorizer(analyzer=&lt;function text_process at 0x000001CAF1DDBD80&gt;)</pre></div></div></div></div></div>"
      ],
      "text/plain": [
       "CountVectorizer(analyzer=<function text_process at 0x000001CAF1DDBD80>)"
      ]
     },
     "execution_count": 24,
     "metadata": {},
     "output_type": "execute_result"
    }
   ],
   "source": [
    "bow_transformer = CountVectorizer(analyzer=text_process).fit(df['clean_text'])\n",
    "bow_transformer\n",
    "\n",
    "# df['text'] mathi function ma argument ko roup ma gayera punctuation ra stopwords hatayera vectorize hunxa"
   ]
  },
  {
   "cell_type": "code",
   "execution_count": 25,
   "id": "3eb25921",
   "metadata": {
    "colab": {
     "base_uri": "https://localhost:8080/"
    },
    "id": "gYv-tSvrw-NC",
    "outputId": "252ac00e-6523-4311-b8ca-017900cac6b4"
   },
   "outputs": [
    {
     "data": {
      "text/plain": [
       "{'modi': 63829,\n",
       " 'promised': 78640,\n",
       " '“minimum': 111607,\n",
       " 'government': 41385,\n",
       " 'maximum': 61601,\n",
       " 'governance”': 41367,\n",
       " 'expected': 35402,\n",
       " 'begin': 13913,\n",
       " 'difficult': 29938,\n",
       " 'job': 52450,\n",
       " 'reforming': 82225,\n",
       " 'state': 93145,\n",
       " 'take': 95936,\n",
       " 'years': 107891,\n",
       " 'get': 40229,\n",
       " 'justice': 53097,\n",
       " 'business': 18238,\n",
       " 'exit': 35337,\n",
       " 'psus': 79267,\n",
       " 'temples': 96907,\n",
       " 'talk': 96035,\n",
       " 'nonsense': 69363,\n",
       " 'continue': 24610,\n",
       " 'drama': 31680,\n",
       " 'vote': 104646,\n",
       " 'say': 86873,\n",
       " 'welcome': 105833,\n",
       " 'bjp': 15942,\n",
       " 'told': 99363,\n",
       " 'rahul': 80486,\n",
       " 'main': 59922,\n",
       " 'campaigner': 18706,\n",
       " 'think': 98187,\n",
       " 'relax': 82555,\n",
       " 'asking': 10563,\n",
       " 'supporters': 94946,\n",
       " 'prefix': 77733,\n",
       " 'chowkidar': 21631,\n",
       " 'names': 67125,\n",
       " 'great': 41936,\n",
       " 'service': 88560,\n",
       " 'confusion': 23846,\n",
       " 'read': 81615,\n",
       " 'crustal': 26287,\n",
       " 'clear': 22318,\n",
       " 'crass': 25715,\n",
       " 'filthy': 37323,\n",
       " 'nonsensical': 69376,\n",
       " 'see': 88023,\n",
       " 'abuses': 5331,\n",
       " 'coming': 23033,\n",
       " 'chowkidars': 21690,\n",
       " 'answer': 8905,\n",
       " 'among': 8269,\n",
       " 'powerful': 77239,\n",
       " 'world': 107142,\n",
       " 'leader': 56920,\n",
       " 'today': 99196,\n",
       " 'trump': 100412,\n",
       " 'putin': 79749,\n",
       " 'may': 61606,\n",
       " 'kiya': 55271,\n",
       " 'tho': 98392,\n",
       " 'refresh': 82240,\n",
       " 'maarkefir': 59299,\n",
       " 'comment': 23082,\n",
       " 'karo': 53917,\n",
       " 'surat': 95082,\n",
       " 'women': 106865,\n",
       " 'perform': 74489,\n",
       " 'yagna': 107701,\n",
       " 'seeks': 88065,\n",
       " 'divine': 30894,\n",
       " 'grace': 41779,\n",
       " 'narendra': 67334,\n",
       " 'become': 13776,\n",
       " 'comes': 22994,\n",
       " 'cabinet': 18488,\n",
       " 'scholars': 87303,\n",
       " 'like': 57795,\n",
       " 'smriti': 91275,\n",
       " 'hema': 44533,\n",
       " 'time': 98833,\n",
       " 'introspect': 49808,\n",
       " 'upcoming': 102481,\n",
       " 'election': 33178,\n",
       " 'india': 48072,\n",
       " 'saga': 85565,\n",
       " 'going': 41023,\n",
       " 'important': 47546,\n",
       " 'pair': 72491,\n",
       " 'look': 58559,\n",
       " 'current': 26484,\n",
       " 'leads': 57064,\n",
       " 'govt': 41526,\n",
       " 'elected': 33161,\n",
       " 'deal': 27405,\n",
       " 'brexit': 17471,\n",
       " 'combination': 22943,\n",
       " 'weekly': 105787,\n",
       " 'looks': 58571,\n",
       " 'juicy': 52903,\n",
       " 'bears': 13660,\n",
       " 'imho': 47368,\n",
       " 'gandhi': 39462,\n",
       " 'gay': 39932,\n",
       " 'things': 98143,\n",
       " 'demonetisation': 28432,\n",
       " 'gst': 42215,\n",
       " 'goods': 41154,\n",
       " 'services': 88566,\n",
       " 'tax…the': 96485,\n",
       " 'upper': 102578,\n",
       " 'castes': 19275,\n",
       " 'would': 107311,\n",
       " 'sort': 91989,\n",
       " 'either': 33074,\n",
       " 'view': 104030,\n",
       " 'favourably': 36702,\n",
       " 'need': 68042,\n",
       " 'give': 40657,\n",
       " 'dalits': 26838,\n",
       " 'muslims': 66553,\n",
       " 'that’': 97619,\n",
       " 'modi’': 64850,\n",
       " 'constituency2': 24407,\n",
       " 'hope': 45927,\n",
       " 'tuthukudi': 100769,\n",
       " 'people': 74305,\n",
       " 'prefer': 77718,\n",
       " 'honest': 45796,\n",
       " 'well': 105849,\n",
       " 'behaved': 13954,\n",
       " 'nationalist': 67547,\n",
       " 'courageous': 25493,\n",
       " 'likly': 57868,\n",
       " 'minister': 62967,\n",
       " 'benifit': 14260,\n",
       " 'thuthukudi': 98715,\n",
       " 'calm': 18639,\n",
       " 'waters': 105486,\n",
       " 'wheres': 106123,\n",
       " 'wave': 105516,\n",
       " 'one': 70820,\n",
       " 'make': 60042,\n",
       " 'difference': 29887,\n",
       " 'anil': 8669,\n",
       " 'kapoor': 53725,\n",
       " 'answers': 8920,\n",
       " 'modis': 64574,\n",
       " '2019': 1704,\n",
       " 'clarion': 22230,\n",
       " 'call': 18608,\n",
       " 'extends': 35618,\n",
       " 'support': 94919,\n",
       " 'kar': 53737,\n",
       " 'campaign': 18700,\n",
       " 'party': 73463,\n",
       " 'leadershipwho': 56998,\n",
       " 'fast': 36551,\n",
       " 'firm': 37452,\n",
       " 'action': 5871,\n",
       " 'none': 69272,\n",
       " 'damodardas': 26917,\n",
       " 'created': 25759,\n",
       " 'jobs': 52493,\n",
       " 'ensure': 34137,\n",
       " 'deserve': 28869,\n",
       " 'anupam': 9301,\n",
       " 'kher': 54780,\n",
       " 'responds': 83387,\n",
       " 'appeal': 9583,\n",
       " 'elections': 33242,\n",
       " 'dont': 31355,\n",
       " 'play': 75641,\n",
       " 'words': 106973,\n",
       " 'talking': 96047,\n",
       " 'swamy': 95460,\n",
       " 'relation': 82529,\n",
       " 'guru': 42566,\n",
       " 'saying': 86904,\n",
       " 'good': 41112,\n",
       " 'protecting': 79015,\n",
       " 'mind': 62868,\n",
       " 'tweeted': 100849,\n",
       " 'dark': 27050,\n",
       " 'side': 90144,\n",
       " 'terrorism': 97120,\n",
       " 'brighter': 17531,\n",
       " 'better': 14439,\n",
       " 'know': 55368,\n",
       " 'didn’': 29836,\n",
       " 'write': 107398,\n",
       " 'mean': 61794,\n",
       " '’': 111037,\n",
       " 'anti': 8974,\n",
       " 'try': 100488,\n",
       " 'visit': 104432,\n",
       " 'plz': 75844,\n",
       " 'haven’': 44091,\n",
       " 'used': 102794,\n",
       " 'recently': 81865,\n",
       " 'said': 85651,\n",
       " 'national': 67520,\n",
       " 'put': 79747,\n",
       " 'gen': 40075,\n",
       " 'hooda': 45872,\n",
       " 'congress': 24008,\n",
       " 'jawans': 51511,\n",
       " 'hear': 44272,\n",
       " 'belief': 14071,\n",
       " 'leadership': 56967,\n",
       " 'shri': 89913,\n",
       " 'entering': 34158,\n",
       " 'politics': 76470,\n",
       " 'given': 40666,\n",
       " 'form': 38260,\n",
       " 'file': 37259,\n",
       " 'nomination': 69213,\n",
       " 'khammam': 54596,\n",
       " 'parliamentary': 73286,\n",
       " 'seat': 87725,\n",
       " 'proceeding': 78337,\n",
       " 'crush': 26282,\n",
       " 'jaws': 51528,\n",
       " 'shoutmodimodi': 89801,\n",
       " 'says': 86935,\n",
       " 'jds': 51624,\n",
       " 'mla': 63626,\n",
       " 'inciting': 47847,\n",
       " 'murder': 66418,\n",
       " 'sultanpur': 94645,\n",
       " 'uttar': 103008,\n",
       " 'pradesh': 77434,\n",
       " 'loksabha': 58419,\n",
       " 'candidate': 18823,\n",
       " 'select': 88164,\n",
       " 'pawan': 73917,\n",
       " 'kumar': 55841,\n",
       " 'pandey': 72866,\n",
       " 'actually': 5963,\n",
       " 'public': 79337,\n",
       " 'want': 105200,\n",
       " 'condidate': 23667,\n",
       " 'popular': 76832,\n",
       " 'district': 30795,\n",
       " 'bsp': 17785,\n",
       " 'sonbhadra': 91781,\n",
       " 'singh': 90429,\n",
       " 'thiugh': 98370,\n",
       " 'nehru': 68203,\n",
       " 'alive': 7546,\n",
       " 'still': 93462,\n",
       " 'heart': 44289,\n",
       " 'every': 34846,\n",
       " 'failure': 35990,\n",
       " 'responsible': 83416,\n",
       " 'development': 29246,\n",
       " 'mass': 61279,\n",
       " 'movement': 65651,\n",
       " 'economic': 32722,\n",
       " 'social': 91465,\n",
       " 'political': 76397,\n",
       " 'empowerment': 33773,\n",
       " 'life': 57709,\n",
       " 'witnessed': 106769,\n",
       " 'positive': 76975,\n",
       " 'paradigm': 73092,\n",
       " 'shift': 89437,\n",
       " 'new': 68509,\n",
       " 'already': 7842,\n",
       " 'taken': 95941,\n",
       " 'notice': 69611,\n",
       " 'ordered': 71475,\n",
       " 'probe': 78265,\n",
       " 'muslim': 66531,\n",
       " 'family': 36220,\n",
       " 'harassed': 43620,\n",
       " 'beaten': 13673,\n",
       " 'extremist': 35703,\n",
       " 'hindus': 45206,\n",
       " 'suggested': 94532,\n",
       " 'leave': 57143,\n",
       " 'move': 65645,\n",
       " 'pakistan': 72581,\n",
       " 'waiting': 105056,\n",
       " 'also': 7860,\n",
       " 'varanasi': 103428,\n",
       " 'according': 5483,\n",
       " 'yogi': 108262,\n",
       " 'imran': 47649,\n",
       " 'masood': 61263,\n",
       " 'kin': 55094,\n",
       " 'azhar': 11743,\n",
       " 'logic': 58337,\n",
       " 'nirav': 68922,\n",
       " 'lalit': 56384,\n",
       " 'brothers': 17696,\n",
       " 'mother': 65505,\n",
       " 'agree': 6926,\n",
       " 'tenure': 96975,\n",
       " 'modiganga': 64128,\n",
       " 'rejuvenation': 82511,\n",
       " 'works': 107106,\n",
       " 'started': 93097,\n",
       " 'working': 107066,\n",
       " 'three': 98535,\n",
       " 'codes': 22699,\n",
       " 'cracked': 25674,\n",
       " 'huge': 46326,\n",
       " 'foreign': 38155,\n",
       " 'policy': 76355,\n",
       " 'jumpstart': 53030,\n",
       " 'via': 103874,\n",
       " 'govts': 41672,\n",
       " 'slashing': 90943,\n",
       " 'indias': 48398,\n",
       " 'education': 32894,\n",
       " 'budget': 17893,\n",
       " 'indicator': 48525,\n",
       " 'care': 19081,\n",
       " 'future': 39120,\n",
       " 'president': 77886,\n",
       " 'hand': 43331,\n",
       " 'ensured': 34138,\n",
       " 'increase': 47945,\n",
       " 'gdp': 40006,\n",
       " 'deserves': 28876,\n",
       " 'born': 17039,\n",
       " 'religion': 82630,\n",
       " 'female': 37001,\n",
       " 'deities': 28092,\n",
       " 'worshipped': 107266,\n",
       " 'misogynistic': 63340,\n",
       " 'sadistic': 85477,\n",
       " 'tradition': 99819,\n",
       " 'totally': 99656,\n",
       " 'point': 76203,\n",
       " 'isits': 50174,\n",
       " 'man': 60376,\n",
       " 'made': 59442,\n",
       " 'written': 107420,\n",
       " 'religious': 82654,\n",
       " 'lunatic': 59016,\n",
       " 'repressive': 83079,\n",
       " 'amazedn': 8012,\n",
       " 'fear': 36781,\n",
       " 'frustation': 38820,\n",
       " 'result': 83489,\n",
       " 'sir': 90525,\n",
       " 'waste': 105393,\n",
       " 'ministerdisgrace': 62982,\n",
       " 'entire': 34206,\n",
       " 'check': 20648,\n",
       " 'latest': 56653,\n",
       " 'article': 10263,\n",
       " 'premier': 77771,\n",
       " 'archery': 9891,\n",
       " 'league': 57073,\n",
       " 'second': 87841,\n",
       " 'optimistic': 71389,\n",
       " 'globally': 40769,\n",
       " 'executive': 35250,\n",
       " 'growth': 42147,\n",
       " 'shows': 89861,\n",
       " 'survey': 95257,\n",
       " 'senior': 88360,\n",
       " 'executives': 35251,\n",
       " 'number': 69971,\n",
       " 'roles': 84413,\n",
       " 'year': 107853,\n",
       " 'wish': 106667,\n",
       " 'vision': 104394,\n",
       " 'least': 57136,\n",
       " 'interested': 49570,\n",
       " 'personal': 74647,\n",
       " 'enmity': 34070,\n",
       " 'others': 71671,\n",
       " 'problem': 78276,\n",
       " 'handle': 43360,\n",
       " 'personally': 74664,\n",
       " 'expect': 35389,\n",
       " 'nation': 67513,\n",
       " 'join': 52599,\n",
       " 'dirty': 30280,\n",
       " 'fight': 37208,\n",
       " 'tell': 96853,\n",
       " 'eternal': 34661,\n",
       " 'wrong': 107432,\n",
       " 'dear': 27431,\n",
       " 'sirji': 90594,\n",
       " 'perfectly': 74480,\n",
       " 'fine': 37381,\n",
       " 'indian': 48239,\n",
       " 'impressive': 47602,\n",
       " 'godrej': 40964,\n",
       " 'tata': 96372,\n",
       " 'complimenting': 23481,\n",
       " 'hoping': 45953,\n",
       " 'gets': 40247,\n",
       " 'term': 97010,\n",
       " 'maid': 59903,\n",
       " 'keeps': 54310,\n",
       " 'kalla': 53469,\n",
       " 'yet': 108199,\n",
       " 'goes': 40990,\n",
       " 'hugs': 46349,\n",
       " 'winks': 106558,\n",
       " 'magand': 59587,\n",
       " 'idu': 47012,\n",
       " 'bekagittu': 14043,\n",
       " 'please': 75691,\n",
       " 'trying': 100496,\n",
       " 'divide': 30880,\n",
       " 'yes': 108112,\n",
       " 'highly': 44836,\n",
       " 'insensitivearrogant': 49203,\n",
       " 'incompetent': 47907,\n",
       " 'ploar': 75762,\n",
       " 'needs': 68071,\n",
       " 'defeated': 27875,\n",
       " 'costnobody': 25197,\n",
       " 'knows': 55419,\n",
       " 'arrogant': 10218,\n",
       " 'person': 74644,\n",
       " 'gave': 39918,\n",
       " 'tickethe': 98747,\n",
       " 'touch': 99683,\n",
       " 'grounddespite': 42079,\n",
       " '3months': 3042,\n",
       " 'upsc': 102604,\n",
       " 'protests': 79045,\n",
       " 'nvr': 70041,\n",
       " 'met': 62436,\n",
       " '2014': 1536,\n",
       " 'hindustan': 45242,\n",
       " 'seen': 88089,\n",
       " 'worst': 107272,\n",
       " 'maj': 59964,\n",
       " 'hindu': 45152,\n",
       " 'rashtra': 81289,\n",
       " 'thrashed': 98500,\n",
       " 'rascal': 81271,\n",
       " 'faces': 35821,\n",
       " 'politiciansantinationals': 76434,\n",
       " 'urban': 102657,\n",
       " 'naxals': 67853,\n",
       " 'wait': 105049,\n",
       " 'watch': 105428,\n",
       " 'win': 106493,\n",
       " 'mein': 62149,\n",
       " 'bhi': 15223,\n",
       " 'hona': 45778,\n",
       " 'garv': 39786,\n",
       " 'baat': 11822,\n",
       " 'hogi✌': 45626,\n",
       " 'higher': 44807,\n",
       " 'voting': 104792,\n",
       " 'turnout': 100745,\n",
       " 'directly': 30237,\n",
       " 'proportional': 78919,\n",
       " 'victory': 103944,\n",
       " 'wonder': 106902,\n",
       " 'launched': 56731,\n",
       " 'campaigns': 18738,\n",
       " 'sit': 90692,\n",
       " 'home': 45715,\n",
       " 'everyone': 34867,\n",
       " 'friends': 38664,\n",
       " 'relatives': 82547,\n",
       " 'votes': 104728,\n",
       " 'never': 68496,\n",
       " 'done': 31292,\n",
       " 'remarkable': 82708,\n",
       " 'making': 60071,\n",
       " 'corruption': 25073,\n",
       " 'free': 38547,\n",
       " 'ultimate': 101299,\n",
       " 'success': 94343,\n",
       " 'shall': 88967,\n",
       " 'achieved': 5657,\n",
       " 'corrupt': 25054,\n",
       " 'jailed': 51009,\n",
       " 'corruptionfree': 25083,\n",
       " 'ensuring': 34142,\n",
       " 'looted': 58633,\n",
       " 'country': 25324,\n",
       " 'facing': 35855,\n",
       " 'law': 56788,\n",
       " 'namo': 67156,\n",
       " 'app': 9565,\n",
       " 'use': 102791,\n",
       " 'beg': 13884,\n",
       " 'welfare': 105843,\n",
       " 'delivery': 28260,\n",
       " 'ibc': 46798,\n",
       " 'feo': 37023,\n",
       " 'place': 75505,\n",
       " '2nd': 2502,\n",
       " 'money': 65080,\n",
       " 'appoint': 9651,\n",
       " 'judges': 52864,\n",
       " 'police': 76317,\n",
       " 'forensic': 38164,\n",
       " 'labs': 56081,\n",
       " 'fasttrack': 36573,\n",
       " 'healthcare': 44250,\n",
       " 'citizens': 22096,\n",
       " 'invest': 49874,\n",
       " 'defence': 27909,\n",
       " 'build': 17962,\n",
       " 'leaders': 56956,\n",
       " 'live': 58092,\n",
       " 'deplorable': 28703,\n",
       " 'characters': 20340,\n",
       " 'overpromise': 72026,\n",
       " 'underdelivery': 101576,\n",
       " '–': 110260,\n",
       " 'pithy': 75444,\n",
       " 'summary': 94672,\n",
       " 'outcome': 71773,\n",
       " 'last': 56607,\n",
       " 'five': 37548,\n",
       " 'approach': 9719,\n",
       " 'general': 40088,\n",
       " 'ौीाोै': 109742,\n",
       " 'healing': 44243,\n",
       " 'surgery': 95148,\n",
       " 'remove': 82810,\n",
       " 'cancer': 18808,\n",
       " 'spread': 92660,\n",
       " 'rss': 84819,\n",
       " 'farmers’': 36450,\n",
       " '474': 3297,\n",
       " 'farmers': 36415,\n",
       " 'installment': 49289,\n",
       " 'next': 68644,\n",
       " 'month': 65233,\n",
       " 'centre': 19597,\n",
       " 'announced': 8783,\n",
       " '75000crore': 4209,\n",
       " 'scheme': 87221,\n",
       " 'mistry': 63510,\n",
       " 'drag': 31661,\n",
       " 'nri': 69869,\n",
       " 'followers': 37909,\n",
       " 'spreading': 92666,\n",
       " 'hatred': 44026,\n",
       " 'don’': 31371,\n",
       " 'agenda': 6765,\n",
       " 'condemning': 23661,\n",
       " 'criminal': 25950,\n",
       " 'activities': 5913,\n",
       " 'fyi': 39166,\n",
       " 'forgot': 38240,\n",
       " 'dollar': 31225,\n",
       " 'handled': 43362,\n",
       " 'exceptionally': 35144,\n",
       " 'diplomatic': 30201,\n",
       " 'shrewdness': 89905,\n",
       " 'achievement': 5667,\n",
       " 'always': 7953,\n",
       " 'undermine': 101601,\n",
       " 'prone': 78748,\n",
       " 'criticise': 26015,\n",
       " 'even': 34784,\n",
       " 'without': 106751,\n",
       " 'considering': 24332,\n",
       " 'aspects': 10600,\n",
       " 'entrepreneurs': 34234,\n",
       " 'rising': 84146,\n",
       " 'system': 95758,\n",
       " 'took': 99501,\n",
       " 'tax': 96430,\n",
       " 'concerns': 23600,\n",
       " 'infra': 48892,\n",
       " 'incubate': 47976,\n",
       " 'happened': 43484,\n",
       " 'guys': 42662,\n",
       " 'power': 77206,\n",
       " 'shit': 89518,\n",
       " 'simple': 90346,\n",
       " 'nothing': 69578,\n",
       " 'else': 33512,\n",
       " 'phobia': 75007,\n",
       " 'itna': 50600,\n",
       " 'fark': 36406,\n",
       " 'efforts': 32991,\n",
       " 'governance': 41355,\n",
       " 'reforms': 82228,\n",
       " 'institutionalise': 49341,\n",
       " 'honesty': 45813,\n",
       " 'way': 105563,\n",
       " 'institution': 49339,\n",
       " 'designed': 28954,\n",
       " 'inculcate': 47980,\n",
       " 'inspire': 49269,\n",
       " 'jai': 50988,\n",
       " 'hind': 45100,\n",
       " 'muje': 66171,\n",
       " 'puri': 79647,\n",
       " 'bharat': 14978,\n",
       " 'janta': 51337,\n",
       " 'par': 73081,\n",
       " 'vishwas': 104377,\n",
       " 'hai': 42992,\n",
       " 'aap': 4820,\n",
       " 'hamre': 43324,\n",
       " 'prime': 78081,\n",
       " 'honge': 45822,\n",
       " 'must': 66604,\n",
       " 'anchor': 8471,\n",
       " 'canvas': 18922,\n",
       " 'fit': 37534,\n",
       " 'journalism': 52761,\n",
       " 'slams': 90928,\n",
       " 'makers': 60057,\n",
       " 'biopic': 15769,\n",
       " 'deliberately': 28215,\n",
       " 'using': 102842,\n",
       " 'name': 67099,\n",
       " 'credit': 25809,\n",
       " 'channels': 20259,\n",
       " 'scared': 87138,\n",
       " 'contests': 24581,\n",
       " 'two': 100963,\n",
       " 'seats': 87761,\n",
       " 'propoganda': 78901,\n",
       " 'little': 58087,\n",
       " 'decency': 27601,\n",
       " 'century': 19627,\n",
       " 'yuva': 108725,\n",
       " 'shakti': 88912,\n",
       " 'heights': 44434,\n",
       " 'stands': 93048,\n",
       " 'firmly': 37454,\n",
       " '100': 99,\n",
       " 'sure': 95088,\n",
       " 'inform': 48865,\n",
       " 'record': 81977,\n",
       " 'numbers': 69976,\n",
       " 'thanks': 97462,\n",
       " 'loose': 58609,\n",
       " 'existance': 35321,\n",
       " 'rafel': 80319,\n",
       " 'scam': 87031,\n",
       " 'nature': 67736,\n",
       " 'except': 35140,\n",
       " 'scammer': 87061,\n",
       " 'nautanki': 67770,\n",
       " 'baj': 12437,\n",
       " '‘concierge’': 110412,\n",
       " 'super': 94799,\n",
       " 'rich': 83888,\n",
       " 'makes': 60062,\n",
       " 'unusual': 102361,\n",
       " 'sight': 90208,\n",
       " 'hearing': 44280,\n",
       " 'confused': 23833,\n",
       " 'intellectuals': 49471,\n",
       " 'decide': 27625,\n",
       " 'policies': 76330,\n",
       " 'question': 79971,\n",
       " 'sided': 90150,\n",
       " 'similarly': 90333,\n",
       " 'there’': 97967,\n",
       " 'who’': 106296,\n",
       " 'disagree': 30292,\n",
       " 'where’': 106128,\n",
       " 'deciding': 27635,\n",
       " 'anything': 9378,\n",
       " 'asked': 10550,\n",
       " 'learn': 57107,\n",
       " 'treat': 100097,\n",
       " 'minority': 63101,\n",
       " 'minor': 63077,\n",
       " 'cheating': 20636,\n",
       " 'promises': 78659,\n",
       " 'impacted': 47431,\n",
       " 'lot': 58747,\n",
       " 'economy': 32767,\n",
       " 'brotherhood': 17687,\n",
       " 'could': 25237,\n",
       " 'throw': 98589,\n",
       " 'light': 57769,\n",
       " 'behind': 13984,\n",
       " 'tweet': 100838,\n",
       " 'bjpnda': 16086,\n",
       " 'lose': 58698,\n",
       " 'fights': 37223,\n",
       " 'bengaluru': 14242,\n",
       " 'south': 92067,\n",
       " 'opposition': 71264,\n",
       " 'intent': 49520,\n",
       " 'understand': 101631,\n",
       " 'failing': 35979,\n",
       " 'attempt': 11095,\n",
       " 'telling': 96859,\n",
       " 'come': 22957,\n",
       " 'opponents': 71213,\n",
       " 'generally': 40100,\n",
       " 'selfish': 88237,\n",
       " 'idiots': 46969,\n",
       " 'keep': 54303,\n",
       " 'attacking': 11059,\n",
       " 'skill': 90846,\n",
       " '3040': 2665,\n",
       " 'yrs': 108618,\n",
       " 'oppo': 71202,\n",
       " 'rule': 84969,\n",
       " 'wonders': 106915,\n",
       " 'stupid': 94083,\n",
       " 'dishonest': 30526,\n",
       " 'pit': 75432,\n",
       " 'pictures': 75203,\n",
       " 'videos': 103976,\n",
       " 'crime': 25938,\n",
       " 'coz': 25638,\n",
       " 'ppl': 77343,\n",
       " 'storm': 93601,\n",
       " 'terror': 97105,\n",
       " 'appeals': 9588,\n",
       " 'tweetstorm': 100887,\n",
       " 'khans': 54662,\n",
       " 'killed': 55041,\n",
       " 'paid': 72445,\n",
       " 'loan': 58225,\n",
       " 'named': 67110,\n",
       " 'vijay': 104093,\n",
       " 'maalya': 59248,\n",
       " 'whose': 106278,\n",
       " 'list': 58010,\n",
       " 'doesnt': 31106,\n",
       " 'false': 36165,\n",
       " 'delivered': 28248,\n",
       " 'whatever': 106031,\n",
       " 'track': 99784,\n",
       " 'count': 25267,\n",
       " 'kitna': 55253,\n",
       " 'jalte': 51167,\n",
       " 'tum': 100643,\n",
       " 'jealousy': 51645,\n",
       " 'towards': 99733,\n",
       " 'together': 99294,\n",
       " 'tbfree': 96502,\n",
       " '2025': 1832,\n",
       " 'ever': 34808,\n",
       " 'rgis': 83821,\n",
       " 'length': 57343,\n",
       " 'breadth': 17400,\n",
       " 'reception': 81871,\n",
       " 'masses': 61297,\n",
       " 'love': 58806,\n",
       " 'match': 61395,\n",
       " 'mad': 59377,\n",
       " 'sandip': 86131,\n",
       " 'sense': 88378,\n",
       " 'javed': 51478,\n",
       " 'akhtar': 7368,\n",
       " 'called': 18613,\n",
       " 'producer': 78399,\n",
       " 'ssingh': 92879,\n",
       " 'row': 84567,\n",
       " 'entertainment': 34174,\n",
       " 'news': 68536,\n",
       " 'express': 35579,\n",
       " 'porn': 76898,\n",
       " 'sites': 90716,\n",
       " 'banned': 13008,\n",
       " 'eat': 32624,\n",
       " 'beef': 13818,\n",
       " 'biryani': 15836,\n",
       " 'sleep': 90988,\n",
       " 'asaduddin': 10351,\n",
       " 'owaisi': 72125,\n",
       " 'voted': 104668,\n",
       " 'screwed': 87601,\n",
       " 'hate': 43920,\n",
       " 'ideology': 46913,\n",
       " 'propagated': 78830,\n",
       " 'weeks': 105790,\n",
       " 'majority': 60006,\n",
       " 'propagandas': 78816,\n",
       " 'media': 61886,\n",
       " 'fed': 36856,\n",
       " 'terrorists': 97167,\n",
       " 'bullets': 18032,\n",
       " 'bombs': 16869,\n",
       " 'adityanath': 6170,\n",
       " 'open': 71088,\n",
       " 'eyes': 35739,\n",
       " 'critic': 26009,\n",
       " 'cong': 23851,\n",
       " 'exculding': 35217,\n",
       " 'mongers': 65166,\n",
       " 'vast': 103523,\n",
       " 'indai': 48001,\n",
       " 'concern': 23592,\n",
       " 'security': 87964,\n",
       " 'praise': 77479,\n",
       " 'worthy': 107295,\n",
       " 'autocratic': 11342,\n",
       " 'norm': 69448,\n",
       " 'denying': 28645,\n",
       " 'allegation': 7588,\n",
       " 'kimjong': 55088,\n",
       " 'painful': 72469,\n",
       " 'sorrowful': 91979,\n",
       " 'regards': 82284,\n",
       " 'requesting': 83148,\n",
       " 'stop': 93563,\n",
       " 'giving': 40693,\n",
       " 'favor': 36690,\n",
       " 'big': 15509,\n",
       " 'malya': 60276,\n",
       " 'nivav': 69037,\n",
       " 'taking': 95974,\n",
       " 'nonscene': 69359,\n",
       " 'charges': 20364,\n",
       " 'face': 35797,\n",
       " 'doesn’': 31111,\n",
       " 'haunt': 44067,\n",
       " 'condemn': 23656,\n",
       " 'abduction': 5040,\n",
       " 'girls': 40628,\n",
       " 'they’': 98053,\n",
       " 'wel': 105829,\n",
       " 'recorded': 81982,\n",
       " 'message': 62394,\n",
       " 'unlike': 102078,\n",
       " 'treats': 100107,\n",
       " 'bank': 12941,\n",
       " 'sharam': 89126,\n",
       " 'karodesh': 53925,\n",
       " 'ghotale': 40463,\n",
       " 'bech': 13741,\n",
       " 'khaega': 54545,\n",
       " 'tumhara': 100660,\n",
       " 'youth': 108513,\n",
       " 'interest': 49568,\n",
       " 'issues': 50367,\n",
       " 'judge': 52857,\n",
       " 'right': 83970,\n",
       " 'forget': 38216,\n",
       " 'petrol': 74815,\n",
       " 'prices': 78041,\n",
       " 'risen': 84126,\n",
       " '₹': 112134,\n",
       " 'gulf': 42443,\n",
       " 'ाेशबचा': 109383,\n",
       " 'thought': 98460,\n",
       " 'petta': 74839,\n",
       " 'antibjp': 8990,\n",
       " 'movie': 65671,\n",
       " 'recent': 81864,\n",
       " 'times': 98929,\n",
       " 'blog': 16438,\n",
       " 'sapna': 86320,\n",
       " 'choudhary': 21546,\n",
       " 'yesterday': 108171,\n",
       " 'campaigning': 18717,\n",
       " 'manoj': 60762,\n",
       " 'tiwari': 99078,\n",
       " 'superbly': 94806,\n",
       " 'summarizedjai': 94670,\n",
       " 'vande': 103352,\n",
       " 'mataramagain': 61385,\n",
       " 'sarkar': 86466,\n",
       " 'prospers': 78990,\n",
       " 'leading': 57056,\n",
       " 'forefront': 38145,\n",
       " 'supported': 94929,\n",
       " 'endeavour': 33872,\n",
       " 'lives': 58120,\n",
       " 'focussed': 37855,\n",
       " 'enabled': 33796,\n",
       " 'empower': 33770,\n",
       " 'sabbash': 85293,\n",
       " 'mera': 62312,\n",
       " 'peppermit': 74433,\n",
       " 'abvp': 5352,\n",
       " 'hold': 45656,\n",
       " 'rallies': 80931,\n",
       " 'seek': 88050,\n",
       " 'amit': 8199,\n",
       " 'shah': 88778,\n",
       " 'beginningmodi': 13921,\n",
       " 'wada': 104948,\n",
       " 'faramoshi': 36374,\n",
       " 'believe': 14079,\n",
       " 'example': 35081,\n",
       " 'lakhs': 56323,\n",
       " 'failed': 35964,\n",
       " 'fulfill': 38940,\n",
       " 'promise': 78637,\n",
       " 'modiji': 64258,\n",
       " 'loves': 58832,\n",
       " 'hates': 43986,\n",
       " 'enemies': 33933,\n",
       " 'destroying': 29088,\n",
       " 'camp': 18691,\n",
       " 'hatedont': 43934,\n",
       " 'defame': 27850,\n",
       " 'humane': 46388,\n",
       " 'kind': 55096,\n",
       " 'pure': 79637,\n",
       " 'limited': 57893,\n",
       " 'prefixes': 77736,\n",
       " 'twitter': 100940,\n",
       " 'perhaps': 74516,\n",
       " 'accurately': 5579,\n",
       " 'capture': 19042,\n",
       " 'takes': 95958,\n",
       " 'dig': 29962,\n",
       " 'saharanpur': 85608,\n",
       " '‘saharanpur': 110858,\n",
       " 'soninlaw': 91835,\n",
       " 'speaks': 92261,\n",
       " 'language': 56502,\n",
       " 'protégé': 79059,\n",
       " 'treading': 100084,\n",
       " 'path': 73696,\n",
       " 'company': 23318,\n",
       " 'head': 44191,\n",
       " 'chowkidhar': 21720,\n",
       " 'protect': 79010,\n",
       " 'tsunami': 100530,\n",
       " 'frenzy': 38633,\n",
       " 'performed': 74503,\n",
       " 'duty': 32354,\n",
       " 'mallaya': 60206,\n",
       " 'wouldnt': 107317,\n",
       " 'lootedsonia': 58639,\n",
       " 'bcoz': 13588,\n",
       " 'mms': 63660,\n",
       " 'weak': 105660,\n",
       " 'incompetency': 47906,\n",
       " 'blatant': 16313,\n",
       " 'misuse': 63518,\n",
       " 'rampant': 81061,\n",
       " 'misgovernance': 63274,\n",
       " 'overt': 72073,\n",
       " 'lies': 57672,\n",
       " 'damaged': 26888,\n",
       " 'mob': 63723,\n",
       " 'worried': 107223,\n",
       " 'loot': 58629,\n",
       " 'send': 88345,\n",
       " 'bars': 13243,\n",
       " 'dreams': 31833,\n",
       " 'looters': 58651,\n",
       " 'including': 47866,\n",
       " 'kejriwal': 54358,\n",
       " 'papers': 72989,\n",
       " 'irani': 50004,\n",
       " 'destroyed': 29076,\n",
       " 'career': 19086,\n",
       " 'remember': 82730,\n",
       " 'feeds': 36880,\n",
       " 'left': 57190,\n",
       " 'old': 70677,\n",
       " 'wife': 106388,\n",
       " 'returned': 83613,\n",
       " 'walay': 105110,\n",
       " 'sab': 85275,\n",
       " 'hain': 43086,\n",
       " 'shi': 89424,\n",
       " 'kha': 54507,\n",
       " 'yadav': 107678,\n",
       " 'contest': 24563,\n",
       " 'mere': 62343,\n",
       " 'bhai': 14719,\n",
       " 'mai': 59895,\n",
       " '2010': 1464,\n",
       " 'graduate': 41804,\n",
       " 'hucongress': 46306,\n",
       " 'kon': 55550,\n",
       " 'rojgaar': 84392,\n",
       " 'faila': 35956,\n",
       " 'rakha': 80878,\n",
       " 'thabhai': 97345,\n",
       " 'chor': 21435,\n",
       " 'strong': 93934,\n",
       " 'came': 18658,\n",
       " 'ago': 6898,\n",
       " 'takenin': 95944,\n",
       " 'create': 25758,\n",
       " 'jobsyr': 52542,\n",
       " 'forward': 38359,\n",
       " 'present': 77858,\n",
       " 'lost': 58739,\n",
       " '45yrhigh': 3275,\n",
       " 'unemployment': 101787,\n",
       " 'dream': 31810,\n",
       " 'whoa': 106222,\n",
       " 'actor': 5927,\n",
       " 'supportive': 94980,\n",
       " 'statement': 93177,\n",
       " 'band': 12798,\n",
       " 'fake': 36064,\n",
       " ...}"
      ]
     },
     "execution_count": 25,
     "metadata": {},
     "output_type": "execute_result"
    }
   ],
   "source": [
    "bow_transformer.vocabulary_"
   ]
  },
  {
   "cell_type": "markdown",
   "id": "610e61f6",
   "metadata": {
    "id": "MZhWFSPylJ9p"
   },
   "source": [
    "Print total number of vocab words"
   ]
  },
  {
   "cell_type": "code",
   "execution_count": 26,
   "id": "a05f91a6",
   "metadata": {
    "colab": {
     "base_uri": "https://localhost:8080/"
    },
    "id": "-HN8DfTdlJ9p",
    "outputId": "02d352f7-ffd6-4168-9d9d-48cc57f029ed"
   },
   "outputs": [
    {
     "name": "stdout",
     "output_type": "stream",
     "text": [
      "112832\n"
     ]
    }
   ],
   "source": [
    "print(len(bow_transformer.vocabulary_))"
   ]
  },
  {
   "cell_type": "markdown",
   "id": "d4956dc8",
   "metadata": {
    "id": "dGQORcvolJ9p"
   },
   "source": [
    "Let's take one text message and get its bag-of-words counts as a vector, putting to use our new bow_transformer"
   ]
  },
  {
   "cell_type": "code",
   "execution_count": 27,
   "id": "1db69cfc",
   "metadata": {
    "colab": {
     "base_uri": "https://localhost:8080/"
    },
    "id": "4N2sQzRQlJ9p",
    "outputId": "f94612a7-61c6-417a-a7ec-31bd4cac3890"
   },
   "outputs": [
    {
     "name": "stdout",
     "output_type": "stream",
     "text": [
      "asking his supporters prefix chowkidar their names modi did great service now there confusion what read what not now crustal clear what will crass filthy nonsensical see how most abuses are coming from chowkidars\n"
     ]
    }
   ],
   "source": [
    "message4 = df['clean_text'][3]\n",
    "print(message4)"
   ]
  },
  {
   "cell_type": "markdown",
   "id": "63709639",
   "metadata": {
    "id": "MvoYflgdlJ9p"
   },
   "source": [
    "Now let's see its vector representation"
   ]
  },
  {
   "cell_type": "code",
   "execution_count": null,
   "id": "43bef97e",
   "metadata": {
    "id": "Of2GljkslJ9q"
   },
   "outputs": [],
   "source": []
  },
  {
   "cell_type": "markdown",
   "id": "6057454f",
   "metadata": {
    "id": "C9YadoLwlJ9q"
   },
   "source": [
    "Now let's transform the entire DataFrame of messages and create sparse matrix"
   ]
  },
  {
   "cell_type": "code",
   "execution_count": 28,
   "id": "b850c847",
   "metadata": {
    "colab": {
     "base_uri": "https://localhost:8080/"
    },
    "id": "o5GzjO27lJ9q",
    "outputId": "a9168a9e-e117-4143-a998-e3d1d36230a3"
   },
   "outputs": [
    {
     "data": {
      "text/plain": [
       "<162969x112832 sparse matrix of type '<class 'numpy.int64'>'\n",
       "\twith 2215985 stored elements in Compressed Sparse Row format>"
      ]
     },
     "execution_count": 28,
     "metadata": {},
     "output_type": "execute_result"
    }
   ],
   "source": [
    "messages_bow = bow_transformer.transform(df['clean_text'])\n",
    "messages_bow\n",
    "\n",
    "# number lai matrix ma transform gareko"
   ]
  },
  {
   "cell_type": "code",
   "execution_count": 29,
   "id": "bf9ddc56",
   "metadata": {
    "colab": {
     "base_uri": "https://localhost:8080/"
    },
    "id": "PYwWNv36lJ9q",
    "outputId": "6264a19e-b9b8-416e-8123-91ed59f80bd0"
   },
   "outputs": [
    {
     "name": "stdout",
     "output_type": "stream",
     "text": [
      "Shape of Sparse Matrix:  (162969, 112832)\n"
     ]
    }
   ],
   "source": [
    "print('Shape of Sparse Matrix: ', messages_bow.shape)"
   ]
  },
  {
   "cell_type": "markdown",
   "id": "168ba817",
   "metadata": {
    "id": "wn1JVK-OlJ9q"
   },
   "source": [
    "# **TF-IDF**"
   ]
  },
  {
   "cell_type": "markdown",
   "id": "abdaa3f0",
   "metadata": {
    "id": "bsV0SbU_lJ9q"
   },
   "source": [
    "Now let's compute term weighting and do normalisation with TF-IDF"
   ]
  },
  {
   "cell_type": "code",
   "execution_count": 30,
   "id": "efffdea0",
   "metadata": {
    "colab": {
     "base_uri": "https://localhost:8080/"
    },
    "id": "dc2a8sNblJ9q",
    "outputId": "166bacee-4af0-44f6-cbf6-c22febc137f1"
   },
   "outputs": [
    {
     "name": "stdout",
     "output_type": "stream",
     "text": [
      "  (0, 111607)\t0.34975903369569306\n",
      "  (0, 107891)\t0.12009173441528022\n",
      "  (0, 96907)\t0.23614292886642765\n",
      "  (0, 95936)\t0.1337514370447974\n",
      "  (0, 93145)\t0.31071467777041273\n",
      "  (0, 82225)\t0.3141595079651891\n",
      "  (0, 79267)\t0.26462988250265107\n",
      "  (0, 78640)\t0.16594562152804404\n",
      "  (0, 63829)\t0.033866764697364535\n",
      "  (0, 61601)\t0.2167078059013421\n",
      "  (0, 53097)\t0.20274976356073604\n",
      "  (0, 52450)\t0.1546968022324282\n",
      "  (0, 41385)\t0.12573664607176369\n",
      "  (0, 41367)\t0.34975903369569306\n",
      "  (0, 40229)\t0.12573664607176369\n",
      "  (0, 35402)\t0.20156720143799137\n",
      "  (0, 35337)\t0.25127387924142786\n",
      "  (0, 29938)\t0.2034011802525193\n",
      "  (0, 18238)\t0.1806607621221735\n",
      "  (0, 13913)\t0.22783786815047255\n",
      "  (1, 104646)\t0.2922915887131828\n",
      "  (1, 96035)\t0.41661828367506837\n",
      "  (1, 69363)\t0.51207589862097\n",
      "  (1, 63829)\t0.08623419605989452\n",
      "  (1, 31680)\t0.4899183006150823\n",
      "  :\t:\n",
      "  (162967, 48072)\t0.15449730007589144\n",
      "  (162967, 43484)\t0.31075183477286294\n",
      "  (162967, 31810)\t0.36470358755890714\n",
      "  (162967, 18658)\t0.3088587800390232\n",
      "  (162967, 15509)\t0.27819907511413666\n",
      "  (162968, 95936)\t0.14269643941849317\n",
      "  (162968, 91703)\t0.1879681913716894\n",
      "  (162968, 84819)\t0.3628257972452286\n",
      "  (162968, 79061)\t0.1596075853006607\n",
      "  (162968, 76470)\t0.16272693216663947\n",
      "  (162968, 67334)\t0.11177918469427346\n",
      "  (162968, 63829)\t0.0361316995444261\n",
      "  (162968, 59949)\t0.2881599370590102\n",
      "  (162968, 59948)\t0.278756888666125\n",
      "  (162968, 58013)\t0.19977569695998254\n",
      "  (162968, 57795)\t0.1108270696393192\n",
      "  (162968, 48239)\t0.1289350060245297\n",
      "  (162968, 45166)\t0.24286821983505555\n",
      "  (162968, 42578)\t0.3608575576143264\n",
      "  (162968, 34808)\t0.17032096418834813\n",
      "  (162968, 34784)\t0.1282593579610556\n",
      "  (162968, 30375)\t0.27322939816008907\n",
      "  (162968, 26406)\t0.21513006920533073\n",
      "  (162968, 11041)\t0.35663322381235796\n",
      "  (162968, 5871)\t0.1859147602439798\n"
     ]
    }
   ],
   "source": [
    "# Normalization\n",
    "from sklearn.feature_extraction.text import TfidfTransformer\n",
    "tfidf_transformer = TfidfTransformer().fit(messages_bow)\n",
    "tfidf4 = tfidf_transformer.transform(messages_bow)\n",
    "print(tfidf4)\n",
    "\n",
    "# mathi number ma convert hunda dherai thulo number vayo so sano number ma convert gareko\n",
    "# 0 index ma vayeko () word lai () ma change gareko"
   ]
  },
  {
   "cell_type": "code",
   "execution_count": 22,
   "id": "4714a920",
   "metadata": {
    "colab": {
     "base_uri": "https://localhost:8080/"
    },
    "id": "5_vZ-WynFevv",
    "outputId": "5954a6c9-1831-404f-d55b-da028069496a"
   },
   "outputs": [
    {
     "name": "stdout",
     "output_type": "stream",
     "text": [
      "(2225, 32955)\n"
     ]
    }
   ],
   "source": [
    "print(tfidf4.shape)"
   ]
  },
  {
   "cell_type": "code",
   "execution_count": null,
   "id": "11f915ae",
   "metadata": {
    "id": "eSW_141wlJ9q"
   },
   "outputs": [],
   "source": [
    "# from sklearn.svm import SVC\n",
    "# from datetime import datetime\n",
    "# start_time = datetime.now()\n",
    "\n",
    "# model = SVC()\n",
    "# model.fit(x_train,y_train)\n",
    "\n",
    "# end_time = datetime.now()\n",
    "# process_time = round(end_time-start_time,2)\n",
    "# print(\"Fitting SVC took {} seconds\".format(process_time))"
   ]
  },
  {
   "cell_type": "markdown",
   "id": "dc7a078a",
   "metadata": {
    "id": "EPMhQPrWlJ9s"
   },
   "source": [
    "**Train Test Split**"
   ]
  },
  {
   "cell_type": "code",
   "execution_count": 31,
   "id": "e7976d54",
   "metadata": {
    "id": "KxEdmsSblJ9s"
   },
   "outputs": [],
   "source": [
    "from sklearn.model_selection import train_test_split\n",
    "\n",
    "text_train, text_test, label_train, label_test = train_test_split(df['clean_text'], df['category'], test_size=0.2,shuffle=True)\n",
    "\n"
   ]
  },
  {
   "cell_type": "code",
   "execution_count": null,
   "id": "4d47f5a6",
   "metadata": {
    "id": "_y7dmrn_MVlD"
   },
   "outputs": [],
   "source": []
  },
  {
   "cell_type": "markdown",
   "id": "5a656b9b",
   "metadata": {
    "id": "Mx-eGRKLlJ9s"
   },
   "source": [
    "**Creating a Data Pipeline**"
   ]
  },
  {
   "cell_type": "markdown",
   "id": "d52d7fab",
   "metadata": {
    "id": "YZlcSYxllJ9s"
   },
   "source": [
    "Let's run our model again and then predict the test set. We will create and use a pipeline for this purpose"
   ]
  },
  {
   "cell_type": "code",
   "execution_count": 32,
   "id": "811cc6a7",
   "metadata": {
    "id": "3kWZMv87lJ9s"
   },
   "outputs": [],
   "source": [
    "from sklearn.pipeline import Pipeline\n",
    "from sklearn.svm import SVC\n",
    "pipeline = Pipeline([\n",
    "    ('bow', CountVectorizer()),  # strings to token integer counts\n",
    "    ('tfidf', TfidfTransformer()),  # integer counts to weighted TF-IDF scores\n",
    "    ('classifier', SVC()),  # train on TF-IDF vectors w/ SVM\n",
    "])\n",
    "\n",
    "# svc= support vector classifier"
   ]
  },
  {
   "cell_type": "code",
   "execution_count": null,
   "id": "4195f71b",
   "metadata": {
    "colab": {
     "base_uri": "https://localhost:8080/",
     "height": 159
    },
    "id": "1Mb0uqYnlJ9s",
    "outputId": "f1e3441f-a300-4280-8e7f-fc851f8f2b7e"
   },
   "outputs": [],
   "source": [
    "pipeline.fit(text_train,label_train)"
   ]
  },
  {
   "cell_type": "code",
   "execution_count": null,
   "id": "1b11d82a",
   "metadata": {
    "colab": {
     "base_uri": "https://localhost:8080/"
    },
    "id": "HDs32nV8oaDH",
    "outputId": "de4fe1f6-55ec-4186-e3eb-4907e2902171"
   },
   "outputs": [],
   "source": [
    "text_test.iloc[1:2].values"
   ]
  },
  {
   "cell_type": "code",
   "execution_count": null,
   "id": "030c646d",
   "metadata": {
    "colab": {
     "base_uri": "https://localhost:8080/"
    },
    "id": "0M4Kp0dMlJ9s",
    "outputId": "1fbde982-78b5-4393-b7a5-ebc0f9f18c7a"
   },
   "outputs": [],
   "source": [
    "predictions = pipeline.predict(text_test)\n",
    "predictions"
   ]
  },
  {
   "cell_type": "code",
   "execution_count": null,
   "id": "9d5f06f4",
   "metadata": {
    "id": "mucrOr61Ngz7"
   },
   "outputs": [],
   "source": [
    "class_names = np.array(['-1.0','0.0','1.0'])"
   ]
  },
  {
   "cell_type": "markdown",
   "id": "eafbde3c",
   "metadata": {
    "id": "oA56sAtQlJ9s"
   },
   "source": [
    "# **Making Confusion Matrix**"
   ]
  },
  {
   "cell_type": "markdown",
   "id": "2cb577d3",
   "metadata": {
    "id": "wtus9uuylJ9t"
   },
   "source": [
    "Confusion Matrix is going to contain the correct predictions that our model made on the set as well as the incorrect predictions."
   ]
  },
  {
   "cell_type": "code",
   "execution_count": null,
   "id": "f31444cd",
   "metadata": {
    "colab": {
     "base_uri": "https://localhost:8080/"
    },
    "id": "ygYWN4MPlJ9t",
    "outputId": "8ba2e91a-354e-4335-f9fd-fc8273e6a615"
   },
   "outputs": [],
   "source": [
    "from sklearn.metrics import confusion_matrix,classification_report\n",
    "cm = confusion_matrix(label_test,predictions)\n",
    "print(cm)"
   ]
  },
  {
   "cell_type": "code",
   "execution_count": null,
   "id": "1ed5acd0",
   "metadata": {
    "colab": {
     "base_uri": "https://localhost:8080/"
    },
    "id": "-iwhadJ2pNup",
    "outputId": "695a3331-959a-4e62-df29-b9fc9f724f03"
   },
   "outputs": [],
   "source": [
    "# confusion matrix and classification report(precision, recall, F1-score)\n",
    "# ytest = np.array(label_test)\n",
    "print(classification_report(pipeline.predict(text_test),label_test))"
   ]
  },
  {
   "cell_type": "code",
   "execution_count": null,
   "id": "5a5c4320",
   "metadata": {
    "colab": {
     "base_uri": "https://localhost:8080/",
     "height": 661
    },
    "id": "Z6xnyFAmM367",
    "outputId": "c774473e-3c0d-4db9-f680-199f64e3c916"
   },
   "outputs": [],
   "source": [
    "import matplotlib.pyplot as plt\n",
    "from sklearn.metrics import ConfusionMatrixDisplay\n",
    "# Change figure size and increase dpi for better resolution\n",
    "# and get reference to axes object\n",
    "fig, ax = plt.subplots(figsize=(8,8), dpi=100)\n",
    "class_names = np.array(['-1.0','0.0','1.0'])\n",
    "\n",
    "# initialize using the raw 2D confusion matrix\n",
    "# and output labels (in our case, it's 0 and 1)\n",
    "display = ConfusionMatrixDisplay(cm, display_labels=class_names)\n",
    "\n",
    "# set the plot title using the axes object\n",
    "ax.set(title='Confusion Matrix for the twitter sentiment using svm')\n",
    "\n",
    "# show the plot.\n",
    "# Pass the parameter ax to show customizations (ex. title)\n",
    "display.plot(ax=ax);"
   ]
  },
  {
   "cell_type": "code",
   "execution_count": null,
   "id": "21f47432",
   "metadata": {
    "colab": {
     "base_uri": "https://localhost:8080/"
    },
    "id": "XYCCPjhPlJ9t",
    "outputId": "4e84a579-46dd-4bfb-b128-efb08f5253f0"
   },
   "outputs": [],
   "source": [
    "from sklearn import metrics\n",
    "print(\"Accuracy:\",metrics.accuracy_score(predictions,label_test))"
   ]
  },
  {
   "cell_type": "code",
   "execution_count": null,
   "id": "86b4bb21",
   "metadata": {
    "colab": {
     "base_uri": "https://localhost:8080/"
    },
    "id": "iqvzBPqWq-wH",
    "outputId": "b58707f7-7d89-41e0-dd4e-05ff258c5175"
   },
   "outputs": [],
   "source": [
    "# file = open('/content/news.txt','r')\n",
    "# news = file.read()\n",
    "# file.close()\n",
    "\n",
    "news = input(\"Enter news = \")\n",
    "news_data = {'predict_news':[news]}\n",
    "news_data_df = pd.DataFrame(news_data)\n",
    "\n",
    "predict_news_cat = pipeline.predict(news_data_df['predict_news'])\n",
    "print(\"Predicted news category = \",predict_news_cat[0])"
   ]
  },
  {
   "cell_type": "code",
   "execution_count": null,
   "id": "9a669e0e",
   "metadata": {
    "id": "e87o-r6eus75"
   },
   "outputs": [],
   "source": []
  },
  {
   "cell_type": "code",
   "execution_count": null,
   "id": "6d493695",
   "metadata": {},
   "outputs": [],
   "source": []
  }
 ],
 "metadata": {
  "kernelspec": {
   "display_name": "Python 3 (ipykernel)",
   "language": "python",
   "name": "python3"
  },
  "language_info": {
   "codemirror_mode": {
    "name": "ipython",
    "version": 3
   },
   "file_extension": ".py",
   "mimetype": "text/x-python",
   "name": "python",
   "nbconvert_exporter": "python",
   "pygments_lexer": "ipython3",
   "version": "3.11.4"
  }
 },
 "nbformat": 4,
 "nbformat_minor": 5
}
