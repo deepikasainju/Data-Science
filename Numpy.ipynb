{
 "cells": [
  {
   "cell_type": "code",
   "execution_count": 2,
   "id": "f851f016",
   "metadata": {},
   "outputs": [
    {
     "name": "stdout",
     "output_type": "stream",
     "text": [
      "Requirement already satisfied: numpy in c:\\users\\deepika sainju\\anaconda\\lib\\site-packages (1.24.3)\n"
     ]
    }
   ],
   "source": [
    "# for vs code\n",
    "!pip install numpy"
   ]
  },
  {
   "cell_type": "code",
   "execution_count": 1,
   "id": "8ef99e89",
   "metadata": {},
   "outputs": [
    {
     "name": "stdout",
     "output_type": "stream",
     "text": [
      "1.24.3\n"
     ]
    }
   ],
   "source": [
    "import numpy as np\n",
    "print(np.__version__)"
   ]
  },
  {
   "cell_type": "code",
   "execution_count": 5,
   "id": "dd4fe961",
   "metadata": {},
   "outputs": [
    {
     "data": {
      "text/plain": [
       "array([ 1,  2,  3,  4,  5,  6,  7,  8,  9, 10])"
      ]
     },
     "execution_count": 5,
     "metadata": {},
     "output_type": "execute_result"
    }
   ],
   "source": [
    "l=[1,2,3,4,5,6,7,8,9,10]\n",
    "# converting list to numpy array\n",
    "np_array= np.array(l)\n",
    "np_array"
   ]
  },
  {
   "cell_type": "code",
   "execution_count": 6,
   "id": "6eb8caff",
   "metadata": {},
   "outputs": [
    {
     "name": "stdout",
     "output_type": "stream",
     "text": [
      "[ 6  7  8  9 10 11 12 13 14 15]\n",
      "[-4 -3 -2 -1  0  1  2  3  4  5]\n",
      "[ 5 10 15 20 25 30 35 40 45 50]\n",
      "[0.2 0.4 0.6 0.8 1.  1.2 1.4 1.6 1.8 2. ]\n"
     ]
    }
   ],
   "source": [
    "# numpy array is made for computational operations rather than saving values\n",
    "print(np_array+5)\n",
    "print(np_array-5)\n",
    "print(np_array*5)\n",
    "print(np_array/5)"
   ]
  },
  {
   "cell_type": "code",
   "execution_count": 7,
   "id": "5a4a0797",
   "metadata": {},
   "outputs": [
    {
     "data": {
      "text/plain": [
       "array([ 1,  2,  3,  4,  5,  6,  7,  8,  9, 10])"
      ]
     },
     "execution_count": 7,
     "metadata": {},
     "output_type": "execute_result"
    }
   ],
   "source": [
    "np_array"
   ]
  },
  {
   "cell_type": "code",
   "execution_count": 8,
   "id": "a95cc549",
   "metadata": {},
   "outputs": [
    {
     "name": "stdout",
     "output_type": "stream",
     "text": [
      "(10,)\n"
     ]
    }
   ],
   "source": [
    "# shape of array\n",
    "l=[1,2,3,4,5,6,7,8,9,10]\n",
    "np_array= np.array(l)\n",
    "print(np_array.shape)"
   ]
  },
  {
   "cell_type": "code",
   "execution_count": 9,
   "id": "cdcaea77",
   "metadata": {},
   "outputs": [
    {
     "name": "stdout",
     "output_type": "stream",
     "text": [
      "(3, 3)\n"
     ]
    }
   ],
   "source": [
    "# numpy ma symmetric data ma kaam hunxa= no of columns same huna parxa\n",
    "l=[[1,2,3],\n",
    "   [4,5,6],\n",
    "   [7,8,9]]\n",
    "np_array= np.array(l)\n",
    "print(np_array.shape)\n",
    "# rows and column "
   ]
  },
  {
   "cell_type": "code",
   "execution_count": 10,
   "id": "b239ead7",
   "metadata": {},
   "outputs": [
    {
     "name": "stdout",
     "output_type": "stream",
     "text": [
      "int32\n"
     ]
    }
   ],
   "source": [
    "print(np_array.dtype)\n",
    "# int data type 32 bit taken"
   ]
  },
  {
   "cell_type": "code",
   "execution_count": 12,
   "id": "1f75462c",
   "metadata": {},
   "outputs": [
    {
     "name": "stdout",
     "output_type": "stream",
     "text": [
      "(3, 3, 1)\n",
      "int32\n"
     ]
    }
   ],
   "source": [
    "l=[[[1],[2],[3]],\n",
    "   [[4],[5],[6]],\n",
    "   [[7],[8],[9]]]\n",
    "np_array= np.array(l)\n",
    "print(np_array.shape)\n",
    "print(np_array.dtype)"
   ]
  },
  {
   "cell_type": "code",
   "execution_count": null,
   "id": "2f291861",
   "metadata": {},
   "outputs": [],
   "source": [
    "# np array ma numerical values matra use hunxa"
   ]
  },
  {
   "cell_type": "code",
   "execution_count": 13,
   "id": "393ef65a",
   "metadata": {},
   "outputs": [
    {
     "name": "stdout",
     "output_type": "stream",
     "text": [
      "[[0. 0. 0.]\n",
      " [0. 0. 0.]\n",
      " [0. 0. 0.]]\n",
      "[[1. 1. 1.]\n",
      " [1. 1. 1.]\n",
      " [1. 1. 1.]]\n"
     ]
    }
   ],
   "source": [
    "print(np.zeros((3,3)))\n",
    "print(np.ones((3,3)))\n",
    "# sabai matirx values 0 ra 1 vayeko banauxa"
   ]
  },
  {
   "cell_type": "code",
   "execution_count": 3,
   "id": "cc92c29f",
   "metadata": {},
   "outputs": [
    {
     "data": {
      "text/plain": [
       "array([[1, 2],\n",
       "       [3, 4],\n",
       "       [5, 6]])"
      ]
     },
     "execution_count": 3,
     "metadata": {},
     "output_type": "execute_result"
    }
   ],
   "source": [
    "l=[[1,2,3],\n",
    "   [4,5,6]]\n",
    "np_array= np.array(l)\n",
    "np_array.reshape(3,2)\n",
    "# 2*3 matrix lai 3*2 ma change gareko"
   ]
  },
  {
   "cell_type": "code",
   "execution_count": 4,
   "id": "5ae58f7e",
   "metadata": {},
   "outputs": [
    {
     "name": "stdout",
     "output_type": "stream",
     "text": [
      "[[1 2]\n",
      " [3 4]\n",
      " [5 6]]\n",
      "[[1 2 3]\n",
      " [4 5 6]]\n",
      "[[1 2 3 4 5 6]]\n",
      "[[1]\n",
      " [2]\n",
      " [3]\n",
      " [4]\n",
      " [5]\n",
      " [6]]\n"
     ]
    }
   ],
   "source": [
    "# 6-> 2*3\n",
    "# 6-> 3*2\n",
    "# 6-> 1*6\n",
    "# 6-> 6*1\n",
    "print(np_array.reshape(3,2))\n",
    "print(np_array.reshape(2,3))\n",
    "print(np_array.reshape(1,6))\n",
    "print(np_array.reshape(6,1))"
   ]
  },
  {
   "cell_type": "code",
   "execution_count": 5,
   "id": "4b9f39e7",
   "metadata": {},
   "outputs": [
    {
     "data": {
      "text/plain": [
       "array([1, 2, 3, 4, 5, 6])"
      ]
     },
     "execution_count": 5,
     "metadata": {},
     "output_type": "execute_result"
    }
   ],
   "source": [
    "np_array.flatten()"
   ]
  },
  {
   "cell_type": "code",
   "execution_count": 16,
   "id": "06c9cb7a",
   "metadata": {},
   "outputs": [
    {
     "data": {
      "text/plain": [
       "array([ 4,  6,  8, 10, 12, 14, 16, 11, 13])"
      ]
     },
     "execution_count": 16,
     "metadata": {},
     "output_type": "execute_result"
    }
   ],
   "source": [
    "a=np.array([1,2,3,4,5,6,7,8,9])\n",
    "b=np.array([3,4,5,6,7,8,9,3,4])\n",
    "a+b"
   ]
  },
  {
   "cell_type": "code",
   "execution_count": 17,
   "id": "abfa0b9e",
   "metadata": {},
   "outputs": [
    {
     "data": {
      "text/plain": [
       "array([1, 2, 3, 4, 5, 6, 7, 8, 9, 3, 4, 5, 6, 7, 8, 9, 3, 4])"
      ]
     },
     "execution_count": 17,
     "metadata": {},
     "output_type": "execute_result"
    }
   ],
   "source": [
    "np.hstack((a,b))\n",
    "# horizontal append"
   ]
  },
  {
   "cell_type": "code",
   "execution_count": 18,
   "id": "d47b8fe2",
   "metadata": {},
   "outputs": [
    {
     "data": {
      "text/plain": [
       "array([[1, 2, 3, 4, 5, 6, 7, 8, 9],\n",
       "       [3, 4, 5, 6, 7, 8, 9, 3, 4]])"
      ]
     },
     "execution_count": 18,
     "metadata": {},
     "output_type": "execute_result"
    }
   ],
   "source": [
    "np.vstack((a,b))\n",
    "# vertical append"
   ]
  },
  {
   "cell_type": "code",
   "execution_count": 19,
   "id": "25f590b1",
   "metadata": {},
   "outputs": [
    {
     "name": "stdout",
     "output_type": "stream",
     "text": [
      "[[5 6]\n",
      " [8 1]]\n"
     ]
    }
   ],
   "source": [
    "# random integers between 0,10 of shape 2,2\n",
    "print(np.random.randint(0,10,size=[2,2]))"
   ]
  },
  {
   "cell_type": "code",
   "execution_count": 20,
   "id": "4d225637",
   "metadata": {},
   "outputs": [
    {
     "name": "stdout",
     "output_type": "stream",
     "text": [
      "[[115 190  26  70   2  86 201 171]\n",
      " [ 88 202 161 108 153  90  90  86]\n",
      " [ 76   4  63 105 232  46  28 219]\n",
      " [225 117  77   2 115 143  33  79]\n",
      " [133  52 144  76  24 159   4  25]\n",
      " [ 33 247 233 227 120 167 130  94]\n",
      " [225  53 218 184 176  29  56 206]\n",
      " [ 60 143 216  91   5 145  51 165]]\n"
     ]
    }
   ],
   "source": [
    "print(np.random.randint(0,256,size=[8,8]))"
   ]
  },
  {
   "cell_type": "code",
   "execution_count": 21,
   "id": "95b66c1e",
   "metadata": {},
   "outputs": [
    {
     "name": "stdout",
     "output_type": "stream",
     "text": [
      "['a' 'o' 'u' 'i' 'e' 'o' 'i' 'a' 'o' 'u']\n"
     ]
    }
   ],
   "source": [
    "print(np.random.choice(['a','e','i','o','u'],size=10))\n",
    "# a e i o u milayera random array banaune"
   ]
  },
  {
   "cell_type": "code",
   "execution_count": 22,
   "id": "365e21d0",
   "metadata": {},
   "outputs": [
    {
     "name": "stdout",
     "output_type": "stream",
     "text": [
      "['u' 'a' 'o' 'o' 'a' 'o' 'a' 'o' 'e' 'a']\n"
     ]
    }
   ],
   "source": [
    "print(np.random.choice(['a','e','i','o','u'],size=10, p=[0.3, 0.1, 0.1, 0.4, 0.1]))\n",
    "# probability anusar characters print hunxa"
   ]
  },
  {
   "cell_type": "code",
   "execution_count": 2,
   "id": "bf2f8c28",
   "metadata": {},
   "outputs": [
    {
     "name": "stdout",
     "output_type": "stream",
     "text": [
      "min value= 1\n",
      "max value= 10\n",
      "sum value= 55\n",
      "mean value= 5.5\n",
      "median value= 5.5\n",
      "std value= 2.8722813232690143\n"
     ]
    }
   ],
   "source": [
    "# Statistical function\n",
    "a=np.array([1,2,3,4,5,6,7,8,9,10])\n",
    "print(\"min value=\",np.min(a))\n",
    "print(\"max value=\",np.max(a))\n",
    "print(\"sum value=\",np.sum(a))\n",
    "print(\"mean value=\",np.mean(a))\n",
    "print(\"median value=\",np.median(a))\n",
    "print(\"std value=\",np.std(a))"
   ]
  },
  {
   "cell_type": "code",
   "execution_count": 3,
   "id": "bfab4dc1",
   "metadata": {},
   "outputs": [
    {
     "data": {
      "text/plain": [
       "array([1, 2, 3, 4, 5, 6, 7, 8, 9])"
      ]
     },
     "execution_count": 3,
     "metadata": {},
     "output_type": "execute_result"
    }
   ],
   "source": [
    "# arange\n",
    "np.arange(1,10)"
   ]
  },
  {
   "cell_type": "code",
   "execution_count": 4,
   "id": "b4de70e6",
   "metadata": {},
   "outputs": [
    {
     "data": {
      "text/plain": [
       "array([1. , 1.1, 1.2, 1.3, 1.4, 1.5, 1.6, 1.7, 1.8, 1.9, 2. , 2.1, 2.2,\n",
       "       2.3, 2.4, 2.5, 2.6, 2.7, 2.8, 2.9, 3. , 3.1, 3.2, 3.3, 3.4, 3.5,\n",
       "       3.6, 3.7, 3.8, 3.9, 4. , 4.1, 4.2, 4.3, 4.4, 4.5, 4.6, 4.7, 4.8,\n",
       "       4.9, 5. , 5.1, 5.2, 5.3, 5.4, 5.5, 5.6, 5.7, 5.8, 5.9, 6. , 6.1,\n",
       "       6.2, 6.3, 6.4, 6.5, 6.6, 6.7, 6.8, 6.9, 7. , 7.1, 7.2, 7.3, 7.4,\n",
       "       7.5, 7.6, 7.7, 7.8, 7.9, 8. , 8.1, 8.2, 8.3, 8.4, 8.5, 8.6, 8.7,\n",
       "       8.8, 8.9, 9. , 9.1, 9.2, 9.3, 9.4, 9.5, 9.6, 9.7, 9.8, 9.9])"
      ]
     },
     "execution_count": 4,
     "metadata": {},
     "output_type": "execute_result"
    }
   ],
   "source": [
    "np.arange(1,10,0.1)\n",
    "# 0.1 ko gap ma print hunxa"
   ]
  },
  {
   "cell_type": "code",
   "execution_count": 5,
   "id": "c0a92c95",
   "metadata": {},
   "outputs": [
    {
     "data": {
      "text/plain": [
       "5"
      ]
     },
     "execution_count": 5,
     "metadata": {},
     "output_type": "execute_result"
    }
   ],
   "source": [
    "# argmax\n",
    "a=np.array([34,56,78,65,83,111])\n",
    "np.argmax(a)\n",
    "# largest value ko index return garxa"
   ]
  },
  {
   "cell_type": "code",
   "execution_count": 8,
   "id": "3eac2685",
   "metadata": {},
   "outputs": [
    {
     "name": "stdout",
     "output_type": "stream",
     "text": [
      "[[154 236 128 203 160 209 158  53]\n",
      " [ 53  80 232 192  61 138  18  75]\n",
      " [229 183 125 187  20  31   5 228]\n",
      " [237 229  24 103 217 158   9  67]\n",
      " [ 54 119 163  38 154 205 236 254]\n",
      " [158  76 157 203  10 255  90 105]\n",
      " [228 196 105 162 153 158  42 231]\n",
      " [ 12 107 153 233 255   9  10  15]]\n"
     ]
    },
    {
     "data": {
      "text/plain": [
       "-6.701110087077018e+17"
      ]
     },
     "execution_count": 8,
     "metadata": {},
     "output_type": "execute_result"
    }
   ],
   "source": [
    "# scipy= numpy ley garna nasakne complex operations garxa\n",
    "# linalg= linear algebra\n",
    "import scipy.linalg as slin\n",
    "import numpy as np\n",
    "np_array=np.random.randint(0, 256, size=[8,8])\n",
    "print(np_array)\n",
    "slin.det(np_array)"
   ]
  },
  {
   "cell_type": "code",
   "execution_count": 9,
   "id": "6898aa48",
   "metadata": {},
   "outputs": [
    {
     "name": "stdout",
     "output_type": "stream",
     "text": [
      "[[4 7 1]\n",
      " [2 8 2]\n",
      " [0 3 7]]\n"
     ]
    },
    {
     "data": {
      "text/plain": [
       "19"
      ]
     },
     "execution_count": 9,
     "metadata": {},
     "output_type": "execute_result"
    }
   ],
   "source": [
    "# trace=diagonal element ko sum\n",
    "np_array=np.random.randint(0, 10, size=[3,3])\n",
    "print(np_array)\n",
    "np.trace(np_array)"
   ]
  },
  {
   "cell_type": "code",
   "execution_count": 10,
   "id": "1744fbd1",
   "metadata": {},
   "outputs": [
    {
     "data": {
      "text/plain": [
       "array([[-0.10667808,  0.16871902,  0.03478689,  0.08636764, -0.07630373,\n",
       "        -0.26133072,  0.16816767,  0.0714122 ],\n",
       "       [-0.03730416, -0.11838915, -0.02247967,  0.01595648,  0.22553417,\n",
       "        -0.07718762, -0.12100463,  0.19501164],\n",
       "       [-0.06993475,  0.12383462, -0.07103315,  0.06628635, -0.12933264,\n",
       "        -0.01258634,  0.04348448,  0.07428871],\n",
       "       [ 0.12890017, -0.05406269,  0.03201979, -0.14873422,  0.00599165,\n",
       "         0.11339425,  0.10912471, -0.15977591],\n",
       "       [ 0.6660596 , -0.60684091,  0.20572166, -0.52059388,  0.34340815,\n",
       "         0.41918638, -0.29410346, -0.28759061],\n",
       "       [-0.19955254,  0.16252578, -0.06752861,  0.24200065, -0.22795581,\n",
       "        -0.04010228,  0.12075308,  0.04641612],\n",
       "       [ 0.01863399,  0.03779866, -0.04128596,  0.07253386,  0.03795889,\n",
       "        -0.0042592 , -0.07645536, -0.0266062 ],\n",
       "       [-0.03440353,  0.14542352,  0.08963268, -0.05948404, -0.15514972,\n",
       "         0.15072081,  0.02835158, -0.17256039]])"
      ]
     },
     "execution_count": 10,
     "metadata": {},
     "output_type": "execute_result"
    }
   ],
   "source": [
    "np_array=np.random.randint(0, 10, size=[8,8])\n",
    "slin.inv(np_array)"
   ]
  },
  {
   "cell_type": "code",
   "execution_count": 11,
   "id": "57a7cac6",
   "metadata": {},
   "outputs": [
    {
     "data": {
      "text/plain": [
       "array([[ 1.  , -1.75],\n",
       "       [-1.  ,  2.  ]])"
      ]
     },
     "execution_count": 11,
     "metadata": {},
     "output_type": "execute_result"
    }
   ],
   "source": [
    "np_array=np.random.randint(0, 10, size=[2,2])\n",
    "slin.inv(np_array)"
   ]
  },
  {
   "cell_type": "code",
   "execution_count": 13,
   "id": "38940c46",
   "metadata": {},
   "outputs": [
    {
     "name": "stdout",
     "output_type": "stream",
     "text": [
      "[[7 8 6]\n",
      " [0 9 9]\n",
      " [1 1 8]]\n"
     ]
    },
    {
     "data": {
      "text/plain": [
       "array([[7, 0, 1],\n",
       "       [8, 9, 1],\n",
       "       [6, 9, 8]])"
      ]
     },
     "execution_count": 13,
     "metadata": {},
     "output_type": "execute_result"
    }
   ],
   "source": [
    "np_array=np.random.randint(0, 10, size=[3,3])\n",
    "print(np_array)\n",
    "np.transpose(np_array)"
   ]
  },
  {
   "cell_type": "code",
   "execution_count": 14,
   "id": "d53b4b6b",
   "metadata": {},
   "outputs": [
    {
     "data": {
      "text/plain": [
       "matrix([[10],\n",
       "        [19],\n",
       "        [ 5]])"
      ]
     },
     "execution_count": 14,
     "metadata": {},
     "output_type": "execute_result"
    }
   ],
   "source": [
    "a=np.matrix([[1,2,3],\n",
    "            [3,4,2],\n",
    "            [1,0,2]])\n",
    "b=np.matrix([[3],\n",
    "            [2],\n",
    "            [1]])\n",
    "a*b"
   ]
  },
  {
   "cell_type": "code",
   "execution_count": 15,
   "id": "3754b201",
   "metadata": {},
   "outputs": [
    {
     "data": {
      "text/plain": [
       "(array([ 1.27082039e+01, -7.08203932e-01, -2.65381787e-17]),\n",
       " array([[ 0.28907816,  0.90041255,  0.40824829],\n",
       "        [ 0.67691721, -0.30761765, -0.81649658],\n",
       "        [ 0.67691721, -0.30761765,  0.40824829]]))"
      ]
     },
     "execution_count": 15,
     "metadata": {},
     "output_type": "execute_result"
    }
   ],
   "source": [
    "# eigen value problem\n",
    "# to find the intersection points between linear lines\n",
    "# find value of x y z in any 3 equations\n",
    "# x1+y1+z1=a\n",
    "# x2+y2+z2=b\n",
    "# x3+y3+z3=c\n",
    "mat=np.array([[1,2,3],[4,5,6],[4,5,6]])\n",
    "np.linalg.eig(mat)"
   ]
  },
  {
   "cell_type": "code",
   "execution_count": 19,
   "id": "8a2b2c78",
   "metadata": {},
   "outputs": [
    {
     "data": {
      "text/plain": [
       "array([ 2.,  3., -3.])"
      ]
     },
     "execution_count": 19,
     "metadata": {},
     "output_type": "execute_result"
    }
   ],
   "source": [
    "import numpy as np\n",
    "a=np.array([[1,1,1],\n",
    "           [1,5,4],\n",
    "           [3,2,2]])\n",
    "b=np.array([2,5,6])\n",
    "np.linalg.solve(a,b)"
   ]
  },
  {
   "cell_type": "code",
   "execution_count": null,
   "id": "38540d7f",
   "metadata": {},
   "outputs": [],
   "source": []
  }
 ],
 "metadata": {
  "kernelspec": {
   "display_name": "Python 3 (ipykernel)",
   "language": "python",
   "name": "python3"
  },
  "language_info": {
   "codemirror_mode": {
    "name": "ipython",
    "version": 3
   },
   "file_extension": ".py",
   "mimetype": "text/x-python",
   "name": "python",
   "nbconvert_exporter": "python",
   "pygments_lexer": "ipython3",
   "version": "3.11.4"
  }
 },
 "nbformat": 4,
 "nbformat_minor": 5
}
